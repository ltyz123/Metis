{
 "cells": [
  {
   "cell_type": "code",
   "execution_count": 5,
   "metadata": {},
   "outputs": [],
   "source": [
    "h_dataset = [['Item Size: M', 'Overall Fit: True to Size', '165', '87', '71', '90', '34'],\n",
    " ['Item Size: XS', 'Overall Fit: True to Size', '160', '89', '61', '94', '32'],\n",
    " ['Item Size: XS', 'Overall Fit: True to Size', '150', '77', '61', '85', '32'],\n",
    " ['Item Size: S', 'Overall Fit: True to Size', '154', '91', '63', '93', '32'],\n",
    " ['Item Size: XS', 'Overall Fit: Small', '159', '85', '65', '86', '32'],\n",
    " ['Item Size: M', 'Overall Fit: True to Size', '164', '96', '76', '102', '36'],\n",
    " ['Item Size: M', 'Overall Fit: True to Size', '138', '92', '75', '102', '38'],\n",
    " ['Item Size: XS', 'Overall Fit: True to Size', '163', '78', '66', '82', '32'],\n",
    " ['Item Size: M', 'Overall Fit: True to Size', '149', '82', '71', '87', '32'],\n",
    " ['Item Size: M', 'Overall Fit: True to Size', '165', '90', '73', '99', '32'],\n",
    " ['Item Size: M', 'Overall Fit: True to Size', '138', '75', '67', '84', '32'],\n",
    " ['Item Size: S', 'Overall Fit: Large', '157', '87', '65', '82', '32'],\n",
    " ['Item Size: M', 'Overall Fit: Large', '166', '74', '64', '80', '36'],\n",
    " ['Item Size: M', 'Overall Fit: Small', '165', '83', '73', '87', '32'],\n",
    " ['Item Size: S', 'Overall Fit: Small', '150', '88', '63', '83', '34'],\n",
    " ['Item Size: L', 'Overall Fit: Large', '165', '85', '75', '90', '36'],\n",
    " ['Item Size: S', 'Overall Fit: True to Size', '30', '137', '70', '60', '80'],\n",
    " ['Item Size: XS', 'Overall Fit: Small', '158', '87', '62', '89', '32'],\n",
    " ['Item Size: L', 'Overall Fit: True to Size', '165', '93', '70', '99', '36'],\n",
    " ['Item Size: M', 'Overall Fit: True to Size', '144', '94', '68', '85', '34'],\n",
    " ['Item Size: L', 'Overall Fit: True to Size', '161', '96', '72', '98', '32'],\n",
    " ['Item Size: S', 'Overall Fit: True to Size', '158', '87', '70', '90', '32'],\n",
    " ['Item Size: L', 'Overall Fit: True to Size', '164', '94', '70', '101', '36'],\n",
    " ['Item Size: M', 'Overall Fit: True to Size', '152', '70', '60', '80', '36'],\n",
    " ['Item Size: M', 'Overall Fit: True to Size', '154', '91', '72', '91', '34'],\n",
    " ['Item Size: M', 'Overall Fit: True to Size', '152', '87', '64', '91', '34'],\n",
    " ['Item Size: XS', 'Overall Fit: True to Size', '141', '73', '66', '84', '34'],\n",
    " ['Item Size: S', 'Overall Fit: Small', '158', '84', '71', '83', '32'],\n",
    " ['Item Size: XS', 'Overall Fit: Large', '50', '152', '87', '66', '81'],\n",
    " ['Item Size: S', 'Overall Fit: True to Size', '159', '87', '71', '84', '34'],\n",
    " ['Item Size: S', 'Overall Fit: True to Size', '137', '70', '60', '80', '32'],\n",
    " ['Item Size: M', 'Overall Fit: True to Size', '153', '88', '71', '94', '34'],\n",
    " ['Item Size: S', 'Overall Fit: True to Size', '173', '83', '66', '91', '34'],\n",
    " ['Item Size: S', 'Overall Fit: True to Size', '159', '82', '68', '85', '32'],\n",
    " ['Item Size: L',\n",
    "  'Overall Fit: True to Size',\n",
    "  '146',\n",
    "  '103',\n",
    "  '78',\n",
    "  '104',\n",
    "  '36'],\n",
    " ['Item Size: S', 'Overall Fit: True to Size', '163', '87', '69', '91', '34'],\n",
    " ['Item Size: M', 'Overall Fit: Small', '149', '93', '80', '93', '36'],\n",
    " ['Item Size: M', 'Overall Fit: True to Size', '143', '70', '60', '84', '34'],\n",
    " ['Item Size: XS', 'Overall Fit: True to Size', '137', '70', '61', '81', '34'],\n",
    " ['Item Size: M', 'Overall Fit: True to Size', '160', '94', '74', '94', '36'],\n",
    " ['Item Size: S', 'Overall Fit: True to Size', '160', '91', '64', '100', '34'],\n",
    " ['Item Size: L', 'Overall Fit: True to Size', '155', '98', '77', '98', '36'],\n",
    " ['Item Size: M', 'Overall Fit: True to Size', '159', '92', '77', '97', '36'],\n",
    " ['Item Size: M', 'Overall Fit: True to Size', '161', '92', '66', '96', '34'],\n",
    " ['Item Size: M', 'Overall Fit: Small', '165', '86', '76', '98', '34'],\n",
    " ['Item Size: M', 'Overall Fit: Large', '167', '89', '62', '90', '34'],\n",
    " ['Item Size: S', 'Overall Fit: True to Size', '165', '83', '71', '84', '32'],\n",
    " ['Item Size: L', 'Overall Fit: True to Size', '160', '78', '73', '82', '32'],\n",
    " ['Item Size: S', 'Overall Fit: True to Size', '164', '86', '68', '95', '34'],\n",
    " ['Item Size: S', 'Overall Fit: True to Size', '156', '87', '70', '90', '32']]"
   ]
  },
  {
   "cell_type": "code",
   "execution_count": 2,
   "metadata": {},
   "outputs": [
    {
     "data": {
      "text/plain": [
       "[['Item Size: M', 'Overall Fit: True to Size', '165', '87', '71', '90', '34'],\n",
       " ['Item Size: XS', 'Overall Fit: True to Size', '160', '89', '61', '94', '32'],\n",
       " ['Item Size: XS', 'Overall Fit: True to Size', '150', '77', '61', '85', '32'],\n",
       " ['Item Size: S', 'Overall Fit: True to Size', '154', '91', '63', '93', '32'],\n",
       " ['Item Size: XS', 'Overall Fit: Small', '159', '85', '65', '86', '32'],\n",
       " ['Item Size: M', 'Overall Fit: True to Size', '164', '96', '76', '102', '36'],\n",
       " ['Item Size: M', 'Overall Fit: True to Size', '138', '92', '75', '102', '38'],\n",
       " ['Item Size: XS', 'Overall Fit: True to Size', '163', '78', '66', '82', '32'],\n",
       " ['Item Size: M', 'Overall Fit: True to Size', '149', '82', '71', '87', '32'],\n",
       " ['Item Size: M', 'Overall Fit: True to Size', '165', '90', '73', '99', '32'],\n",
       " ['Item Size: M', 'Overall Fit: True to Size', '138', '75', '67', '84', '32'],\n",
       " ['Item Size: S', 'Overall Fit: Large', '157', '87', '65', '82', '32'],\n",
       " ['Item Size: M', 'Overall Fit: Large', '166', '74', '64', '80', '36'],\n",
       " ['Item Size: M', 'Overall Fit: Small', '165', '83', '73', '87', '32'],\n",
       " ['Item Size: S', 'Overall Fit: Small', '150', '88', '63', '83', '34'],\n",
       " ['Item Size: L', 'Overall Fit: Large', '165', '85', '75', '90', '36'],\n",
       " ['Item Size: S', 'Overall Fit: True to Size', '30', '137', '70', '60', '80'],\n",
       " ['Item Size: XS', 'Overall Fit: Small', '158', '87', '62', '89', '32'],\n",
       " ['Item Size: L', 'Overall Fit: True to Size', '165', '93', '70', '99', '36'],\n",
       " ['Item Size: M', 'Overall Fit: True to Size', '144', '94', '68', '85', '34'],\n",
       " ['Item Size: L', 'Overall Fit: True to Size', '161', '96', '72', '98', '32'],\n",
       " ['Item Size: S', 'Overall Fit: True to Size', '158', '87', '70', '90', '32'],\n",
       " ['Item Size: L', 'Overall Fit: True to Size', '164', '94', '70', '101', '36'],\n",
       " ['Item Size: M', 'Overall Fit: True to Size', '152', '70', '60', '80', '36'],\n",
       " ['Item Size: M', 'Overall Fit: True to Size', '154', '91', '72', '91', '34'],\n",
       " ['Item Size: M', 'Overall Fit: True to Size', '152', '87', '64', '91', '34'],\n",
       " ['Item Size: XS', 'Overall Fit: True to Size', '141', '73', '66', '84', '34'],\n",
       " ['Item Size: S', 'Overall Fit: Small', '158', '84', '71', '83', '32'],\n",
       " ['Item Size: XS', 'Overall Fit: Large', '50', '152', '87', '66', '81'],\n",
       " ['Item Size: S', 'Overall Fit: True to Size', '159', '87', '71', '84', '34'],\n",
       " ['Item Size: S', 'Overall Fit: True to Size', '137', '70', '60', '80', '32'],\n",
       " ['Item Size: M', 'Overall Fit: True to Size', '153', '88', '71', '94', '34'],\n",
       " ['Item Size: S', 'Overall Fit: True to Size', '173', '83', '66', '91', '34'],\n",
       " ['Item Size: S', 'Overall Fit: True to Size', '159', '82', '68', '85', '32'],\n",
       " ['Item Size: L',\n",
       "  'Overall Fit: True to Size',\n",
       "  '146',\n",
       "  '103',\n",
       "  '78',\n",
       "  '104',\n",
       "  '36'],\n",
       " ['Item Size: S', 'Overall Fit: True to Size', '163', '87', '69', '91', '34'],\n",
       " ['Item Size: M', 'Overall Fit: Small', '149', '93', '80', '93', '36'],\n",
       " ['Item Size: M', 'Overall Fit: True to Size', '143', '70', '60', '84', '34'],\n",
       " ['Item Size: XS', 'Overall Fit: True to Size', '137', '70', '61', '81', '34'],\n",
       " ['Item Size: M', 'Overall Fit: True to Size', '160', '94', '74', '94', '36'],\n",
       " ['Item Size: S', 'Overall Fit: True to Size', '160', '91', '64', '100', '34'],\n",
       " ['Item Size: L', 'Overall Fit: True to Size', '155', '98', '77', '98', '36'],\n",
       " ['Item Size: M', 'Overall Fit: True to Size', '159', '92', '77', '97', '36'],\n",
       " ['Item Size: M', 'Overall Fit: True to Size', '161', '92', '66', '96', '34'],\n",
       " ['Item Size: M', 'Overall Fit: Small', '165', '86', '76', '98', '34'],\n",
       " ['Item Size: M', 'Overall Fit: Large', '167', '89', '62', '90', '34'],\n",
       " ['Item Size: S', 'Overall Fit: True to Size', '165', '83', '71', '84', '32'],\n",
       " ['Item Size: L', 'Overall Fit: True to Size', '160', '78', '73', '82', '32']]"
      ]
     },
     "execution_count": 2,
     "metadata": {},
     "output_type": "execute_result"
    }
   ],
   "source": []
  },
  {
   "cell_type": "code",
   "execution_count": 12,
   "metadata": {},
   "outputs": [
    {
     "data": {
      "text/plain": [
       "['Item Size: XS', 'Overall Fit: True to Size', '160', '89', '61', '94', '32']"
      ]
     },
     "execution_count": 12,
     "metadata": {},
     "output_type": "execute_result"
    }
   ],
   "source": [
    "h_dataset[1]"
   ]
  },
  {
   "cell_type": "code",
   "execution_count": 17,
   "metadata": {},
   "outputs": [],
   "source": [
    "h_dataset.insert(0, ['Item Size', 'Overall Fit', 'Height', 'Bust', 'Waist', 'Hips', 'Bra Size'])"
   ]
  },
  {
   "cell_type": "code",
   "execution_count": 18,
   "metadata": {},
   "outputs": [],
   "source": [
    "import csv\n",
    "\n",
    "with open(\"outputi.csv\", \"w\") as f:\n",
    "    writer = csv.writer(f)\n",
    "    writer.writerows(h_dataset)"
   ]
  },
  {
   "cell_type": "code",
   "execution_count": null,
   "metadata": {},
   "outputs": [],
   "source": []
  }
 ],
 "metadata": {
  "kernelspec": {
   "display_name": "Python 3",
   "language": "python",
   "name": "python3"
  },
  "language_info": {
   "codemirror_mode": {
    "name": "ipython",
    "version": 3
   },
   "file_extension": ".py",
   "mimetype": "text/x-python",
   "name": "python",
   "nbconvert_exporter": "python",
   "pygments_lexer": "ipython3",
   "version": "3.6.4"
  }
 },
 "nbformat": 4,
 "nbformat_minor": 2
}
