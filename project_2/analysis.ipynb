{
 "cells": [
  {
   "cell_type": "code",
   "execution_count": 372,
   "metadata": {},
   "outputs": [],
   "source": [
    "from __future__ import print_function, division\n",
    "\n",
    "# Necessary imports\n",
    "import pandas as pd\n",
    "import numpy as np\n",
    "import statsmodels.api as sm\n",
    "import statsmodels.formula.api as smf\n",
    "import patsy\n",
    "\n",
    "import seaborn as sns\n",
    "import matplotlib.pyplot as plt\n",
    "from sklearn.linear_model import LinearRegression\n",
    "from sklearn.linear_model import RidgeCV\n",
    "%matplotlib inline\n",
    "from sklearn.preprocessing import StandardScaler\n",
    "from sklearn.linear_model import Lasso\n",
    "from sklearn.model_selection import KFold\n",
    "from sklearn.model_selection import train_test_split"
   ]
  },
  {
   "cell_type": "code",
   "execution_count": 459,
   "metadata": {},
   "outputs": [],
   "source": [
    "df = pd.read_csv('adjusted_outputi.csv')"
   ]
  },
  {
   "cell_type": "markdown",
   "metadata": {},
   "source": [
    "## Standardrize the Size"
   ]
  },
  {
   "cell_type": "code",
   "execution_count": 374,
   "metadata": {},
   "outputs": [
    {
     "name": "stderr",
     "output_type": "stream",
     "text": [
      "/anaconda3/lib/python3.6/site-packages/ipykernel_launcher.py:2: FutureWarning: reshape is deprecated and will raise in a subsequent release. Please use .values.reshape(...) instead\n",
      "  \n",
      "/anaconda3/lib/python3.6/site-packages/sklearn/utils/validation.py:475: DataConversionWarning: Data with input dtype int64 was converted to float64 by StandardScaler.\n",
      "  warnings.warn(msg, DataConversionWarning)\n"
     ]
    },
    {
     "data": {
      "text/plain": [
       "StandardScaler(copy=True, with_mean=True, with_std=True)"
      ]
     },
     "execution_count": 374,
     "metadata": {},
     "output_type": "execute_result"
    }
   ],
   "source": [
    "scaler = StandardScaler()\n",
    "scaler.fit(df['size'].reshape(-1, 1))"
   ]
  },
  {
   "cell_type": "code",
   "execution_count": 375,
   "metadata": {},
   "outputs": [
    {
     "data": {
      "text/plain": [
       "array([59.07692308])"
      ]
     },
     "execution_count": 375,
     "metadata": {},
     "output_type": "execute_result"
    }
   ],
   "source": [
    "scaler.mean_"
   ]
  },
  {
   "cell_type": "code",
   "execution_count": 376,
   "metadata": {},
   "outputs": [
    {
     "name": "stderr",
     "output_type": "stream",
     "text": [
      "/anaconda3/lib/python3.6/site-packages/ipykernel_launcher.py:1: FutureWarning: reshape is deprecated and will raise in a subsequent release. Please use .values.reshape(...) instead\n",
      "  \"\"\"Entry point for launching an IPython kernel.\n",
      "/anaconda3/lib/python3.6/site-packages/sklearn/utils/validation.py:475: DataConversionWarning: Data with input dtype int64 was converted to float64 by StandardScaler.\n",
      "  warnings.warn(msg, DataConversionWarning)\n"
     ]
    }
   ],
   "source": [
    "data = scaler.transform(df['size'].reshape(-1, 1))"
   ]
  },
  {
   "cell_type": "code",
   "execution_count": 384,
   "metadata": {},
   "outputs": [],
   "source": [
    "df['new'] = data\n",
    "df_std = df.drop(columns = ['size'])"
   ]
  },
  {
   "cell_type": "code",
   "execution_count": 385,
   "metadata": {},
   "outputs": [
    {
     "data": {
      "text/plain": [
       "-0.374696    141\n",
       " 0.657305     87\n",
       "-1.406697     54\n",
       " 1.689306     34\n",
       " 2.721307      7\n",
       "-2.438697      2\n",
       "Name: new, dtype: int64"
      ]
     },
     "execution_count": 385,
     "metadata": {},
     "output_type": "execute_result"
    }
   ],
   "source": [
    "df_std.new.value_counts()"
   ]
  },
  {
   "cell_type": "code",
   "execution_count": 386,
   "metadata": {},
   "outputs": [
    {
     "data": {
      "text/html": [
       "<div>\n",
       "<style scoped>\n",
       "    .dataframe tbody tr th:only-of-type {\n",
       "        vertical-align: middle;\n",
       "    }\n",
       "\n",
       "    .dataframe tbody tr th {\n",
       "        vertical-align: top;\n",
       "    }\n",
       "\n",
       "    .dataframe thead th {\n",
       "        text-align: right;\n",
       "    }\n",
       "</style>\n",
       "<table border=\"1\" class=\"dataframe\">\n",
       "  <thead>\n",
       "    <tr style=\"text-align: right;\">\n",
       "      <th></th>\n",
       "      <th>Height</th>\n",
       "      <th>Bust</th>\n",
       "      <th>Waist</th>\n",
       "      <th>Hips</th>\n",
       "      <th>Bra</th>\n",
       "      <th>new</th>\n",
       "    </tr>\n",
       "  </thead>\n",
       "  <tbody>\n",
       "    <tr>\n",
       "      <th>count</th>\n",
       "      <td>325.000000</td>\n",
       "      <td>325.000000</td>\n",
       "      <td>325.000000</td>\n",
       "      <td>325.000000</td>\n",
       "      <td>325.00000</td>\n",
       "      <td>3.250000e+02</td>\n",
       "    </tr>\n",
       "    <tr>\n",
       "      <th>mean</th>\n",
       "      <td>157.633846</td>\n",
       "      <td>82.803077</td>\n",
       "      <td>66.987692</td>\n",
       "      <td>88.796923</td>\n",
       "      <td>33.36000</td>\n",
       "      <td>-1.229786e-17</td>\n",
       "    </tr>\n",
       "    <tr>\n",
       "      <th>std</th>\n",
       "      <td>10.295544</td>\n",
       "      <td>7.500905</td>\n",
       "      <td>5.011084</td>\n",
       "      <td>7.028293</td>\n",
       "      <td>1.55841</td>\n",
       "      <td>1.001542e+00</td>\n",
       "    </tr>\n",
       "    <tr>\n",
       "      <th>min</th>\n",
       "      <td>137.000000</td>\n",
       "      <td>70.000000</td>\n",
       "      <td>60.000000</td>\n",
       "      <td>80.000000</td>\n",
       "      <td>32.00000</td>\n",
       "      <td>-2.438697e+00</td>\n",
       "    </tr>\n",
       "    <tr>\n",
       "      <th>25%</th>\n",
       "      <td>152.000000</td>\n",
       "      <td>78.000000</td>\n",
       "      <td>63.000000</td>\n",
       "      <td>84.000000</td>\n",
       "      <td>32.00000</td>\n",
       "      <td>-3.746957e-01</td>\n",
       "    </tr>\n",
       "    <tr>\n",
       "      <th>50%</th>\n",
       "      <td>159.000000</td>\n",
       "      <td>83.000000</td>\n",
       "      <td>66.000000</td>\n",
       "      <td>88.000000</td>\n",
       "      <td>34.00000</td>\n",
       "      <td>-3.746957e-01</td>\n",
       "    </tr>\n",
       "    <tr>\n",
       "      <th>75%</th>\n",
       "      <td>165.000000</td>\n",
       "      <td>87.000000</td>\n",
       "      <td>71.000000</td>\n",
       "      <td>92.000000</td>\n",
       "      <td>34.00000</td>\n",
       "      <td>6.573052e-01</td>\n",
       "    </tr>\n",
       "    <tr>\n",
       "      <th>max</th>\n",
       "      <td>178.000000</td>\n",
       "      <td>105.000000</td>\n",
       "      <td>80.000000</td>\n",
       "      <td>115.000000</td>\n",
       "      <td>38.00000</td>\n",
       "      <td>2.721307e+00</td>\n",
       "    </tr>\n",
       "  </tbody>\n",
       "</table>\n",
       "</div>"
      ],
      "text/plain": [
       "           Height        Bust       Waist        Hips        Bra           new\n",
       "count  325.000000  325.000000  325.000000  325.000000  325.00000  3.250000e+02\n",
       "mean   157.633846   82.803077   66.987692   88.796923   33.36000 -1.229786e-17\n",
       "std     10.295544    7.500905    5.011084    7.028293    1.55841  1.001542e+00\n",
       "min    137.000000   70.000000   60.000000   80.000000   32.00000 -2.438697e+00\n",
       "25%    152.000000   78.000000   63.000000   84.000000   32.00000 -3.746957e-01\n",
       "50%    159.000000   83.000000   66.000000   88.000000   34.00000 -3.746957e-01\n",
       "75%    165.000000   87.000000   71.000000   92.000000   34.00000  6.573052e-01\n",
       "max    178.000000  105.000000   80.000000  115.000000   38.00000  2.721307e+00"
      ]
     },
     "execution_count": 386,
     "metadata": {},
     "output_type": "execute_result"
    }
   ],
   "source": [
    "df_std.describe()"
   ]
  },
  {
   "cell_type": "markdown",
   "metadata": {},
   "source": [
    "## convert Bra_band_size from inch to cm"
   ]
  },
  {
   "cell_type": "code",
   "execution_count": 387,
   "metadata": {},
   "outputs": [],
   "source": [
    "df_std['Bra'] = df_std['Bra']*2.54\n",
    "df_std.to_csv('data_std.csv')"
   ]
  },
  {
   "cell_type": "code",
   "execution_count": 380,
   "metadata": {},
   "outputs": [],
   "source": [
    "corr = df_std.corr().sort_values(by=['new'], ascending=False)"
   ]
  },
  {
   "cell_type": "code",
   "execution_count": 496,
   "metadata": {},
   "outputs": [],
   "source": [
    "df_std['size'] = df_std['new']\n",
    "df = df_std.drop(columns = 'new')"
   ]
  },
  {
   "cell_type": "code",
   "execution_count": 497,
   "metadata": {},
   "outputs": [
    {
     "data": {
      "text/plain": [
       "<matplotlib.axes._subplots.AxesSubplot at 0x1c21e89ef0>"
      ]
     },
     "execution_count": 497,
     "metadata": {},
     "output_type": "execute_result"
    },
    {
     "data": {
      "image/png": "[encoded data removed]",
      "text/plain": [
       "<matplotlib.figure.Figure at 0x1c215bb5f8>"
      ]
     },
     "metadata": {},
     "output_type": "display_data"
    }
   ],
   "source": [
    "fig, ax = plt.subplots(figsize=(10,8))\n",
    "sns.heatmap(df.corr(), cmap=\"seismic\", vmax=1, vmin=-1, annot=True)"
   ]
  },
  {
   "cell_type": "code",
   "execution_count": null,
   "metadata": {},
   "outputs": [],
   "source": [
    "## original analysis"
   ]
  },
  {
   "cell_type": "code",
   "execution_count": 388,
   "metadata": {},
   "outputs": [
    {
     "data": {
      "text/html": [
       "<table class=\"simpletable\">\n",
       "<caption>OLS Regression Results</caption>\n",
       "<tr>\n",
       "  <th>Dep. Variable:</th>           <td>new</td>       <th>  R-squared:         </th> <td>   0.305</td>\n",
       "</tr>\n",
       "<tr>\n",
       "  <th>Model:</th>                   <td>OLS</td>       <th>  Adj. R-squared:    </th> <td>   0.294</td>\n",
       "</tr>\n",
       "<tr>\n",
       "  <th>Method:</th>             <td>Least Squares</td>  <th>  F-statistic:       </th> <td>   27.97</td>\n",
       "</tr>\n",
       "<tr>\n",
       "  <th>Date:</th>             <td>Thu, 26 Apr 2018</td> <th>  Prob (F-statistic):</th> <td>1.72e-23</td>\n",
       "</tr>\n",
       "<tr>\n",
       "  <th>Time:</th>                 <td>11:34:34</td>     <th>  Log-Likelihood:    </th> <td> -402.07</td>\n",
       "</tr>\n",
       "<tr>\n",
       "  <th>No. Observations:</th>      <td>   325</td>      <th>  AIC:               </th> <td>   816.1</td>\n",
       "</tr>\n",
       "<tr>\n",
       "  <th>Df Residuals:</th>          <td>   319</td>      <th>  BIC:               </th> <td>   838.9</td>\n",
       "</tr>\n",
       "<tr>\n",
       "  <th>Df Model:</th>              <td>     5</td>      <th>                     </th>     <td> </td>   \n",
       "</tr>\n",
       "<tr>\n",
       "  <th>Covariance Type:</th>      <td>nonrobust</td>    <th>                     </th>     <td> </td>   \n",
       "</tr>\n",
       "</table>\n",
       "<table class=\"simpletable\">\n",
       "<tr>\n",
       "      <td></td>         <th>coef</th>     <th>std err</th>      <th>t</th>      <th>P>|t|</th>  <th>[0.025</th>    <th>0.975]</th>  \n",
       "</tr>\n",
       "<tr>\n",
       "  <th>Intercept</th> <td>  -11.6001</td> <td>    1.229</td> <td>   -9.436</td> <td> 0.000</td> <td>  -14.019</td> <td>   -9.182</td>\n",
       "</tr>\n",
       "<tr>\n",
       "  <th>Height</th>    <td>   -0.0039</td> <td>    0.005</td> <td>   -0.797</td> <td> 0.426</td> <td>   -0.014</td> <td>    0.006</td>\n",
       "</tr>\n",
       "<tr>\n",
       "  <th>Bust</th>      <td>    0.0054</td> <td>    0.009</td> <td>    0.614</td> <td> 0.540</td> <td>   -0.012</td> <td>    0.023</td>\n",
       "</tr>\n",
       "<tr>\n",
       "  <th>Bra</th>       <td>    0.0842</td> <td>    0.013</td> <td>    6.529</td> <td> 0.000</td> <td>    0.059</td> <td>    0.110</td>\n",
       "</tr>\n",
       "<tr>\n",
       "  <th>Waist</th>     <td>    0.0423</td> <td>    0.012</td> <td>    3.569</td> <td> 0.000</td> <td>    0.019</td> <td>    0.066</td>\n",
       "</tr>\n",
       "<tr>\n",
       "  <th>Hips</th>      <td>    0.0202</td> <td>    0.009</td> <td>    2.266</td> <td> 0.024</td> <td>    0.003</td> <td>    0.038</td>\n",
       "</tr>\n",
       "</table>\n",
       "<table class=\"simpletable\">\n",
       "<tr>\n",
       "  <th>Omnibus:</th>       <td>13.096</td> <th>  Durbin-Watson:     </th> <td>   0.664</td>\n",
       "</tr>\n",
       "<tr>\n",
       "  <th>Prob(Omnibus):</th> <td> 0.001</td> <th>  Jarque-Bera (JB):  </th> <td>  13.718</td>\n",
       "</tr>\n",
       "<tr>\n",
       "  <th>Skew:</th>          <td> 0.500</td> <th>  Prob(JB):          </th> <td> 0.00105</td>\n",
       "</tr>\n",
       "<tr>\n",
       "  <th>Kurtosis:</th>      <td> 3.107</td> <th>  Cond. No.          </th> <td>5.97e+03</td>\n",
       "</tr>\n",
       "</table>"
      ],
      "text/plain": [
       "<class 'statsmodels.iolib.summary.Summary'>\n",
       "\"\"\"\n",
       "                            OLS Regression Results                            \n",
       "==============================================================================\n",
       "Dep. Variable:                    new   R-squared:                       0.305\n",
       "Model:                            OLS   Adj. R-squared:                  0.294\n",
       "Method:                 Least Squares   F-statistic:                     27.97\n",
       "Date:                Thu, 26 Apr 2018   Prob (F-statistic):           1.72e-23\n",
       "Time:                        11:34:34   Log-Likelihood:                -402.07\n",
       "No. Observations:                 325   AIC:                             816.1\n",
       "Df Residuals:                     319   BIC:                             838.9\n",
       "Df Model:                           5                                         \n",
       "Covariance Type:            nonrobust                                         \n",
       "==============================================================================\n",
       "                 coef    std err          t      P>|t|      [0.025      0.975]\n",
       "------------------------------------------------------------------------------\n",
       "Intercept    -11.6001      1.229     -9.436      0.000     -14.019      -9.182\n",
       "Height        -0.0039      0.005     -0.797      0.426      -0.014       0.006\n",
       "Bust           0.0054      0.009      0.614      0.540      -0.012       0.023\n",
       "Bra            0.0842      0.013      6.529      0.000       0.059       0.110\n",
       "Waist          0.0423      0.012      3.569      0.000       0.019       0.066\n",
       "Hips           0.0202      0.009      2.266      0.024       0.003       0.038\n",
       "==============================================================================\n",
       "Omnibus:                       13.096   Durbin-Watson:                   0.664\n",
       "Prob(Omnibus):                  0.001   Jarque-Bera (JB):               13.718\n",
       "Skew:                           0.500   Prob(JB):                      0.00105\n",
       "Kurtosis:                       3.107   Cond. No.                     5.97e+03\n",
       "==============================================================================\n",
       "\n",
       "Warnings:\n",
       "[1] Standard Errors assume that the covariance matrix of the errors is correctly specified.\n",
       "[2] The condition number is large, 5.97e+03. This might indicate that there are\n",
       "strong multicollinearity or other numerical problems.\n",
       "\"\"\""
      ]
     },
     "execution_count": 388,
     "metadata": {},
     "output_type": "execute_result"
    }
   ],
   "source": [
    "y, X = patsy.dmatrices('new ~ Height + Bust + Bra + Waist + Hips ', data=df_std, return_type=\"dataframe\")\n",
    "model = sm.OLS(y,X)\n",
    "fit = model.fit()\n",
    "fit.summary()"
   ]
  },
  {
   "cell_type": "code",
   "execution_count": null,
   "metadata": {},
   "outputs": [],
   "source": [
    "#drop Height and Bust"
   ]
  },
  {
   "cell_type": "code",
   "execution_count": 322,
   "metadata": {},
   "outputs": [
    {
     "data": {
      "text/html": [
       "<table class=\"simpletable\">\n",
       "<caption>OLS Regression Results</caption>\n",
       "<tr>\n",
       "  <th>Dep. Variable:</th>           <td>new</td>       <th>  R-squared:         </th> <td>   0.303</td>\n",
       "</tr>\n",
       "<tr>\n",
       "  <th>Model:</th>                   <td>OLS</td>       <th>  Adj. R-squared:    </th> <td>   0.297</td>\n",
       "</tr>\n",
       "<tr>\n",
       "  <th>Method:</th>             <td>Least Squares</td>  <th>  F-statistic:       </th> <td>   46.53</td>\n",
       "</tr>\n",
       "<tr>\n",
       "  <th>Date:</th>             <td>Wed, 25 Apr 2018</td> <th>  Prob (F-statistic):</th> <td>5.41e-25</td>\n",
       "</tr>\n",
       "<tr>\n",
       "  <th>Time:</th>                 <td>16:40:21</td>     <th>  Log-Likelihood:    </th> <td> -402.48</td>\n",
       "</tr>\n",
       "<tr>\n",
       "  <th>No. Observations:</th>      <td>   325</td>      <th>  AIC:               </th> <td>   813.0</td>\n",
       "</tr>\n",
       "<tr>\n",
       "  <th>Df Residuals:</th>          <td>   321</td>      <th>  BIC:               </th> <td>   828.1</td>\n",
       "</tr>\n",
       "<tr>\n",
       "  <th>Df Model:</th>              <td>     3</td>      <th>                     </th>     <td> </td>   \n",
       "</tr>\n",
       "<tr>\n",
       "  <th>Covariance Type:</th>      <td>nonrobust</td>    <th>                     </th>     <td> </td>   \n",
       "</tr>\n",
       "</table>\n",
       "<table class=\"simpletable\">\n",
       "<tr>\n",
       "      <td></td>         <th>coef</th>     <th>std err</th>      <th>t</th>      <th>P>|t|</th>  <th>[0.025</th>    <th>0.975]</th>  \n",
       "</tr>\n",
       "<tr>\n",
       "  <th>Intercept</th> <td>  -12.1114</td> <td>    1.058</td> <td>  -11.443</td> <td> 0.000</td> <td>  -14.194</td> <td>  -10.029</td>\n",
       "</tr>\n",
       "<tr>\n",
       "  <th>Bra</th>       <td>    0.0858</td> <td>    0.013</td> <td>    6.759</td> <td> 0.000</td> <td>    0.061</td> <td>    0.111</td>\n",
       "</tr>\n",
       "<tr>\n",
       "  <th>Waist</th>     <td>    0.0433</td> <td>    0.011</td> <td>    3.838</td> <td> 0.000</td> <td>    0.021</td> <td>    0.065</td>\n",
       "</tr>\n",
       "<tr>\n",
       "  <th>Hips</th>      <td>    0.0218</td> <td>    0.008</td> <td>    2.737</td> <td> 0.007</td> <td>    0.006</td> <td>    0.038</td>\n",
       "</tr>\n",
       "</table>\n",
       "<table class=\"simpletable\">\n",
       "<tr>\n",
       "  <th>Omnibus:</th>       <td>13.134</td> <th>  Durbin-Watson:     </th> <td>   0.658</td>\n",
       "</tr>\n",
       "<tr>\n",
       "  <th>Prob(Omnibus):</th> <td> 0.001</td> <th>  Jarque-Bera (JB):  </th> <td>  13.700</td>\n",
       "</tr>\n",
       "<tr>\n",
       "  <th>Skew:</th>          <td> 0.498</td> <th>  Prob(JB):          </th> <td> 0.00106</td>\n",
       "</tr>\n",
       "<tr>\n",
       "  <th>Kurtosis:</th>      <td> 3.144</td> <th>  Cond. No.          </th> <td>3.18e+03</td>\n",
       "</tr>\n",
       "</table>"
      ],
      "text/plain": [
       "<class 'statsmodels.iolib.summary.Summary'>\n",
       "\"\"\"\n",
       "                            OLS Regression Results                            \n",
       "==============================================================================\n",
       "Dep. Variable:                    new   R-squared:                       0.303\n",
       "Model:                            OLS   Adj. R-squared:                  0.297\n",
       "Method:                 Least Squares   F-statistic:                     46.53\n",
       "Date:                Wed, 25 Apr 2018   Prob (F-statistic):           5.41e-25\n",
       "Time:                        16:40:21   Log-Likelihood:                -402.48\n",
       "No. Observations:                 325   AIC:                             813.0\n",
       "Df Residuals:                     321   BIC:                             828.1\n",
       "Df Model:                           3                                         \n",
       "Covariance Type:            nonrobust                                         \n",
       "==============================================================================\n",
       "                 coef    std err          t      P>|t|      [0.025      0.975]\n",
       "------------------------------------------------------------------------------\n",
       "Intercept    -12.1114      1.058    -11.443      0.000     -14.194     -10.029\n",
       "Bra            0.0858      0.013      6.759      0.000       0.061       0.111\n",
       "Waist          0.0433      0.011      3.838      0.000       0.021       0.065\n",
       "Hips           0.0218      0.008      2.737      0.007       0.006       0.038\n",
       "==============================================================================\n",
       "Omnibus:                       13.134   Durbin-Watson:                   0.658\n",
       "Prob(Omnibus):                  0.001   Jarque-Bera (JB):               13.700\n",
       "Skew:                           0.498   Prob(JB):                      0.00106\n",
       "Kurtosis:                       3.144   Cond. No.                     3.18e+03\n",
       "==============================================================================\n",
       "\n",
       "Warnings:\n",
       "[1] Standard Errors assume that the covariance matrix of the errors is correctly specified.\n",
       "[2] The condition number is large, 3.18e+03. This might indicate that there are\n",
       "strong multicollinearity or other numerical problems.\n",
       "\"\"\""
      ]
     },
     "execution_count": 322,
     "metadata": {},
     "output_type": "execute_result"
    }
   ],
   "source": [
    "y, X = patsy.dmatrices('new ~ Bra + Waist + Hips ', data=df_std, return_type=\"dataframe\")\n",
    "model = sm.OLS(y,X)\n",
    "fit = model.fit()\n",
    "fit.summary()"
   ]
  },
  {
   "cell_type": "code",
   "execution_count": null,
   "metadata": {},
   "outputs": [],
   "source": [
    "#Variable distribution"
   ]
  },
  {
   "cell_type": "code",
   "execution_count": 323,
   "metadata": {},
   "outputs": [
    {
     "data": {
      "image/png": "[encoded data removed]",
      "text/plain": [
       "<matplotlib.figure.Figure at 0x1c1d200d68>"
      ]
     },
     "metadata": {},
     "output_type": "display_data"
    }
   ],
   "source": [
    "sns.set(color_codes=True)\n",
    "ax = sns.regplot(x=\"Waist\", y=\"new\", data=df)"
   ]
  },
  {
   "cell_type": "code",
   "execution_count": 324,
   "metadata": {},
   "outputs": [
    {
     "data": {
      "image/png": "[encoded data removed]",
      "text/plain": [
       "<matplotlib.figure.Figure at 0x1c1ce32b00>"
      ]
     },
     "metadata": {},
     "output_type": "display_data"
    }
   ],
   "source": [
    "sns.set(color_codes=True)\n",
    "ax = sns.regplot(x=\"Bra\", y=\"new\", data=df)"
   ]
  },
  {
   "cell_type": "code",
   "execution_count": 325,
   "metadata": {},
   "outputs": [
    {
     "data": {
      "image/png": "[encoded data removed]",
      "text/plain": [
       "<matplotlib.figure.Figure at 0x1c1c995978>"
      ]
     },
     "metadata": {},
     "output_type": "display_data"
    }
   ],
   "source": [
    "sns.set(color_codes=True)\n",
    "ax = sns.regplot(x=\"Hips\", y=\"new\", data=df)"
   ]
  },
  {
   "cell_type": "code",
   "execution_count": null,
   "metadata": {},
   "outputs": [],
   "source": [
    "#Sample distribution"
   ]
  },
  {
   "cell_type": "code",
   "execution_count": 449,
   "metadata": {},
   "outputs": [
    {
     "data": {
      "text/plain": [
       "Text(0,0.5,'sample number')"
      ]
     },
     "execution_count": 449,
     "metadata": {},
     "output_type": "execute_result"
    },
    {
     "data": {
      "image/png": "[encoded data removed]",
      "text/plain": [
       "<matplotlib.figure.Figure at 0x1c1eb8c128>"
      ]
     },
     "metadata": {},
     "output_type": "display_data"
    }
   ],
   "source": [
    "plt.hist(df.new, facecolor='c')\n",
    "plt.xlabel('Size')\n",
    "plt.ylabel('sample number')"
   ]
  },
  {
   "cell_type": "code",
   "execution_count": 450,
   "metadata": {},
   "outputs": [
    {
     "data": {
      "text/plain": [
       "Text(0,0.5,'sample number')"
      ]
     },
     "execution_count": 450,
     "metadata": {},
     "output_type": "execute_result"
    },
    {
     "data": {
      "image/png": "[encoded data removed]",
      "text/plain": [
       "<matplotlib.figure.Figure at 0x1c184ad438>"
      ]
     },
     "metadata": {},
     "output_type": "display_data"
    }
   ],
   "source": [
    "plt.hist(df.Waist, facecolor='c')\n",
    "plt.xlabel('Size')\n",
    "plt.ylabel('sample number')"
   ]
  },
  {
   "cell_type": "code",
   "execution_count": 451,
   "metadata": {},
   "outputs": [
    {
     "data": {
      "text/plain": [
       "Text(0,0.5,'sample number')"
      ]
     },
     "execution_count": 451,
     "metadata": {},
     "output_type": "execute_result"
    },
    {
     "data": {
      "image/png": "[encoded data removed]",
      "text/plain": [
       "<matplotlib.figure.Figure at 0x1c1ecc7668>"
      ]
     },
     "metadata": {},
     "output_type": "display_data"
    }
   ],
   "source": [
    "plt.hist(df.Bra, facecolor='c')\n",
    "plt.xlabel('Size')\n",
    "plt.ylabel('sample number')"
   ]
  },
  {
   "cell_type": "code",
   "execution_count": 452,
   "metadata": {},
   "outputs": [
    {
     "data": {
      "text/plain": [
       "Text(0,0.5,'sample number')"
      ]
     },
     "execution_count": 452,
     "metadata": {},
     "output_type": "execute_result"
    },
    {
     "data": {
      "image/png": "[encoded data removed]",
      "text/plain": [
       "<matplotlib.figure.Figure at 0x1c1d264048>"
      ]
     },
     "metadata": {},
     "output_type": "display_data"
    }
   ],
   "source": [
    "plt.hist(df.Bust, facecolor='c')\n",
    "plt.xlabel('Size')\n",
    "plt.ylabel('sample number')"
   ]
  },
  {
   "cell_type": "code",
   "execution_count": 453,
   "metadata": {},
   "outputs": [
    {
     "data": {
      "text/plain": [
       "Text(0,0.5,'sample number')"
      ]
     },
     "execution_count": 453,
     "metadata": {},
     "output_type": "execute_result"
    },
    {
     "data": {
      "image/png": "[encoded data removed]",
      "text/plain": [
       "<matplotlib.figure.Figure at 0x1c1d1cb7b8>"
      ]
     },
     "metadata": {},
     "output_type": "display_data"
    }
   ],
   "source": [
    "plt.hist(df.Hips, facecolor='c')\n",
    "plt.xlabel('Size')\n",
    "plt.ylabel('sample number')"
   ]
  },
  {
   "cell_type": "code",
   "execution_count": 454,
   "metadata": {},
   "outputs": [
    {
     "data": {
      "text/plain": [
       "Text(0,0.5,'sample number')"
      ]
     },
     "execution_count": 454,
     "metadata": {},
     "output_type": "execute_result"
    },
    {
     "data": {
      "image/png": "[encoded data removed]",
      "text/plain": [
       "<matplotlib.figure.Figure at 0x1c1e3196d8>"
      ]
     },
     "metadata": {},
     "output_type": "display_data"
    }
   ],
   "source": [
    "plt.hist(df.Height, facecolor='c')\n",
    "plt.xlabel('Size')\n",
    "plt.ylabel('sample number')"
   ]
  },
  {
   "cell_type": "code",
   "execution_count": 437,
   "metadata": {},
   "outputs": [
    {
     "data": {
      "image/png": "[encoded data removed]",
      "text/plain": [
       "<matplotlib.figure.Figure at 0x1c204d2e10>"
      ]
     },
     "metadata": {},
     "output_type": "display_data"
    }
   ],
   "source": [
    "sns.set(color_codes=True)\n",
    "ax = sns.barplot(x=\"Waist\", y=\"new\", data=df)"
   ]
  },
  {
   "cell_type": "code",
   "execution_count": null,
   "metadata": {},
   "outputs": [],
   "source": [
    "# Drop Height and Bust, Bra_band_size_squared"
   ]
  },
  {
   "cell_type": "code",
   "execution_count": 498,
   "metadata": {},
   "outputs": [
    {
     "data": {
      "text/html": [
       "<table class=\"simpletable\">\n",
       "<caption>OLS Regression Results</caption>\n",
       "<tr>\n",
       "  <th>Dep. Variable:</th>           <td>new</td>       <th>  R-squared:         </th> <td>   0.303</td>\n",
       "</tr>\n",
       "<tr>\n",
       "  <th>Model:</th>                   <td>OLS</td>       <th>  Adj. R-squared:    </th> <td>   0.297</td>\n",
       "</tr>\n",
       "<tr>\n",
       "  <th>Method:</th>             <td>Least Squares</td>  <th>  F-statistic:       </th> <td>   46.53</td>\n",
       "</tr>\n",
       "<tr>\n",
       "  <th>Date:</th>             <td>Thu, 26 Apr 2018</td> <th>  Prob (F-statistic):</th> <td>5.41e-25</td>\n",
       "</tr>\n",
       "<tr>\n",
       "  <th>Time:</th>                 <td>22:11:41</td>     <th>  Log-Likelihood:    </th> <td> -402.48</td>\n",
       "</tr>\n",
       "<tr>\n",
       "  <th>No. Observations:</th>      <td>   325</td>      <th>  AIC:               </th> <td>   813.0</td>\n",
       "</tr>\n",
       "<tr>\n",
       "  <th>Df Residuals:</th>          <td>   321</td>      <th>  BIC:               </th> <td>   828.1</td>\n",
       "</tr>\n",
       "<tr>\n",
       "  <th>Df Model:</th>              <td>     3</td>      <th>                     </th>     <td> </td>   \n",
       "</tr>\n",
       "<tr>\n",
       "  <th>Covariance Type:</th>      <td>nonrobust</td>    <th>                     </th>     <td> </td>   \n",
       "</tr>\n",
       "</table>\n",
       "<table class=\"simpletable\">\n",
       "<tr>\n",
       "      <td></td>         <th>coef</th>     <th>std err</th>      <th>t</th>      <th>P>|t|</th>  <th>[0.025</th>    <th>0.975]</th>  \n",
       "</tr>\n",
       "<tr>\n",
       "  <th>Intercept</th> <td>  -12.1114</td> <td>    1.058</td> <td>  -11.443</td> <td> 0.000</td> <td>  -14.194</td> <td>  -10.029</td>\n",
       "</tr>\n",
       "<tr>\n",
       "  <th>Hips</th>      <td>    0.0218</td> <td>    0.008</td> <td>    2.737</td> <td> 0.007</td> <td>    0.006</td> <td>    0.038</td>\n",
       "</tr>\n",
       "<tr>\n",
       "  <th>Waist</th>     <td>    0.0433</td> <td>    0.011</td> <td>    3.838</td> <td> 0.000</td> <td>    0.021</td> <td>    0.065</td>\n",
       "</tr>\n",
       "<tr>\n",
       "  <th>Bra</th>       <td>    0.0858</td> <td>    0.013</td> <td>    6.759</td> <td> 0.000</td> <td>    0.061</td> <td>    0.111</td>\n",
       "</tr>\n",
       "</table>\n",
       "<table class=\"simpletable\">\n",
       "<tr>\n",
       "  <th>Omnibus:</th>       <td>13.134</td> <th>  Durbin-Watson:     </th> <td>   0.658</td>\n",
       "</tr>\n",
       "<tr>\n",
       "  <th>Prob(Omnibus):</th> <td> 0.001</td> <th>  Jarque-Bera (JB):  </th> <td>  13.700</td>\n",
       "</tr>\n",
       "<tr>\n",
       "  <th>Skew:</th>          <td> 0.498</td> <th>  Prob(JB):          </th> <td> 0.00106</td>\n",
       "</tr>\n",
       "<tr>\n",
       "  <th>Kurtosis:</th>      <td> 3.144</td> <th>  Cond. No.          </th> <td>3.18e+03</td>\n",
       "</tr>\n",
       "</table>"
      ],
      "text/plain": [
       "<class 'statsmodels.iolib.summary.Summary'>\n",
       "\"\"\"\n",
       "                            OLS Regression Results                            \n",
       "==============================================================================\n",
       "Dep. Variable:                    new   R-squared:                       0.303\n",
       "Model:                            OLS   Adj. R-squared:                  0.297\n",
       "Method:                 Least Squares   F-statistic:                     46.53\n",
       "Date:                Thu, 26 Apr 2018   Prob (F-statistic):           5.41e-25\n",
       "Time:                        22:11:41   Log-Likelihood:                -402.48\n",
       "No. Observations:                 325   AIC:                             813.0\n",
       "Df Residuals:                     321   BIC:                             828.1\n",
       "Df Model:                           3                                         \n",
       "Covariance Type:            nonrobust                                         \n",
       "==============================================================================\n",
       "                 coef    std err          t      P>|t|      [0.025      0.975]\n",
       "------------------------------------------------------------------------------\n",
       "Intercept    -12.1114      1.058    -11.443      0.000     -14.194     -10.029\n",
       "Hips           0.0218      0.008      2.737      0.007       0.006       0.038\n",
       "Waist          0.0433      0.011      3.838      0.000       0.021       0.065\n",
       "Bra            0.0858      0.013      6.759      0.000       0.061       0.111\n",
       "==============================================================================\n",
       "Omnibus:                       13.134   Durbin-Watson:                   0.658\n",
       "Prob(Omnibus):                  0.001   Jarque-Bera (JB):               13.700\n",
       "Skew:                           0.498   Prob(JB):                      0.00106\n",
       "Kurtosis:                       3.144   Cond. No.                     3.18e+03\n",
       "==============================================================================\n",
       "\n",
       "Warnings:\n",
       "[1] Standard Errors assume that the covariance matrix of the errors is correctly specified.\n",
       "[2] The condition number is large, 3.18e+03. This might indicate that there are\n",
       "strong multicollinearity or other numerical problems.\n",
       "\"\"\""
      ]
     },
     "execution_count": 498,
     "metadata": {},
     "output_type": "execute_result"
    }
   ],
   "source": [
    "y, X = patsy.dmatrices('new ~  Hips + Waist + Bra**2', data=df_std, return_type=\"dataframe\")\n",
    "model = sm.OLS(y,X)\n",
    "fit = model.fit()\n",
    "fit.summary()"
   ]
  },
  {
   "cell_type": "code",
   "execution_count": null,
   "metadata": {},
   "outputs": [],
   "source": [
    "#Try log left skeward variables"
   ]
  },
  {
   "cell_type": "code",
   "execution_count": 471,
   "metadata": {},
   "outputs": [
    {
     "data": {
      "text/html": [
       "<div>\n",
       "<style scoped>\n",
       "    .dataframe tbody tr th:only-of-type {\n",
       "        vertical-align: middle;\n",
       "    }\n",
       "\n",
       "    .dataframe tbody tr th {\n",
       "        vertical-align: top;\n",
       "    }\n",
       "\n",
       "    .dataframe thead th {\n",
       "        text-align: right;\n",
       "    }\n",
       "</style>\n",
       "<table border=\"1\" class=\"dataframe\">\n",
       "  <thead>\n",
       "    <tr style=\"text-align: right;\">\n",
       "      <th></th>\n",
       "      <th>Item Size</th>\n",
       "      <th>Overall Fit</th>\n",
       "      <th>Height</th>\n",
       "      <th>Bust</th>\n",
       "      <th>Waist</th>\n",
       "      <th>Hips</th>\n",
       "      <th>Bra</th>\n",
       "      <th>size</th>\n",
       "      <th>log_new</th>\n",
       "      <th>lognew</th>\n",
       "      <th>logBu</th>\n",
       "      <th>logB</th>\n",
       "      <th>logW</th>\n",
       "      <th>logH</th>\n",
       "    </tr>\n",
       "  </thead>\n",
       "  <tbody>\n",
       "    <tr>\n",
       "      <th>0</th>\n",
       "      <td>Item Size: XXS</td>\n",
       "      <td>Overall Fit: True to Size</td>\n",
       "      <td>178</td>\n",
       "      <td>84</td>\n",
       "      <td>72</td>\n",
       "      <td>93</td>\n",
       "      <td>32</td>\n",
       "      <td>1</td>\n",
       "      <td>0.000000</td>\n",
       "      <td>0.000000</td>\n",
       "      <td>4.430817</td>\n",
       "      <td>3.465736</td>\n",
       "      <td>4.276666</td>\n",
       "      <td>4.532599</td>\n",
       "    </tr>\n",
       "    <tr>\n",
       "      <th>1</th>\n",
       "      <td>Item Size: XXS</td>\n",
       "      <td>Overall Fit: True to Size</td>\n",
       "      <td>153</td>\n",
       "      <td>79</td>\n",
       "      <td>61</td>\n",
       "      <td>82</td>\n",
       "      <td>32</td>\n",
       "      <td>1</td>\n",
       "      <td>0.000000</td>\n",
       "      <td>0.000000</td>\n",
       "      <td>4.369448</td>\n",
       "      <td>3.465736</td>\n",
       "      <td>4.110874</td>\n",
       "      <td>4.406719</td>\n",
       "    </tr>\n",
       "    <tr>\n",
       "      <th>2</th>\n",
       "      <td>Item Size: XS</td>\n",
       "      <td>Overall Fit: True to Size</td>\n",
       "      <td>160</td>\n",
       "      <td>89</td>\n",
       "      <td>61</td>\n",
       "      <td>94</td>\n",
       "      <td>32</td>\n",
       "      <td>25</td>\n",
       "      <td>3.218876</td>\n",
       "      <td>3.218876</td>\n",
       "      <td>4.488636</td>\n",
       "      <td>3.465736</td>\n",
       "      <td>4.110874</td>\n",
       "      <td>4.543295</td>\n",
       "    </tr>\n",
       "    <tr>\n",
       "      <th>3</th>\n",
       "      <td>Item Size: XS</td>\n",
       "      <td>Overall Fit: True to Size</td>\n",
       "      <td>150</td>\n",
       "      <td>77</td>\n",
       "      <td>61</td>\n",
       "      <td>85</td>\n",
       "      <td>32</td>\n",
       "      <td>25</td>\n",
       "      <td>3.218876</td>\n",
       "      <td>3.218876</td>\n",
       "      <td>4.343805</td>\n",
       "      <td>3.465736</td>\n",
       "      <td>4.110874</td>\n",
       "      <td>4.442651</td>\n",
       "    </tr>\n",
       "    <tr>\n",
       "      <th>4</th>\n",
       "      <td>Item Size: XS</td>\n",
       "      <td>Overall Fit: True to Size</td>\n",
       "      <td>163</td>\n",
       "      <td>78</td>\n",
       "      <td>66</td>\n",
       "      <td>82</td>\n",
       "      <td>32</td>\n",
       "      <td>25</td>\n",
       "      <td>3.218876</td>\n",
       "      <td>3.218876</td>\n",
       "      <td>4.356709</td>\n",
       "      <td>3.465736</td>\n",
       "      <td>4.189655</td>\n",
       "      <td>4.406719</td>\n",
       "    </tr>\n",
       "  </tbody>\n",
       "</table>\n",
       "</div>"
      ],
      "text/plain": [
       "        Item Size                Overall Fit  Height  Bust  Waist  Hips  Bra  \\\n",
       "0  Item Size: XXS  Overall Fit: True to Size     178    84     72    93   32   \n",
       "1  Item Size: XXS  Overall Fit: True to Size     153    79     61    82   32   \n",
       "2   Item Size: XS  Overall Fit: True to Size     160    89     61    94   32   \n",
       "3   Item Size: XS  Overall Fit: True to Size     150    77     61    85   32   \n",
       "4   Item Size: XS  Overall Fit: True to Size     163    78     66    82   32   \n",
       "\n",
       "   size   log_new    lognew     logBu      logB      logW      logH  \n",
       "0     1  0.000000  0.000000  4.430817  3.465736  4.276666  4.532599  \n",
       "1     1  0.000000  0.000000  4.369448  3.465736  4.110874  4.406719  \n",
       "2    25  3.218876  3.218876  4.488636  3.465736  4.110874  4.543295  \n",
       "3    25  3.218876  3.218876  4.343805  3.465736  4.110874  4.442651  \n",
       "4    25  3.218876  3.218876  4.356709  3.465736  4.189655  4.406719  "
      ]
     },
     "execution_count": 471,
     "metadata": {},
     "output_type": "execute_result"
    }
   ],
   "source": [
    "df['logW'] = np.log(df['Waist'])\n",
    "df['logH'] = np.log(df['Hips'])\n",
    "df.head()"
   ]
  },
  {
   "cell_type": "code",
   "execution_count": null,
   "metadata": {},
   "outputs": [],
   "source": [
    "#Try log size"
   ]
  },
  {
   "cell_type": "code",
   "execution_count": 476,
   "metadata": {},
   "outputs": [
    {
     "data": {
      "text/html": [
       "<table class=\"simpletable\">\n",
       "<caption>OLS Regression Results</caption>\n",
       "<tr>\n",
       "  <th>Dep. Variable:</th>         <td>lognew</td>      <th>  R-squared:         </th> <td>   0.218</td>\n",
       "</tr>\n",
       "<tr>\n",
       "  <th>Model:</th>                   <td>OLS</td>       <th>  Adj. R-squared:    </th> <td>   0.208</td>\n",
       "</tr>\n",
       "<tr>\n",
       "  <th>Method:</th>             <td>Least Squares</td>  <th>  F-statistic:       </th> <td>   22.33</td>\n",
       "</tr>\n",
       "<tr>\n",
       "  <th>Date:</th>             <td>Thu, 26 Apr 2018</td> <th>  Prob (F-statistic):</th> <td>2.80e-16</td>\n",
       "</tr>\n",
       "<tr>\n",
       "  <th>Time:</th>                 <td>14:21:36</td>     <th>  Log-Likelihood:    </th> <td> -215.78</td>\n",
       "</tr>\n",
       "<tr>\n",
       "  <th>No. Observations:</th>      <td>   325</td>      <th>  AIC:               </th> <td>   441.6</td>\n",
       "</tr>\n",
       "<tr>\n",
       "  <th>Df Residuals:</th>          <td>   320</td>      <th>  BIC:               </th> <td>   460.5</td>\n",
       "</tr>\n",
       "<tr>\n",
       "  <th>Df Model:</th>              <td>     4</td>      <th>                     </th>     <td> </td>   \n",
       "</tr>\n",
       "<tr>\n",
       "  <th>Covariance Type:</th>      <td>nonrobust</td>    <th>                     </th>     <td> </td>   \n",
       "</tr>\n",
       "</table>\n",
       "<table class=\"simpletable\">\n",
       "<tr>\n",
       "      <td></td>         <th>coef</th>     <th>std err</th>      <th>t</th>      <th>P>|t|</th>  <th>[0.025</th>    <th>0.975]</th>  \n",
       "</tr>\n",
       "<tr>\n",
       "  <th>Intercept</th> <td>  -24.0071</td> <td>   25.420</td> <td>   -0.944</td> <td> 0.346</td> <td>  -74.018</td> <td>   26.004</td>\n",
       "</tr>\n",
       "<tr>\n",
       "  <th>Hips</th>      <td>   -0.0476</td> <td>    0.079</td> <td>   -0.600</td> <td> 0.549</td> <td>   -0.204</td> <td>    0.109</td>\n",
       "</tr>\n",
       "<tr>\n",
       "  <th>Bra</th>       <td>    0.1024</td> <td>    0.019</td> <td>    5.527</td> <td> 0.000</td> <td>    0.066</td> <td>    0.139</td>\n",
       "</tr>\n",
       "<tr>\n",
       "  <th>logW</th>      <td>    1.2878</td> <td>    0.432</td> <td>    2.984</td> <td> 0.003</td> <td>    0.439</td> <td>    2.137</td>\n",
       "</tr>\n",
       "<tr>\n",
       "  <th>logH</th>      <td>    5.2155</td> <td>    7.235</td> <td>    0.721</td> <td> 0.471</td> <td>   -9.018</td> <td>   19.449</td>\n",
       "</tr>\n",
       "</table>\n",
       "<table class=\"simpletable\">\n",
       "<tr>\n",
       "  <th>Omnibus:</th>       <td>279.001</td> <th>  Durbin-Watson:     </th> <td>   0.535</td>\n",
       "</tr>\n",
       "<tr>\n",
       "  <th>Prob(Omnibus):</th> <td> 0.000</td>  <th>  Jarque-Bera (JB):  </th> <td>9005.926</td>\n",
       "</tr>\n",
       "<tr>\n",
       "  <th>Skew:</th>          <td>-3.297</td>  <th>  Prob(JB):          </th> <td>    0.00</td>\n",
       "</tr>\n",
       "<tr>\n",
       "  <th>Kurtosis:</th>      <td>27.931</td>  <th>  Cond. No.          </th> <td>9.59e+04</td>\n",
       "</tr>\n",
       "</table>"
      ],
      "text/plain": [
       "<class 'statsmodels.iolib.summary.Summary'>\n",
       "\"\"\"\n",
       "                            OLS Regression Results                            \n",
       "==============================================================================\n",
       "Dep. Variable:                 lognew   R-squared:                       0.218\n",
       "Model:                            OLS   Adj. R-squared:                  0.208\n",
       "Method:                 Least Squares   F-statistic:                     22.33\n",
       "Date:                Thu, 26 Apr 2018   Prob (F-statistic):           2.80e-16\n",
       "Time:                        14:21:36   Log-Likelihood:                -215.78\n",
       "No. Observations:                 325   AIC:                             441.6\n",
       "Df Residuals:                     320   BIC:                             460.5\n",
       "Df Model:                           4                                         \n",
       "Covariance Type:            nonrobust                                         \n",
       "==============================================================================\n",
       "                 coef    std err          t      P>|t|      [0.025      0.975]\n",
       "------------------------------------------------------------------------------\n",
       "Intercept    -24.0071     25.420     -0.944      0.346     -74.018      26.004\n",
       "Hips          -0.0476      0.079     -0.600      0.549      -0.204       0.109\n",
       "Bra            0.1024      0.019      5.527      0.000       0.066       0.139\n",
       "logW           1.2878      0.432      2.984      0.003       0.439       2.137\n",
       "logH           5.2155      7.235      0.721      0.471      -9.018      19.449\n",
       "==============================================================================\n",
       "Omnibus:                      279.001   Durbin-Watson:                   0.535\n",
       "Prob(Omnibus):                  0.000   Jarque-Bera (JB):             9005.926\n",
       "Skew:                          -3.297   Prob(JB):                         0.00\n",
       "Kurtosis:                      27.931   Cond. No.                     9.59e+04\n",
       "==============================================================================\n",
       "\n",
       "Warnings:\n",
       "[1] Standard Errors assume that the covariance matrix of the errors is correctly specified.\n",
       "[2] The condition number is large, 9.59e+04. This might indicate that there are\n",
       "strong multicollinearity or other numerical problems.\n",
       "\"\"\""
      ]
     },
     "execution_count": 476,
     "metadata": {},
     "output_type": "execute_result"
    }
   ],
   "source": [
    "y, X = patsy.dmatrices('lognew ~ Hips + Bra + logW + logH ', data=df, return_type=\"dataframe\")\n",
    "model = sm.OLS(y,X)\n",
    "fit = model.fit()\n",
    "fit.summary()"
   ]
  },
  {
   "cell_type": "code",
   "execution_count": null,
   "metadata": {},
   "outputs": [],
   "source": [
    "#Give size a smaller value "
   ]
  },
  {
   "cell_type": "code",
   "execution_count": 170,
   "metadata": {},
   "outputs": [
    {
     "data": {
      "text/html": [
       "<table class=\"simpletable\">\n",
       "<caption>OLS Regression Results</caption>\n",
       "<tr>\n",
       "  <th>Dep. Variable:</th>         <td>smaller</td>     <th>  R-squared:         </th> <td>   0.369</td>\n",
       "</tr>\n",
       "<tr>\n",
       "  <th>Model:</th>                   <td>OLS</td>       <th>  Adj. R-squared:    </th> <td>   0.332</td>\n",
       "</tr>\n",
       "<tr>\n",
       "  <th>Method:</th>             <td>Least Squares</td>  <th>  F-statistic:       </th> <td>   9.928</td>\n",
       "</tr>\n",
       "<tr>\n",
       "  <th>Date:</th>             <td>Thu, 19 Apr 2018</td> <th>  Prob (F-statistic):</th> <td>0.000402</td>\n",
       "</tr>\n",
       "<tr>\n",
       "  <th>Time:</th>                 <td>23:43:48</td>     <th>  Log-Likelihood:    </th> <td> -66.316</td>\n",
       "</tr>\n",
       "<tr>\n",
       "  <th>No. Observations:</th>      <td>    37</td>      <th>  AIC:               </th> <td>   138.6</td>\n",
       "</tr>\n",
       "<tr>\n",
       "  <th>Df Residuals:</th>          <td>    34</td>      <th>  BIC:               </th> <td>   143.5</td>\n",
       "</tr>\n",
       "<tr>\n",
       "  <th>Df Model:</th>              <td>     2</td>      <th>                     </th>     <td> </td>   \n",
       "</tr>\n",
       "<tr>\n",
       "  <th>Covariance Type:</th>      <td>nonrobust</td>    <th>                     </th>     <td> </td>   \n",
       "</tr>\n",
       "</table>\n",
       "<table class=\"simpletable\">\n",
       "<tr>\n",
       "      <td></td>         <th>coef</th>     <th>std err</th>      <th>t</th>      <th>P>|t|</th>  <th>[0.025</th>    <th>0.975]</th>  \n",
       "</tr>\n",
       "<tr>\n",
       "  <th>Intercept</th> <td>   -9.2827</td> <td>    3.750</td> <td>   -2.476</td> <td> 0.018</td> <td>  -16.903</td> <td>   -1.663</td>\n",
       "</tr>\n",
       "<tr>\n",
       "  <th>Waist</th>     <td>    0.1658</td> <td>    0.060</td> <td>    2.781</td> <td> 0.009</td> <td>    0.045</td> <td>    0.287</td>\n",
       "</tr>\n",
       "<tr>\n",
       "  <th>Hips</th>      <td>    0.0560</td> <td>    0.043</td> <td>    1.291</td> <td> 0.205</td> <td>   -0.032</td> <td>    0.144</td>\n",
       "</tr>\n",
       "</table>\n",
       "<table class=\"simpletable\">\n",
       "<tr>\n",
       "  <th>Omnibus:</th>       <td> 4.153</td> <th>  Durbin-Watson:     </th> <td>   0.788</td>\n",
       "</tr>\n",
       "<tr>\n",
       "  <th>Prob(Omnibus):</th> <td> 0.125</td> <th>  Jarque-Bera (JB):  </th> <td>   2.243</td>\n",
       "</tr>\n",
       "<tr>\n",
       "  <th>Skew:</th>          <td> 0.347</td> <th>  Prob(JB):          </th> <td>   0.326</td>\n",
       "</tr>\n",
       "<tr>\n",
       "  <th>Kurtosis:</th>      <td> 2.013</td> <th>  Cond. No.          </th> <td>1.72e+03</td>\n",
       "</tr>\n",
       "</table>"
      ],
      "text/plain": [
       "<class 'statsmodels.iolib.summary.Summary'>\n",
       "\"\"\"\n",
       "                            OLS Regression Results                            \n",
       "==============================================================================\n",
       "Dep. Variable:                smaller   R-squared:                       0.369\n",
       "Model:                            OLS   Adj. R-squared:                  0.332\n",
       "Method:                 Least Squares   F-statistic:                     9.928\n",
       "Date:                Thu, 19 Apr 2018   Prob (F-statistic):           0.000402\n",
       "Time:                        23:43:48   Log-Likelihood:                -66.316\n",
       "No. Observations:                  37   AIC:                             138.6\n",
       "Df Residuals:                      34   BIC:                             143.5\n",
       "Df Model:                           2                                         \n",
       "Covariance Type:            nonrobust                                         \n",
       "==============================================================================\n",
       "                 coef    std err          t      P>|t|      [0.025      0.975]\n",
       "------------------------------------------------------------------------------\n",
       "Intercept     -9.2827      3.750     -2.476      0.018     -16.903      -1.663\n",
       "Waist          0.1658      0.060      2.781      0.009       0.045       0.287\n",
       "Hips           0.0560      0.043      1.291      0.205      -0.032       0.144\n",
       "==============================================================================\n",
       "Omnibus:                        4.153   Durbin-Watson:                   0.788\n",
       "Prob(Omnibus):                  0.125   Jarque-Bera (JB):                2.243\n",
       "Skew:                           0.347   Prob(JB):                        0.326\n",
       "Kurtosis:                       2.013   Cond. No.                     1.72e+03\n",
       "==============================================================================\n",
       "\n",
       "Warnings:\n",
       "[1] Standard Errors assume that the covariance matrix of the errors is correctly specified.\n",
       "[2] The condition number is large, 1.72e+03. This might indicate that there are\n",
       "strong multicollinearity or other numerical problems.\n",
       "\"\"\""
      ]
     },
     "execution_count": 170,
     "metadata": {},
     "output_type": "execute_result"
    }
   ],
   "source": [
    "y, X = patsy.dmatrices('smaller ~ Waist + Hips', data=df, return_type=\"dataframe\")\n",
    "\n",
    "model = sm.OLS(y,X)\n",
    "fit = model.fit()\n",
    "fit.summary()"
   ]
  },
  {
   "cell_type": "code",
   "execution_count": null,
   "metadata": {},
   "outputs": [],
   "source": []
  }
 ],
 "metadata": {
  "kernelspec": {
   "display_name": "Python 3",
   "language": "python",
   "name": "python3"
  },
  "language_info": {
   "codemirror_mode": {
    "name": "ipython",
    "version": 3
   },
   "file_extension": ".py",
   "mimetype": "text/x-python",
   "name": "python",
   "nbconvert_exporter": "python",
   "pygments_lexer": "ipython3",
   "version": "3.6.4"
  }
 },
 "nbformat": 4,
 "nbformat_minor": 2
}
