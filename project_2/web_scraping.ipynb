{
 "cells": [
  {
   "cell_type": "code",
   "execution_count": 26,
   "metadata": {},
   "outputs": [],
   "source": [
    "import requests\n",
    "from __future__ import print_function, division\n",
    "from bs4 import BeautifulSoup\n",
    "from selenium import webdriver\n",
    "from selenium.webdriver.common.keys import Keys\n",
    "import time\n",
    "\n",
    "import os\n",
    "chromedriver = \"/Users/apple/Downloads/chromedriver\" # path to the chromedriver executable\n",
    "os.environ[\"webdriver.chrome.driver\"] = chromedriver\n",
    "\n",
    "driver = webdriver.Chrome(chromedriver)"
   ]
  },
  {
   "cell_type": "code",
   "execution_count": 27,
   "metadata": {},
   "outputs": [],
   "source": [
    "matrix_url = \"http://us.shein.com/Pink-Bow-Tie-Open-Back-Embroidered-Lace-Dress-p-324885-cat-1727.html\"\n",
    "response = requests.get(matrix_url)\n",
    "page = response.text\n",
    "soup = BeautifulSoup(page,\"lxml\")"
   ]
  },
  {
   "cell_type": "code",
   "execution_count": 28,
   "metadata": {},
   "outputs": [],
   "source": [
    "driver.get(matrix_url)"
   ]
  },
  {
   "cell_type": "code",
   "execution_count": 134,
   "metadata": {},
   "outputs": [],
   "source": [
    "dataset = []"
   ]
  },
  {
   "cell_type": "code",
   "execution_count": 146,
   "metadata": {},
   "outputs": [
    {
     "data": {
      "text/plain": [
       "[['Item Size: M', 'Overall Fit: True to Size', '165', '87', '71', '90', '34'],\n",
       " ['Item Size: XS', 'Overall Fit: True to Size', '160', '89', '61', '94', '32'],\n",
       " ['Item Size: XS', 'Overall Fit: True to Size', '150', '77', '61', '85', '32'],\n",
       " ['Item Size: S', 'Overall Fit: True to Size', '154', '91', '63', '93', '32'],\n",
       " ['Item Size: XS', 'Overall Fit: Small', '159', '85', '65', '86', '32'],\n",
       " ['Item Size: M', 'Overall Fit: True to Size', '164', '96', '76', '102', '36'],\n",
       " ['Item Size: M', 'Overall Fit: True to Size', '138', '92', '75', '102', '38'],\n",
       " ['Item Size: XS', 'Overall Fit: True to Size', '163', '78', '66', '82', '32'],\n",
       " ['Item Size: M', 'Overall Fit: True to Size', '149', '82', '71', '87', '32'],\n",
       " ['Item Size: M', 'Overall Fit: True to Size', '165', '90', '73', '99', '32'],\n",
       " ['Item Size: M', 'Overall Fit: True to Size', '138', '75', '67', '84', '32'],\n",
       " ['Item Size: S', 'Overall Fit: Large', '157', '87', '65', '82', '32'],\n",
       " ['Item Size: M', 'Overall Fit: Large', '166', '74', '64', '80', '36'],\n",
       " ['Item Size: M', 'Overall Fit: Small', '165', '83', '73', '87', '32'],\n",
       " ['Item Size: S', 'Overall Fit: Small', '150', '88', '63', '83', '34'],\n",
       " ['Item Size: L', 'Overall Fit: Large', '165', '85', '75', '90', '36'],\n",
       " ['Item Size: S', 'Overall Fit: True to Size', '30', '137', '70', '60', '80'],\n",
       " ['Item Size: XS', 'Overall Fit: Small', '158', '87', '62', '89', '32'],\n",
       " ['Item Size: L', 'Overall Fit: True to Size', '165', '93', '70', '99', '36'],\n",
       " ['Item Size: M', 'Overall Fit: True to Size', '144', '94', '68', '85', '34'],\n",
       " ['Item Size: L', 'Overall Fit: True to Size', '161', '96', '72', '98', '32'],\n",
       " ['Item Size: S', 'Overall Fit: True to Size', '158', '87', '70', '90', '32'],\n",
       " ['Item Size: L', 'Overall Fit: True to Size', '164', '94', '70', '101', '36'],\n",
       " ['Item Size: M', 'Overall Fit: True to Size', '152', '70', '60', '80', '36'],\n",
       " ['Item Size: M', 'Overall Fit: True to Size', '154', '91', '72', '91', '34'],\n",
       " ['Item Size: M', 'Overall Fit: True to Size', '152', '87', '64', '91', '34'],\n",
       " ['Item Size: XS', 'Overall Fit: True to Size', '141', '73', '66', '84', '34'],\n",
       " ['Item Size: S', 'Overall Fit: Small', '158', '84', '71', '83', '32'],\n",
       " ['Item Size: XS', 'Overall Fit: Large', '50', '152', '87', '66', '81'],\n",
       " ['Item Size: S', 'Overall Fit: True to Size', '159', '87', '71', '84', '34'],\n",
       " ['Item Size: S', 'Overall Fit: True to Size', '137', '70', '60', '80', '32'],\n",
       " ['Item Size: M', 'Overall Fit: True to Size', '153', '88', '71', '94', '34'],\n",
       " ['Item Size: S', 'Overall Fit: True to Size', '173', '83', '66', '91', '34'],\n",
       " ['Item Size: S', 'Overall Fit: True to Size', '159', '82', '68', '85', '32'],\n",
       " ['Item Size: L',\n",
       "  'Overall Fit: True to Size',\n",
       "  '146',\n",
       "  '103',\n",
       "  '78',\n",
       "  '104',\n",
       "  '36'],\n",
       " ['Item Size: S', 'Overall Fit: True to Size', '163', '87', '69', '91', '34'],\n",
       " ['Item Size: M', 'Overall Fit: Small', '149', '93', '80', '93', '36'],\n",
       " ['Item Size: M', 'Overall Fit: True to Size', '143', '70', '60', '84', '34'],\n",
       " ['Item Size: XS', 'Overall Fit: True to Size', '137', '70', '61', '81', '34'],\n",
       " ['Item Size: M', 'Overall Fit: True to Size', '160', '94', '74', '94', '36'],\n",
       " ['Item Size: S', 'Overall Fit: True to Size', '160', '91', '64', '100', '34'],\n",
       " ['Item Size: L', 'Overall Fit: True to Size', '155', '98', '77', '98', '36'],\n",
       " ['Item Size: M', 'Overall Fit: True to Size', '159', '92', '77', '97', '36'],\n",
       " ['Item Size: M', 'Overall Fit: True to Size', '161', '92', '66', '96', '34'],\n",
       " ['Item Size: M', 'Overall Fit: Small', '165', '86', '76', '98', '34'],\n",
       " ['Item Size: M', 'Overall Fit: Large', '167', '89', '62', '90', '34'],\n",
       " ['Item Size: S', 'Overall Fit: True to Size', '165', '83', '71', '84', '32'],\n",
       " ['Item Size: L', 'Overall Fit: True to Size', '160', '78', '73', '82', '32']]"
      ]
     },
     "execution_count": 146,
     "metadata": {},
     "output_type": "execute_result"
    }
   ],
   "source": [
    "import re\n",
    "import time \n",
    "\n",
    "for page in range(1):\n",
    "    required_class = ['info-size', 'info-fit', 'size-dt-ctn']\n",
    "    cust_str_dict = {}\n",
    "    for r_class in required_class:\n",
    "        res_list = driver.find_elements_by_class_name(r_class)\n",
    "        cust_str_dict[r_class] = list(map(lambda x: x.text, res_list))\n",
    "\n",
    "    one_page = []\n",
    "    # per customer\n",
    "    for i in range(len(cust_str_dict['info-fit'])):\n",
    "        record = [cust_str_dict['info-size'][i], cust_str_dict['info-fit'][i]]\n",
    "        customer_body = cust_str_dict['size-dt-ctn'][i].split('\\n')\n",
    "        for j in customer_body:\n",
    "            num = re.search('\\d+', j).group()\n",
    "            record.append(num)\n",
    "        one_page.append(record)\n",
    "    dataset.extend(one_page)\n",
    "    \n",
    "\n",
    "    go_next = driver.find_element_by_class_name('page-next')\n",
    "    go_next.click()\n",
    "        \n",
    "dataset\n",
    "\n",
    "# dataset.insert(0, ['Item Size', 'Overall Fit', 'Height', 'Bust', 'Waist', 'Hips', 'Bra Size'])\n",
    "# dataset"
   ]
  },
  {
   "cell_type": "code",
   "execution_count": null,
   "metadata": {},
   "outputs": [],
   "source": []
  },
  {
   "cell_type": "code",
   "execution_count": null,
   "metadata": {},
   "outputs": [],
   "source": []
  }
 ],
 "metadata": {
  "kernelspec": {
   "display_name": "Python 3",
   "language": "python",
   "name": "python3"
  },
  "language_info": {
   "codemirror_mode": {
    "name": "ipython",
    "version": 3
   },
   "file_extension": ".py",
   "mimetype": "text/x-python",
   "name": "python",
   "nbconvert_exporter": "python",
   "pygments_lexer": "ipython3",
   "version": "3.6.4"
  }
 },
 "nbformat": 4,
 "nbformat_minor": 2
}
