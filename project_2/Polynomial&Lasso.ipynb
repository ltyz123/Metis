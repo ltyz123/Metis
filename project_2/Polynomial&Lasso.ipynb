{
 "cells": [
  {
   "cell_type": "code",
   "execution_count": 38,
   "metadata": {},
   "outputs": [],
   "source": [
    "from __future__ import print_function, division\n",
    "\n",
    "# Necessary imports\n",
    "import pandas as pd\n",
    "import numpy as np\n",
    "import statsmodels.api as sm\n",
    "import statsmodels.formula.api as smf\n",
    "import patsy\n",
    "\n",
    "import seaborn as sns\n",
    "import matplotlib.pyplot as plt\n",
    "from sklearn.linear_model import LinearRegression\n",
    "from sklearn.linear_model import RidgeCV\n",
    "%matplotlib inline\n",
    "from sklearn.preprocessing import StandardScaler\n",
    "from sklearn.linear_model import Lasso\n",
    "from sklearn.model_selection import KFold\n",
    "from sklearn.model_selection import train_test_split"
   ]
  },
  {
   "cell_type": "code",
   "execution_count": 56,
   "metadata": {},
   "outputs": [
    {
     "data": {
      "text/html": [
       "<div>\n",
       "<style scoped>\n",
       "    .dataframe tbody tr th:only-of-type {\n",
       "        vertical-align: middle;\n",
       "    }\n",
       "\n",
       "    .dataframe tbody tr th {\n",
       "        vertical-align: top;\n",
       "    }\n",
       "\n",
       "    .dataframe thead th {\n",
       "        text-align: right;\n",
       "    }\n",
       "</style>\n",
       "<table border=\"1\" class=\"dataframe\">\n",
       "  <thead>\n",
       "    <tr style=\"text-align: right;\">\n",
       "      <th></th>\n",
       "      <th>Unnamed: 0</th>\n",
       "      <th>Item Size</th>\n",
       "      <th>Overall Fit</th>\n",
       "      <th>Height</th>\n",
       "      <th>Bust</th>\n",
       "      <th>Waist</th>\n",
       "      <th>Hips</th>\n",
       "      <th>Bra</th>\n",
       "      <th>new</th>\n",
       "    </tr>\n",
       "  </thead>\n",
       "  <tbody>\n",
       "    <tr>\n",
       "      <th>0</th>\n",
       "      <td>0</td>\n",
       "      <td>Item Size: XXS</td>\n",
       "      <td>Overall Fit: True to Size</td>\n",
       "      <td>178</td>\n",
       "      <td>84</td>\n",
       "      <td>72</td>\n",
       "      <td>93</td>\n",
       "      <td>81.28</td>\n",
       "      <td>-2.438697</td>\n",
       "    </tr>\n",
       "    <tr>\n",
       "      <th>1</th>\n",
       "      <td>1</td>\n",
       "      <td>Item Size: XXS</td>\n",
       "      <td>Overall Fit: True to Size</td>\n",
       "      <td>153</td>\n",
       "      <td>79</td>\n",
       "      <td>61</td>\n",
       "      <td>82</td>\n",
       "      <td>81.28</td>\n",
       "      <td>-2.438697</td>\n",
       "    </tr>\n",
       "    <tr>\n",
       "      <th>2</th>\n",
       "      <td>2</td>\n",
       "      <td>Item Size: XS</td>\n",
       "      <td>Overall Fit: True to Size</td>\n",
       "      <td>160</td>\n",
       "      <td>89</td>\n",
       "      <td>61</td>\n",
       "      <td>94</td>\n",
       "      <td>81.28</td>\n",
       "      <td>-1.406697</td>\n",
       "    </tr>\n",
       "    <tr>\n",
       "      <th>3</th>\n",
       "      <td>3</td>\n",
       "      <td>Item Size: XS</td>\n",
       "      <td>Overall Fit: True to Size</td>\n",
       "      <td>150</td>\n",
       "      <td>77</td>\n",
       "      <td>61</td>\n",
       "      <td>85</td>\n",
       "      <td>81.28</td>\n",
       "      <td>-1.406697</td>\n",
       "    </tr>\n",
       "    <tr>\n",
       "      <th>4</th>\n",
       "      <td>4</td>\n",
       "      <td>Item Size: XS</td>\n",
       "      <td>Overall Fit: True to Size</td>\n",
       "      <td>163</td>\n",
       "      <td>78</td>\n",
       "      <td>66</td>\n",
       "      <td>82</td>\n",
       "      <td>81.28</td>\n",
       "      <td>-1.406697</td>\n",
       "    </tr>\n",
       "  </tbody>\n",
       "</table>\n",
       "</div>"
      ],
      "text/plain": [
       "   Unnamed: 0       Item Size                Overall Fit  Height  Bust  Waist  \\\n",
       "0           0  Item Size: XXS  Overall Fit: True to Size     178    84     72   \n",
       "1           1  Item Size: XXS  Overall Fit: True to Size     153    79     61   \n",
       "2           2   Item Size: XS  Overall Fit: True to Size     160    89     61   \n",
       "3           3   Item Size: XS  Overall Fit: True to Size     150    77     61   \n",
       "4           4   Item Size: XS  Overall Fit: True to Size     163    78     66   \n",
       "\n",
       "   Hips    Bra       new  \n",
       "0    93  81.28 -2.438697  \n",
       "1    82  81.28 -2.438697  \n",
       "2    94  81.28 -1.406697  \n",
       "3    85  81.28 -1.406697  \n",
       "4    82  81.28 -1.406697  "
      ]
     },
     "execution_count": 56,
     "metadata": {},
     "output_type": "execute_result"
    }
   ],
   "source": [
    "df = pd.read_csv('data_std.csv')\n",
    "df.head()"
   ]
  },
  {
   "cell_type": "code",
   "execution_count": 64,
   "metadata": {},
   "outputs": [],
   "source": [
    "y = df['new']\n",
    "X=df.filter(items=['Height', 'Bust', 'Waist', 'Hips', 'Bra'])"
   ]
  },
  {
   "cell_type": "code",
   "execution_count": null,
   "metadata": {},
   "outputs": [],
   "source": []
  },
  {
   "cell_type": "code",
   "execution_count": 67,
   "metadata": {},
   "outputs": [],
   "source": [
    "alphas = [1e-10,1e-9,1e-8,1e-7,1e-6,1e-5,1e-4,1e-3,1e-2,1e-1, 1e0]"
   ]
  },
  {
   "cell_type": "code",
   "execution_count": 71,
   "metadata": {},
   "outputs": [],
   "source": [
    "results = {}\n",
    "for alpha in alphas:\n",
    "    kf = KFold(n_splits=5, random_state=8)\n",
    "    splits = kf.split(X)\n",
    "    for train_index, test_index in splits:\n",
    "        X_train, X_test = X.iloc[train_index], X.iloc[test_index]\n",
    "        y_train, y_test = y[train_index], y[test_index]\n",
    "        lr = Lasso(alpha=alpha)\n",
    "        lr.fit(X_train, y_train)\n",
    "        score = lr.score(X_test, y_test)\n",
    "        result_list = results.get(alpha, [])\n",
    "        result_list.append(score)\n",
    "        results[alpha] = result_list"
   ]
  },
  {
   "cell_type": "code",
   "execution_count": 72,
   "metadata": {},
   "outputs": [
    {
     "data": {
      "text/plain": [
       "{1e-10: -4.0489753769232087e+31,\n",
       " 1e-09: -4.0489753751400174e+31,\n",
       " 1e-08: -4.048975357132252e+31,\n",
       " 1e-07: -4.048975176305306e+31,\n",
       " 1e-06: -4.0489739478020413e+31,\n",
       " 1e-05: -4.048961715462604e+31,\n",
       " 0.0001: -4.0487832749622833e+31,\n",
       " 0.001: -4.0469784599819018e+31,\n",
       " 0.01: -4.028975720532161e+31,\n",
       " 0.1: -3.857266879296345e+31,\n",
       " 1.0: -2.7380681682417363e+31}"
      ]
     },
     "execution_count": 72,
     "metadata": {},
     "output_type": "execute_result"
    }
   ],
   "source": [
    "for alpha in results.keys():\n",
    "    results[alpha] = np.array(results[alpha]).mean()\n",
    "results"
   ]
  },
  {
   "cell_type": "code",
   "execution_count": 75,
   "metadata": {},
   "outputs": [
    {
     "data": {
      "text/plain": [
       "array([0.        , 0.00672812, 0.01548462, 0.0173144 , 0.03175039])"
      ]
     },
     "execution_count": 75,
     "metadata": {},
     "output_type": "execute_result"
    }
   ],
   "source": [
    "lr = Lasso(alpha=1.0)\n",
    "lr.fit(X, y)\n",
    "lr.coef_"
   ]
  },
  {
   "cell_type": "code",
   "execution_count": 78,
   "metadata": {},
   "outputs": [],
   "source": [
    "from sklearn.preprocessing import PolynomialFeatures\n",
    "from sklearn import linear_model\n",
    "from sklearn.linear_model import Perceptron\n",
    "from sklearn.pipeline import Pipeline"
   ]
  },
  {
   "cell_type": "code",
   "execution_count": 79,
   "metadata": {},
   "outputs": [],
   "source": [
    "clf = LinearRegression()\n",
    "poly = PolynomialFeatures(2)\n",
    "X = poly.fit_transform(X)"
   ]
  },
  {
   "cell_type": "code",
   "execution_count": 83,
   "metadata": {},
   "outputs": [
    {
     "name": "stderr",
     "output_type": "stream",
     "text": [
      "/anaconda3/lib/python3.6/site-packages/sklearn/linear_model/coordinate_descent.py:491: ConvergenceWarning: Objective did not converge. You might want to increase the number of iterations. Fitting data with very small alpha may cause precision problems.\n",
      "  ConvergenceWarning)\n"
     ]
    }
   ],
   "source": [
    "alphas = [1e-10,1e-9,1e-8,1e-7,1e-6,1e-5,1e-4,1e-3,1e-2,1e-1, 1e0]\n",
    "results = {}\n",
    "for alpha in alphas:\n",
    "    kf = KFold(n_splits=5, random_state=8)\n",
    "    splits = kf.split(X)\n",
    "    for train_index, test_index in splits:\n",
    "        X_train, X_test = X[train_index], X[test_index]\n",
    "        y_train, y_test = y[train_index], y[test_index]\n",
    "        lr = Lasso(alpha=alpha)\n",
    "        lr.fit(X_train, y_train)\n",
    "        score = lr.score(X_test, y_test)\n",
    "        result_list = results.get(alpha, [])\n",
    "        result_list.append(score)\n",
    "        results[alpha] = result_list"
   ]
  },
  {
   "cell_type": "code",
   "execution_count": 84,
   "metadata": {},
   "outputs": [
    {
     "data": {
      "text/plain": [
       "{1e-10: -5.183534830791785e+31,\n",
       " 1e-09: -5.183534777794541e+31,\n",
       " 1e-08: -5.183534247822012e+31,\n",
       " 1e-07: -5.183528948101416e+31,\n",
       " 1e-06: -5.183475951279925e+31,\n",
       " 1e-05: -5.182946021519007e+31,\n",
       " 0.0001: -5.177650573904385e+31,\n",
       " 0.001: -5.125069806418898e+31,\n",
       " 0.01: -4.7483450276755565e+31,\n",
       " 0.1: -4.693734031001299e+31,\n",
       " 1.0: -4.385005825089531e+31}"
      ]
     },
     "execution_count": 84,
     "metadata": {},
     "output_type": "execute_result"
    }
   ],
   "source": [
    "for alpha in results.keys():\n",
    "    results[alpha] = np.array(results[alpha]).mean()\n",
    "results"
   ]
  },
  {
   "cell_type": "code",
   "execution_count": 85,
   "metadata": {},
   "outputs": [
    {
     "name": "stderr",
     "output_type": "stream",
     "text": [
      "/anaconda3/lib/python3.6/site-packages/sklearn/linear_model/coordinate_descent.py:491: ConvergenceWarning: Objective did not converge. You might want to increase the number of iterations. Fitting data with very small alpha may cause precision problems.\n",
      "  ConvergenceWarning)\n"
     ]
    },
    {
     "data": {
      "text/plain": [
       "array([ 0.00000000e+00, -0.00000000e+00, -0.00000000e+00,  0.00000000e+00,\n",
       "        0.00000000e+00,  0.00000000e+00, -5.17445287e-05, -0.00000000e+00,\n",
       "        8.99577516e-04,  1.97409249e-04, -7.50270890e-04,  1.41186868e-03,\n",
       "       -1.16254111e-03, -1.38110449e-04, -1.57056414e-03,  0.00000000e+00,\n",
       "       -0.00000000e+00,  0.00000000e+00, -0.00000000e+00, -0.00000000e+00,\n",
       "        1.87362880e-03])"
      ]
     },
     "execution_count": 85,
     "metadata": {},
     "output_type": "execute_result"
    }
   ],
   "source": [
    "lr = Lasso(alpha=1.0)\n",
    "lr.fit(X, y)\n",
    "lr.coef_"
   ]
  },
  {
   "cell_type": "code",
   "execution_count": 86,
   "metadata": {},
   "outputs": [
    {
     "data": {
      "text/plain": [
       "['1',\n",
       " 'x0',\n",
       " 'x1',\n",
       " 'x2',\n",
       " 'x3',\n",
       " 'x4',\n",
       " 'x0^2',\n",
       " 'x0 x1',\n",
       " 'x0 x2',\n",
       " 'x0 x3',\n",
       " 'x0 x4',\n",
       " 'x1^2',\n",
       " 'x1 x2',\n",
       " 'x1 x3',\n",
       " 'x1 x4',\n",
       " 'x2^2',\n",
       " 'x2 x3',\n",
       " 'x2 x4',\n",
       " 'x3^2',\n",
       " 'x3 x4',\n",
       " 'x4^2']"
      ]
     },
     "execution_count": 86,
     "metadata": {},
     "output_type": "execute_result"
    }
   ],
   "source": [
    "poly.get_feature_names()"
   ]
  },
  {
   "cell_type": "code",
   "execution_count": 87,
   "metadata": {},
   "outputs": [],
   "source": [
    "y = df['new']\n",
    "X=df.filter(items=['Bust', 'Waist', 'Hips', 'Bra'])"
   ]
  },
  {
   "cell_type": "code",
   "execution_count": 100,
   "metadata": {},
   "outputs": [],
   "source": [
    "clf = LinearRegression()\n",
    "poly = PolynomialFeatures(2)\n",
    "X = poly.fit_transform(X)"
   ]
  },
  {
   "cell_type": "code",
   "execution_count": 101,
   "metadata": {},
   "outputs": [
    {
     "name": "stderr",
     "output_type": "stream",
     "text": [
      "/anaconda3/lib/python3.6/site-packages/sklearn/linear_model/coordinate_descent.py:491: ConvergenceWarning: Objective did not converge. You might want to increase the number of iterations. Fitting data with very small alpha may cause precision problems.\n",
      "  ConvergenceWarning)\n"
     ]
    }
   ],
   "source": [
    "alphas = [1e-10,1e-9,1e-8,1e-7,1e-6,1e-5,1e-4,1e-3,1e-2,1e-1, 1e0]\n",
    "results = {}\n",
    "for alpha in alphas:\n",
    "    kf = KFold(n_splits=5, random_state=8)\n",
    "    splits = kf.split(X)\n",
    "    for train_index, test_index in splits:\n",
    "        X_train, X_test = X[train_index], X[test_index]\n",
    "        y_train, y_test = y[train_index], y[test_index]\n",
    "        lr = Lasso(alpha=alpha)\n",
    "        lr.fit(X_train, y_train)\n",
    "        score = lr.score(X_test, y_test)\n",
    "        result_list = results.get(alpha, [])\n",
    "        result_list.append(score)\n",
    "        results[alpha] = result_list"
   ]
  },
  {
   "cell_type": "code",
   "execution_count": 102,
   "metadata": {},
   "outputs": [
    {
     "data": {
      "text/plain": [
       "{1e-10: -5.491827466412347e+31,\n",
       " 1e-09: -5.491827457040664e+31,\n",
       " 1e-08: -5.491827363324471e+31,\n",
       " 1e-07: -5.491826426165543e+31,\n",
       " 1e-06: -5.491817054662425e+31,\n",
       " 1e-05: -5.491723347209343e+31,\n",
       " 0.0001: -5.490786807363064e+31,\n",
       " 0.001: -5.481474056557204e+31,\n",
       " 0.01: -5.4568872706486685e+31,\n",
       " 0.1: -5.444378011298627e+31,\n",
       " 1.0: -5.40681061957835e+31}"
      ]
     },
     "execution_count": 102,
     "metadata": {},
     "output_type": "execute_result"
    }
   ],
   "source": [
    "for alpha in results.keys():\n",
    "    results[alpha] = np.array(results[alpha]).mean()\n",
    "results"
   ]
  },
  {
   "cell_type": "code",
   "execution_count": 91,
   "metadata": {},
   "outputs": [
    {
     "name": "stderr",
     "output_type": "stream",
     "text": [
      "/anaconda3/lib/python3.6/site-packages/sklearn/linear_model/coordinate_descent.py:491: ConvergenceWarning: Objective did not converge. You might want to increase the number of iterations. Fitting data with very small alpha may cause precision problems.\n",
      "  ConvergenceWarning)\n"
     ]
    },
    {
     "data": {
      "text/plain": [
       "array([ 0.00000000e+00, -0.00000000e+00,  0.00000000e+00,  0.00000000e+00,\n",
       "        0.00000000e+00,  1.49607982e-03, -5.23378688e-04, -1.16371558e-05,\n",
       "       -2.37306623e-03,  6.46255342e-04,  0.00000000e+00,  0.00000000e+00,\n",
       "        1.06323162e-04,  0.00000000e+00,  1.56754427e-03])"
      ]
     },
     "execution_count": 91,
     "metadata": {},
     "output_type": "execute_result"
    }
   ],
   "source": [
    "lr = Lasso(alpha=1.0)\n",
    "lr.fit(X, y)\n",
    "lr.coef_"
   ]
  },
  {
   "cell_type": "code",
   "execution_count": 92,
   "metadata": {},
   "outputs": [
    {
     "data": {
      "text/plain": [
       "['1',\n",
       " 'x0',\n",
       " 'x1',\n",
       " 'x2',\n",
       " 'x3',\n",
       " 'x0^2',\n",
       " 'x0 x1',\n",
       " 'x0 x2',\n",
       " 'x0 x3',\n",
       " 'x1^2',\n",
       " 'x1 x2',\n",
       " 'x1 x3',\n",
       " 'x2^2',\n",
       " 'x2 x3',\n",
       " 'x3^2']"
      ]
     },
     "execution_count": 92,
     "metadata": {},
     "output_type": "execute_result"
    }
   ],
   "source": [
    "poly.get_feature_names()"
   ]
  },
  {
   "cell_type": "code",
   "execution_count": 96,
   "metadata": {},
   "outputs": [],
   "source": [
    "y = df['new']\n",
    "X=df.filter(items=['Bust', 'Waist', 'Hips', 'Bra'])"
   ]
  },
  {
   "cell_type": "code",
   "execution_count": 97,
   "metadata": {},
   "outputs": [],
   "source": [
    "clf = LinearRegression()\n",
    "poly = PolynomialFeatures(3)\n",
    "X = poly.fit_transform(X)"
   ]
  },
  {
   "cell_type": "code",
   "execution_count": 98,
   "metadata": {},
   "outputs": [
    {
     "name": "stderr",
     "output_type": "stream",
     "text": [
      "/anaconda3/lib/python3.6/site-packages/sklearn/linear_model/coordinate_descent.py:491: ConvergenceWarning: Objective did not converge. You might want to increase the number of iterations. Fitting data with very small alpha may cause precision problems.\n",
      "  ConvergenceWarning)\n"
     ]
    },
    {
     "data": {
      "text/plain": [
       "array([ 0.00000000e+00, -0.00000000e+00,  0.00000000e+00,  0.00000000e+00,\n",
       "        0.00000000e+00, -1.33566112e-04,  0.00000000e+00,  0.00000000e+00,\n",
       "       -6.06530811e-05, -0.00000000e+00,  2.51433239e-04,  0.00000000e+00,\n",
       "        6.96460260e-04,  0.00000000e+00,  0.00000000e+00,  2.03222032e-05,\n",
       "       -1.10963062e-05, -3.66605786e-06, -6.82158348e-06,  3.54388888e-06,\n",
       "       -2.07025402e-06, -7.13773159e-06,  6.41409202e-07, -6.30374341e-06,\n",
       "       -3.84989577e-06,  4.17923205e-06,  5.15901300e-06, -1.99409944e-06,\n",
       "        6.80559973e-07, -2.95520520e-06,  6.50253371e-06, -5.49162463e-07,\n",
       "       -3.50267221e-06,  1.97819785e-07,  1.06897403e-05])"
      ]
     },
     "execution_count": 98,
     "metadata": {},
     "output_type": "execute_result"
    }
   ],
   "source": [
    "lr = Lasso(alpha=1.0)\n",
    "lr.fit(X, y)\n",
    "lr.coef_"
   ]
  },
  {
   "cell_type": "code",
   "execution_count": 99,
   "metadata": {},
   "outputs": [
    {
     "data": {
      "text/plain": [
       "['1',\n",
       " 'x0',\n",
       " 'x1',\n",
       " 'x2',\n",
       " 'x3',\n",
       " 'x0^2',\n",
       " 'x0 x1',\n",
       " 'x0 x2',\n",
       " 'x0 x3',\n",
       " 'x1^2',\n",
       " 'x1 x2',\n",
       " 'x1 x3',\n",
       " 'x2^2',\n",
       " 'x2 x3',\n",
       " 'x3^2',\n",
       " 'x0^3',\n",
       " 'x0^2 x1',\n",
       " 'x0^2 x2',\n",
       " 'x0^2 x3',\n",
       " 'x0 x1^2',\n",
       " 'x0 x1 x2',\n",
       " 'x0 x1 x3',\n",
       " 'x0 x2^2',\n",
       " 'x0 x2 x3',\n",
       " 'x0 x3^2',\n",
       " 'x1^3',\n",
       " 'x1^2 x2',\n",
       " 'x1^2 x3',\n",
       " 'x1 x2^2',\n",
       " 'x1 x2 x3',\n",
       " 'x1 x3^2',\n",
       " 'x2^3',\n",
       " 'x2^2 x3',\n",
       " 'x2 x3^2',\n",
       " 'x3^3']"
      ]
     },
     "execution_count": 99,
     "metadata": {},
     "output_type": "execute_result"
    }
   ],
   "source": [
    "poly.get_feature_names()"
   ]
  },
  {
   "cell_type": "code",
   "execution_count": 105,
   "metadata": {},
   "outputs": [],
   "source": [
    "y = df['new']\n",
    "X=df.filter(items=['Waist', 'Hips', 'Bra'])"
   ]
  },
  {
   "cell_type": "code",
   "execution_count": 106,
   "metadata": {},
   "outputs": [],
   "source": [
    "clf = LinearRegression()\n",
    "poly = PolynomialFeatures(2)\n",
    "X = poly.fit_transform(X)"
   ]
  },
  {
   "cell_type": "code",
   "execution_count": 114,
   "metadata": {},
   "outputs": [
    {
     "name": "stderr",
     "output_type": "stream",
     "text": [
      "/anaconda3/lib/python3.6/site-packages/sklearn/linear_model/coordinate_descent.py:491: ConvergenceWarning: Objective did not converge. You might want to increase the number of iterations. Fitting data with very small alpha may cause precision problems.\n",
      "  ConvergenceWarning)\n"
     ]
    }
   ],
   "source": [
    "alphas = [1e-10,1e-9,1e-8,1e-7,1e-6,1e-5,1e-4,1e-3,1e-2,1e-1, 1e0]\n",
    "results = {}\n",
    "for alpha in alphas:\n",
    "    kf = KFold(n_splits=5, random_state=8)\n",
    "    splits = kf.split(X)\n",
    "    for train_index, test_index in splits:\n",
    "        X_train, X_test = X[train_index], X[test_index]\n",
    "        y_train, y_test = y[train_index], y[test_index]\n",
    "        lr = Lasso(alpha=alpha)\n",
    "        lr.fit(X_train, y_train)\n",
    "        score = lr.score(X_test, y_test)\n",
    "        result_list = results.get(alpha, [])\n",
    "        result_list.append(score)\n",
    "        results[alpha] = result_list"
   ]
  },
  {
   "cell_type": "code",
   "execution_count": 115,
   "metadata": {},
   "outputs": [
    {
     "data": {
      "text/plain": [
       "{1e-10: -5.610273944187317e+31,\n",
       " 1e-09: -5.610273931656518e+31,\n",
       " 1e-08: -5.610273806348558e+31,\n",
       " 1e-07: -5.610272553269394e+31,\n",
       " 1e-06: -5.610260022543275e+31,\n",
       " 1e-05: -5.610134721811397e+31,\n",
       " 0.0001: -5.608882367439078e+31,\n",
       " 0.001: -5.5964241027503055e+31,\n",
       " 0.01: -5.456761731994007e+31,\n",
       " 0.1: -5.510722390284662e+31,\n",
       " 1.0: -5.2943595401982895e+31}"
      ]
     },
     "execution_count": 115,
     "metadata": {},
     "output_type": "execute_result"
    }
   ],
   "source": [
    "for alpha in results.keys():\n",
    "    results[alpha] = np.array(results[alpha]).mean()\n",
    "results"
   ]
  },
  {
   "cell_type": "code",
   "execution_count": 107,
   "metadata": {},
   "outputs": [
    {
     "data": {
      "text/plain": [
       "array([ 0.        ,  0.        ,  0.        ,  0.        ,  0.00031944,\n",
       "        0.        , -0.        ,  0.00011707, -0.        ,  0.00049044])"
      ]
     },
     "execution_count": 107,
     "metadata": {},
     "output_type": "execute_result"
    }
   ],
   "source": [
    "lr = Lasso(alpha=1.0)\n",
    "lr.fit(X, y)\n",
    "lr.coef_"
   ]
  },
  {
   "cell_type": "code",
   "execution_count": 108,
   "metadata": {},
   "outputs": [
    {
     "data": {
      "text/plain": [
       "['1', 'x0', 'x1', 'x2', 'x0^2', 'x0 x1', 'x0 x2', 'x1^2', 'x1 x2', 'x2^2']"
      ]
     },
     "execution_count": 108,
     "metadata": {},
     "output_type": "execute_result"
    }
   ],
   "source": [
    "poly.get_feature_names()"
   ]
  },
  {
   "cell_type": "code",
   "execution_count": 109,
   "metadata": {},
   "outputs": [],
   "source": [
    "y = df['new']\n",
    "X=df.filter(items=['Waist', 'Hips', 'Bra'])"
   ]
  },
  {
   "cell_type": "code",
   "execution_count": 110,
   "metadata": {},
   "outputs": [],
   "source": [
    "clf = LinearRegression()\n",
    "poly = PolynomialFeatures(3)\n",
    "X = poly.fit_transform(X)"
   ]
  },
  {
   "cell_type": "code",
   "execution_count": 111,
   "metadata": {},
   "outputs": [
    {
     "name": "stderr",
     "output_type": "stream",
     "text": [
      "/anaconda3/lib/python3.6/site-packages/sklearn/linear_model/coordinate_descent.py:491: ConvergenceWarning: Objective did not converge. You might want to increase the number of iterations. Fitting data with very small alpha may cause precision problems.\n",
      "  ConvergenceWarning)\n"
     ]
    },
    {
     "data": {
      "text/plain": [
       "array([ 0.00000000e+00,  0.00000000e+00,  0.00000000e+00,  0.00000000e+00,\n",
       "        1.43987836e-04,  6.60490725e-04,  0.00000000e+00,  4.97189680e-04,\n",
       "        0.00000000e+00,  0.00000000e+00,  1.33372489e-05, -4.01962969e-06,\n",
       "       -9.04246350e-06, -8.64446530e-07, -7.39439250e-06, -3.76711686e-07,\n",
       "        1.30805138e-06, -4.11340492e-06, -1.05655667e-06,  1.00207946e-05])"
      ]
     },
     "execution_count": 111,
     "metadata": {},
     "output_type": "execute_result"
    }
   ],
   "source": [
    "lr = Lasso(alpha=1.0)\n",
    "lr.fit(X, y)\n",
    "lr.coef_"
   ]
  },
  {
   "cell_type": "code",
   "execution_count": null,
   "metadata": {},
   "outputs": [],
   "source": []
  }
 ],
 "metadata": {
  "kernelspec": {
   "display_name": "Python 3",
   "language": "python",
   "name": "python3"
  },
  "language_info": {
   "codemirror_mode": {
    "name": "ipython",
    "version": 3
   },
   "file_extension": ".py",
   "mimetype": "text/x-python",
   "name": "python",
   "nbconvert_exporter": "python",
   "pygments_lexer": "ipython3",
   "version": "3.6.4"
  }
 },
 "nbformat": 4,
 "nbformat_minor": 2
}
