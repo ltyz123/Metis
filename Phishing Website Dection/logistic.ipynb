{
 "cells": [
  {
   "cell_type": "code",
   "execution_count": 1,
   "metadata": {},
   "outputs": [
    {
     "name": "stderr",
     "output_type": "stream",
     "text": [
      "/anaconda3/lib/python3.6/site-packages/sklearn/cross_validation.py:41: DeprecationWarning: This module was deprecated in version 0.18 in favor of the model_selection module into which all the refactored classes and functions are moved. Also note that the interface of the new CV iterators are different from that of this module. This module will be removed in 0.20.\n",
      "  \"This module will be removed in 0.20.\", DeprecationWarning)\n"
     ]
    }
   ],
   "source": [
    "from __future__ import print_function\n",
    "import pandas as pd\n",
    "import numpy as np\n",
    "import seaborn as sns\n",
    "\n",
    "import matplotlib.pyplot as plt\n",
    "%matplotlib inline\n",
    "\n",
    "from __future__ import division\n",
    "pd.set_option('display.width',5000)\n",
    "\n",
    "from patsy import dmatrices\n",
    "\n",
    "from sklearn import linear_model as lm\n",
    "from sklearn.linear_model import LogisticRegression\n",
    "from sklearn import cross_validation\n",
    "from sklearn import metrics\n",
    "from sklearn.metrics import confusion_matrix"
   ]
  },
  {
   "cell_type": "code",
   "execution_count": 2,
   "metadata": {},
   "outputs": [
    {
     "data": {
      "text/html": [
       "<div>\n",
       "<style scoped>\n",
       "    .dataframe tbody tr th:only-of-type {\n",
       "        vertical-align: middle;\n",
       "    }\n",
       "\n",
       "    .dataframe tbody tr th {\n",
       "        vertical-align: top;\n",
       "    }\n",
       "\n",
       "    .dataframe thead th {\n",
       "        text-align: right;\n",
       "    }\n",
       "</style>\n",
       "<table border=\"1\" class=\"dataframe\">\n",
       "  <thead>\n",
       "    <tr style=\"text-align: right;\">\n",
       "      <th></th>\n",
       "      <th>index</th>\n",
       "      <th>having_IP_Address</th>\n",
       "      <th>URLURL_Length</th>\n",
       "      <th>Shortining_Service</th>\n",
       "      <th>having_At_Symbol</th>\n",
       "      <th>double_slash_redirecting</th>\n",
       "      <th>Prefix_Suffix</th>\n",
       "      <th>having_Sub_Domain</th>\n",
       "      <th>SSLfinal_State</th>\n",
       "      <th>Domain_registeration_length</th>\n",
       "      <th>...</th>\n",
       "      <th>popUpWidnow</th>\n",
       "      <th>Iframe</th>\n",
       "      <th>age_of_domain</th>\n",
       "      <th>DNSRecord</th>\n",
       "      <th>web_traffic</th>\n",
       "      <th>Page_Rank</th>\n",
       "      <th>Google_Index</th>\n",
       "      <th>Links_pointing_to_page</th>\n",
       "      <th>Statistical_report</th>\n",
       "      <th>Result</th>\n",
       "    </tr>\n",
       "  </thead>\n",
       "  <tbody>\n",
       "    <tr>\n",
       "      <th>0</th>\n",
       "      <td>1</td>\n",
       "      <td>-1</td>\n",
       "      <td>1</td>\n",
       "      <td>1</td>\n",
       "      <td>1</td>\n",
       "      <td>-1</td>\n",
       "      <td>-1</td>\n",
       "      <td>-1</td>\n",
       "      <td>-1</td>\n",
       "      <td>-1</td>\n",
       "      <td>...</td>\n",
       "      <td>1</td>\n",
       "      <td>1</td>\n",
       "      <td>-1</td>\n",
       "      <td>-1</td>\n",
       "      <td>-1</td>\n",
       "      <td>-1</td>\n",
       "      <td>1</td>\n",
       "      <td>1</td>\n",
       "      <td>-1</td>\n",
       "      <td>-1</td>\n",
       "    </tr>\n",
       "  </tbody>\n",
       "</table>\n",
       "<p>1 rows × 32 columns</p>\n",
       "</div>"
      ],
      "text/plain": [
       "   index  having_IP_Address  URLURL_Length  Shortining_Service  having_At_Symbol  double_slash_redirecting  Prefix_Suffix  having_Sub_Domain  SSLfinal_State  Domain_registeration_length   ...    popUpWidnow  Iframe  age_of_domain  DNSRecord  web_traffic  Page_Rank  Google_Index  Links_pointing_to_page  Statistical_report  Result\n",
       "0      1                 -1              1                   1                 1                        -1             -1                 -1              -1                           -1   ...              1       1             -1         -1           -1         -1             1                       1                  -1      -1\n",
       "\n",
       "[1 rows x 32 columns]"
      ]
     },
     "execution_count": 2,
     "metadata": {},
     "output_type": "execute_result"
    }
   ],
   "source": [
    "data = 'phishing_data.csv'\n",
    "df = pd.read_csv(data)\n",
    "df.head(1)"
   ]
  },
  {
   "cell_type": "code",
   "execution_count": 3,
   "metadata": {},
   "outputs": [
    {
     "data": {
      "text/plain": [
       "Index(['index', 'having_IP_Address', 'URLURL_Length', 'Shortining_Service', 'having_At_Symbol', 'double_slash_redirecting', 'Prefix_Suffix', 'having_Sub_Domain', 'SSLfinal_State', 'Domain_registeration_length', 'Favicon', 'port', 'HTTPS_token', 'Request_URL', 'URL_of_Anchor', 'Links_in_tags', 'SFH', 'Submitting_to_email', 'Abnormal_URL', 'Redirect', 'on_mouseover', 'RightClick', 'popUpWidnow', 'Iframe', 'age_of_domain', 'DNSRecord', 'web_traffic', 'Page_Rank', 'Google_Index', 'Links_pointing_to_page', 'Statistical_report', 'Result'], dtype='object')"
      ]
     },
     "execution_count": 3,
     "metadata": {},
     "output_type": "execute_result"
    }
   ],
   "source": [
    "df.columns"
   ]
  },
  {
   "cell_type": "code",
   "execution_count": 4,
   "metadata": {},
   "outputs": [],
   "source": [
    "a = '''\n",
    "'having_IPhaving_IP_Address', 'URLURL_Length', 'Shortining_Service', 'having_At_Symbol', 'double_slash_redirecting', 'Prefix_Suffix', 'having_Sub_Domain', 'SSLfinal_State', 'Domain_registeration_length', 'Favicon', 'port', 'HTTPS_token', 'Request_URL', 'URL_of_Anchor', 'Links_in_tags', 'SFH', 'Submitting_to_email', 'Abnormal_URL', 'Redirect', 'on_mouseover', 'RightClick', 'popUpWidnow', 'Iframe', 'age_of_domain', 'DNSRecord', 'web_traffic', 'Page_Rank', 'Google_Index', 'Links_pointing_to_page', 'Statistical_report'\n",
    "'''"
   ]
  },
  {
   "cell_type": "code",
   "execution_count": 5,
   "metadata": {},
   "outputs": [
    {
     "data": {
      "text/plain": [
       "\"\\n'having_IPhaving_IP_Address+URLURL_Length+Shortining_Service+having_At_Symbol+double_slash_redirecting+Prefix_Suffix+having_Sub_Domain+SSLfinal_State+Domain_registeration_length+Favicon+port+HTTPS_token+Request_URL+URL_of_Anchor+Links_in_tags+SFH+Submitting_to_email+Abnormal_URL+Redirect+on_mouseover+RightClick+popUpWidnow+Iframe+age_of_domain+DNSRecord+web_traffic+Page_Rank+Google_Index+Links_pointing_to_page+Statistical_report'\\n\""
      ]
     },
     "execution_count": 5,
     "metadata": {},
     "output_type": "execute_result"
    }
   ],
   "source": [
    "a.replace('\\', \\'' ,  '+')"
   ]
  },
  {
   "cell_type": "code",
   "execution_count": 6,
   "metadata": {},
   "outputs": [
    {
     "ename": "PatsyError",
     "evalue": "Error evaluating factor: NameError: name 'having_IPhaving_IP_Address' is not defined\n    Result~ having_IPhaving_IP_Address+URLURL_Length+Shortining_Service+having_At_Symbol+double_slash_redirecting+Prefix_Suffix+having_Sub_Domain+SSLfinal_State+Domain_registeration_length+Favicon+port+HTTPS_token+Request_URL+URL_of_Anchor+Links_in_tags+SFH+Submitting_to_email+Abnormal_URL+Redirect+on_mouseover+RightClick+popUpWidnow+Iframe+age_of_domain+DNSRecord+web_traffic+Page_Rank+Google_Index+Links_pointing_to_page+Statistical_report\n            ^^^^^^^^^^^^^^^^^^^^^^^^^^",
     "output_type": "error",
     "traceback": [
      "\u001b[0;31m---------------------------------------------------------------------------\u001b[0m",
      "\u001b[0;31mNameError\u001b[0m                                 Traceback (most recent call last)",
      "\u001b[0;32m/anaconda3/lib/python3.6/site-packages/patsy/compat.py\u001b[0m in \u001b[0;36mcall_and_wrap_exc\u001b[0;34m(msg, origin, f, *args, **kwargs)\u001b[0m\n\u001b[1;32m     35\u001b[0m     \u001b[0;32mtry\u001b[0m\u001b[0;34m:\u001b[0m\u001b[0;34m\u001b[0m\u001b[0m\n\u001b[0;32m---> 36\u001b[0;31m         \u001b[0;32mreturn\u001b[0m \u001b[0mf\u001b[0m\u001b[0;34m(\u001b[0m\u001b[0;34m*\u001b[0m\u001b[0margs\u001b[0m\u001b[0;34m,\u001b[0m \u001b[0;34m**\u001b[0m\u001b[0mkwargs\u001b[0m\u001b[0;34m)\u001b[0m\u001b[0;34m\u001b[0m\u001b[0m\n\u001b[0m\u001b[1;32m     37\u001b[0m     \u001b[0;32mexcept\u001b[0m \u001b[0mException\u001b[0m \u001b[0;32mas\u001b[0m \u001b[0me\u001b[0m\u001b[0;34m:\u001b[0m\u001b[0;34m\u001b[0m\u001b[0m\n",
      "\u001b[0;32m/anaconda3/lib/python3.6/site-packages/patsy/eval.py\u001b[0m in \u001b[0;36meval\u001b[0;34m(self, expr, source_name, inner_namespace)\u001b[0m\n\u001b[1;32m    165\u001b[0m         return eval(code, {}, VarLookupDict([inner_namespace]\n\u001b[0;32m--> 166\u001b[0;31m                                             + self._namespaces))\n\u001b[0m\u001b[1;32m    167\u001b[0m \u001b[0;34m\u001b[0m\u001b[0m\n",
      "\u001b[0;32m<string>\u001b[0m in \u001b[0;36m<module>\u001b[0;34m()\u001b[0m\n",
      "\u001b[0;31mNameError\u001b[0m: name 'having_IPhaving_IP_Address' is not defined",
      "\nThe above exception was the direct cause of the following exception:\n",
      "\u001b[0;31mPatsyError\u001b[0m                                Traceback (most recent call last)",
      "\u001b[0;32m<ipython-input-6-b092a1faa4a6>\u001b[0m in \u001b[0;36m<module>\u001b[0;34m()\u001b[0m\n\u001b[0;32m----> 1\u001b[0;31m \u001b[0my\u001b[0m\u001b[0;34m,\u001b[0m\u001b[0mX\u001b[0m\u001b[0;34m=\u001b[0m\u001b[0mdmatrices\u001b[0m\u001b[0;34m(\u001b[0m\u001b[0;34m'Result~ having_IPhaving_IP_Address+URLURL_Length+Shortining_Service+having_At_Symbol+double_slash_redirecting+Prefix_Suffix+having_Sub_Domain+SSLfinal_State+Domain_registeration_length+Favicon+port+HTTPS_token+Request_URL+URL_of_Anchor+Links_in_tags+SFH+Submitting_to_email+Abnormal_URL+Redirect+on_mouseover+RightClick+popUpWidnow+Iframe+age_of_domain+DNSRecord+web_traffic+Page_Rank+Google_Index+Links_pointing_to_page+Statistical_report'\u001b[0m\u001b[0;34m,\u001b[0m \u001b[0mdata\u001b[0m\u001b[0;34m=\u001b[0m\u001b[0mdf\u001b[0m\u001b[0;34m,\u001b[0m \u001b[0mreturn_type\u001b[0m\u001b[0;34m=\u001b[0m\u001b[0;34m'dataframe'\u001b[0m\u001b[0;34m)\u001b[0m\u001b[0;34m\u001b[0m\u001b[0m\n\u001b[0m",
      "\u001b[0;32m/anaconda3/lib/python3.6/site-packages/patsy/highlevel.py\u001b[0m in \u001b[0;36mdmatrices\u001b[0;34m(formula_like, data, eval_env, NA_action, return_type)\u001b[0m\n\u001b[1;32m    308\u001b[0m     \u001b[0meval_env\u001b[0m \u001b[0;34m=\u001b[0m \u001b[0mEvalEnvironment\u001b[0m\u001b[0;34m.\u001b[0m\u001b[0mcapture\u001b[0m\u001b[0;34m(\u001b[0m\u001b[0meval_env\u001b[0m\u001b[0;34m,\u001b[0m \u001b[0mreference\u001b[0m\u001b[0;34m=\u001b[0m\u001b[0;36m1\u001b[0m\u001b[0;34m)\u001b[0m\u001b[0;34m\u001b[0m\u001b[0m\n\u001b[1;32m    309\u001b[0m     (lhs, rhs) = _do_highlevel_design(formula_like, data, eval_env,\n\u001b[0;32m--> 310\u001b[0;31m                                       NA_action, return_type)\n\u001b[0m\u001b[1;32m    311\u001b[0m     \u001b[0;32mif\u001b[0m \u001b[0mlhs\u001b[0m\u001b[0;34m.\u001b[0m\u001b[0mshape\u001b[0m\u001b[0;34m[\u001b[0m\u001b[0;36m1\u001b[0m\u001b[0;34m]\u001b[0m \u001b[0;34m==\u001b[0m \u001b[0;36m0\u001b[0m\u001b[0;34m:\u001b[0m\u001b[0;34m\u001b[0m\u001b[0m\n\u001b[1;32m    312\u001b[0m         \u001b[0;32mraise\u001b[0m \u001b[0mPatsyError\u001b[0m\u001b[0;34m(\u001b[0m\u001b[0;34m\"model is missing required outcome variables\"\u001b[0m\u001b[0;34m)\u001b[0m\u001b[0;34m\u001b[0m\u001b[0m\n",
      "\u001b[0;32m/anaconda3/lib/python3.6/site-packages/patsy/highlevel.py\u001b[0m in \u001b[0;36m_do_highlevel_design\u001b[0;34m(formula_like, data, eval_env, NA_action, return_type)\u001b[0m\n\u001b[1;32m    163\u001b[0m         \u001b[0;32mreturn\u001b[0m \u001b[0miter\u001b[0m\u001b[0;34m(\u001b[0m\u001b[0;34m[\u001b[0m\u001b[0mdata\u001b[0m\u001b[0;34m]\u001b[0m\u001b[0;34m)\u001b[0m\u001b[0;34m\u001b[0m\u001b[0m\n\u001b[1;32m    164\u001b[0m     design_infos = _try_incr_builders(formula_like, data_iter_maker, eval_env,\n\u001b[0;32m--> 165\u001b[0;31m                                       NA_action)\n\u001b[0m\u001b[1;32m    166\u001b[0m     \u001b[0;32mif\u001b[0m \u001b[0mdesign_infos\u001b[0m \u001b[0;32mis\u001b[0m \u001b[0;32mnot\u001b[0m \u001b[0;32mNone\u001b[0m\u001b[0;34m:\u001b[0m\u001b[0;34m\u001b[0m\u001b[0m\n\u001b[1;32m    167\u001b[0m         return build_design_matrices(design_infos, data,\n",
      "\u001b[0;32m/anaconda3/lib/python3.6/site-packages/patsy/highlevel.py\u001b[0m in \u001b[0;36m_try_incr_builders\u001b[0;34m(formula_like, data_iter_maker, eval_env, NA_action)\u001b[0m\n\u001b[1;32m     68\u001b[0m                                       \u001b[0mdata_iter_maker\u001b[0m\u001b[0;34m,\u001b[0m\u001b[0;34m\u001b[0m\u001b[0m\n\u001b[1;32m     69\u001b[0m                                       \u001b[0meval_env\u001b[0m\u001b[0;34m,\u001b[0m\u001b[0;34m\u001b[0m\u001b[0m\n\u001b[0;32m---> 70\u001b[0;31m                                       NA_action)\n\u001b[0m\u001b[1;32m     71\u001b[0m     \u001b[0;32melse\u001b[0m\u001b[0;34m:\u001b[0m\u001b[0;34m\u001b[0m\u001b[0m\n\u001b[1;32m     72\u001b[0m         \u001b[0;32mreturn\u001b[0m \u001b[0;32mNone\u001b[0m\u001b[0;34m\u001b[0m\u001b[0m\n",
      "\u001b[0;32m/anaconda3/lib/python3.6/site-packages/patsy/build.py\u001b[0m in \u001b[0;36mdesign_matrix_builders\u001b[0;34m(termlists, data_iter_maker, eval_env, NA_action)\u001b[0m\n\u001b[1;32m    694\u001b[0m                                                    \u001b[0mfactor_states\u001b[0m\u001b[0;34m,\u001b[0m\u001b[0;34m\u001b[0m\u001b[0m\n\u001b[1;32m    695\u001b[0m                                                    \u001b[0mdata_iter_maker\u001b[0m\u001b[0;34m,\u001b[0m\u001b[0;34m\u001b[0m\u001b[0m\n\u001b[0;32m--> 696\u001b[0;31m                                                    NA_action)\n\u001b[0m\u001b[1;32m    697\u001b[0m     \u001b[0;31m# Now we need the factor infos, which encapsulate the knowledge of\u001b[0m\u001b[0;34m\u001b[0m\u001b[0;34m\u001b[0m\u001b[0m\n\u001b[1;32m    698\u001b[0m     \u001b[0;31m# how to turn any given factor into a chunk of data:\u001b[0m\u001b[0;34m\u001b[0m\u001b[0;34m\u001b[0m\u001b[0m\n",
      "\u001b[0;32m/anaconda3/lib/python3.6/site-packages/patsy/build.py\u001b[0m in \u001b[0;36m_examine_factor_types\u001b[0;34m(factors, factor_states, data_iter_maker, NA_action)\u001b[0m\n\u001b[1;32m    441\u001b[0m     \u001b[0;32mfor\u001b[0m \u001b[0mdata\u001b[0m \u001b[0;32min\u001b[0m \u001b[0mdata_iter_maker\u001b[0m\u001b[0;34m(\u001b[0m\u001b[0;34m)\u001b[0m\u001b[0;34m:\u001b[0m\u001b[0;34m\u001b[0m\u001b[0m\n\u001b[1;32m    442\u001b[0m         \u001b[0;32mfor\u001b[0m \u001b[0mfactor\u001b[0m \u001b[0;32min\u001b[0m \u001b[0mlist\u001b[0m\u001b[0;34m(\u001b[0m\u001b[0mexamine_needed\u001b[0m\u001b[0;34m)\u001b[0m\u001b[0;34m:\u001b[0m\u001b[0;34m\u001b[0m\u001b[0m\n\u001b[0;32m--> 443\u001b[0;31m             \u001b[0mvalue\u001b[0m \u001b[0;34m=\u001b[0m \u001b[0mfactor\u001b[0m\u001b[0;34m.\u001b[0m\u001b[0meval\u001b[0m\u001b[0;34m(\u001b[0m\u001b[0mfactor_states\u001b[0m\u001b[0;34m[\u001b[0m\u001b[0mfactor\u001b[0m\u001b[0;34m]\u001b[0m\u001b[0;34m,\u001b[0m \u001b[0mdata\u001b[0m\u001b[0;34m)\u001b[0m\u001b[0;34m\u001b[0m\u001b[0m\n\u001b[0m\u001b[1;32m    444\u001b[0m             \u001b[0;32mif\u001b[0m \u001b[0mfactor\u001b[0m \u001b[0;32min\u001b[0m \u001b[0mcat_sniffers\u001b[0m \u001b[0;32mor\u001b[0m \u001b[0mguess_categorical\u001b[0m\u001b[0;34m(\u001b[0m\u001b[0mvalue\u001b[0m\u001b[0;34m)\u001b[0m\u001b[0;34m:\u001b[0m\u001b[0;34m\u001b[0m\u001b[0m\n\u001b[1;32m    445\u001b[0m                 \u001b[0;32mif\u001b[0m \u001b[0mfactor\u001b[0m \u001b[0;32mnot\u001b[0m \u001b[0;32min\u001b[0m \u001b[0mcat_sniffers\u001b[0m\u001b[0;34m:\u001b[0m\u001b[0;34m\u001b[0m\u001b[0m\n",
      "\u001b[0;32m/anaconda3/lib/python3.6/site-packages/patsy/eval.py\u001b[0m in \u001b[0;36meval\u001b[0;34m(self, memorize_state, data)\u001b[0m\n\u001b[1;32m    564\u001b[0m         return self._eval(memorize_state[\"eval_code\"],\n\u001b[1;32m    565\u001b[0m                           \u001b[0mmemorize_state\u001b[0m\u001b[0;34m,\u001b[0m\u001b[0;34m\u001b[0m\u001b[0m\n\u001b[0;32m--> 566\u001b[0;31m                           data)\n\u001b[0m\u001b[1;32m    567\u001b[0m \u001b[0;34m\u001b[0m\u001b[0m\n\u001b[1;32m    568\u001b[0m     \u001b[0m__getstate__\u001b[0m \u001b[0;34m=\u001b[0m \u001b[0mno_pickling\u001b[0m\u001b[0;34m\u001b[0m\u001b[0m\n",
      "\u001b[0;32m/anaconda3/lib/python3.6/site-packages/patsy/eval.py\u001b[0m in \u001b[0;36m_eval\u001b[0;34m(self, code, memorize_state, data)\u001b[0m\n\u001b[1;32m    549\u001b[0m                                  \u001b[0mmemorize_state\u001b[0m\u001b[0;34m[\u001b[0m\u001b[0;34m\"eval_env\"\u001b[0m\u001b[0;34m]\u001b[0m\u001b[0;34m.\u001b[0m\u001b[0meval\u001b[0m\u001b[0;34m,\u001b[0m\u001b[0;34m\u001b[0m\u001b[0m\n\u001b[1;32m    550\u001b[0m                                  \u001b[0mcode\u001b[0m\u001b[0;34m,\u001b[0m\u001b[0;34m\u001b[0m\u001b[0m\n\u001b[0;32m--> 551\u001b[0;31m                                  inner_namespace=inner_namespace)\n\u001b[0m\u001b[1;32m    552\u001b[0m \u001b[0;34m\u001b[0m\u001b[0m\n\u001b[1;32m    553\u001b[0m     \u001b[0;32mdef\u001b[0m \u001b[0mmemorize_chunk\u001b[0m\u001b[0;34m(\u001b[0m\u001b[0mself\u001b[0m\u001b[0;34m,\u001b[0m \u001b[0mstate\u001b[0m\u001b[0;34m,\u001b[0m \u001b[0mwhich_pass\u001b[0m\u001b[0;34m,\u001b[0m \u001b[0mdata\u001b[0m\u001b[0;34m)\u001b[0m\u001b[0;34m:\u001b[0m\u001b[0;34m\u001b[0m\u001b[0m\n",
      "\u001b[0;32m/anaconda3/lib/python3.6/site-packages/patsy/compat.py\u001b[0m in \u001b[0;36mcall_and_wrap_exc\u001b[0;34m(msg, origin, f, *args, **kwargs)\u001b[0m\n\u001b[1;32m     41\u001b[0m                                  origin)\n\u001b[1;32m     42\u001b[0m             \u001b[0;31m# Use 'exec' to hide this syntax from the Python 2 parser:\u001b[0m\u001b[0;34m\u001b[0m\u001b[0;34m\u001b[0m\u001b[0m\n\u001b[0;32m---> 43\u001b[0;31m             \u001b[0mexec\u001b[0m\u001b[0;34m(\u001b[0m\u001b[0;34m\"raise new_exc from e\"\u001b[0m\u001b[0;34m)\u001b[0m\u001b[0;34m\u001b[0m\u001b[0m\n\u001b[0m\u001b[1;32m     44\u001b[0m         \u001b[0;32melse\u001b[0m\u001b[0;34m:\u001b[0m\u001b[0;34m\u001b[0m\u001b[0m\n\u001b[1;32m     45\u001b[0m             \u001b[0;31m# In python 2, we just let the original exception escape -- better\u001b[0m\u001b[0;34m\u001b[0m\u001b[0;34m\u001b[0m\u001b[0m\n",
      "\u001b[0;32m/anaconda3/lib/python3.6/site-packages/patsy/compat.py\u001b[0m in \u001b[0;36m<module>\u001b[0;34m()\u001b[0m\n",
      "\u001b[0;31mPatsyError\u001b[0m: Error evaluating factor: NameError: name 'having_IPhaving_IP_Address' is not defined\n    Result~ having_IPhaving_IP_Address+URLURL_Length+Shortining_Service+having_At_Symbol+double_slash_redirecting+Prefix_Suffix+having_Sub_Domain+SSLfinal_State+Domain_registeration_length+Favicon+port+HTTPS_token+Request_URL+URL_of_Anchor+Links_in_tags+SFH+Submitting_to_email+Abnormal_URL+Redirect+on_mouseover+RightClick+popUpWidnow+Iframe+age_of_domain+DNSRecord+web_traffic+Page_Rank+Google_Index+Links_pointing_to_page+Statistical_report\n            ^^^^^^^^^^^^^^^^^^^^^^^^^^"
     ]
    }
   ],
   "source": [
    "y,X=dmatrices('Result~ having_IPhaving_IP_Address+URLURL_Length+Shortining_Service+having_At_Symbol+double_slash_redirecting+Prefix_Suffix+having_Sub_Domain+SSLfinal_State+Domain_registeration_length+Favicon+port+HTTPS_token+Request_URL+URL_of_Anchor+Links_in_tags+SFH+Submitting_to_email+Abnormal_URL+Redirect+on_mouseover+RightClick+popUpWidnow+Iframe+age_of_domain+DNSRecord+web_traffic+Page_Rank+Google_Index+Links_pointing_to_page+Statistical_report', data=df, return_type='dataframe')"
   ]
  },
  {
   "cell_type": "code",
   "execution_count": 7,
   "metadata": {},
   "outputs": [],
   "source": [
    "#Generate a confusion matrix plot\n",
    "def plot_confusion_matrix(cm,title='Confusion matrix', cmap=plt.cm.Reds):\n",
    "    plt.imshow(cm, interpolation='nearest',cmap=cmap)\n",
    "    plt.title(title)\n",
    "    plt.colorbar()\n",
    "    plt.tight_layout()\n",
    "    plt.ylabel('Truth')\n",
    "    plt.xlabel('Predicted')\n",
    "    \n",
    "def train_score(classifier,x,y):\n",
    "    xtrain, xtest, ytrain, ytest = cross_validation.train_test_split(x, y, test_size=0.2, random_state=0)\n",
    "    ytrain=np.ravel(ytrain)\n",
    "    clf = classifier.fit(xtrain, ytrain)\n",
    "    # accuracy for test & train:\n",
    "    train_acc=clf.score(xtrain, ytrain)\n",
    "    test_acc=clf.score(xtest,ytest)\n",
    "    print(\"Training Data Accuracy: %0.2f\" %(train_acc))\n",
    "    print(\"Test Data Accuracy:     %0.2f\" %(test_acc))\n",
    "    \n",
    "    y_true = ytest\n",
    "    y_pred = clf.predict(xtest)\n",
    "\n",
    "\n",
    "    conf = confusion_matrix(y_true, y_pred)\n",
    "    print(conf)\n",
    "\n",
    "    print ('\\n')\n",
    "    print (\"Precision:              %0.2f\" %(conf[0, 0] / (conf[0, 0] + conf[1, 0])))\n",
    "    print (\"Recall:                 %0.2f\"% (conf[0, 0] / (conf[0, 0] + conf[0, 1])))\n",
    "    print (\"Recall:                 %0.2f\"% (conf[0, 0] / (conf[0, 0] + conf[0, 1])))\n",
    "    print (\"Recall:                 %0.2f\"% (conf[0, 0] / (conf[0, 0] + conf[0, 1])))\n",
    "    \n",
    "    cm=confusion_matrix(y_true, y_pred, labels=None)\n",
    "    \n",
    "    plt.figure()\n",
    "    plot_confusion_matrix(cm)"
   ]
  },
  {
   "cell_type": "code",
   "execution_count": 59,
   "metadata": {},
   "outputs": [
    {
     "name": "stdout",
     "output_type": "stream",
     "text": [
      "Training Data Accuracy: 0.93\n",
      "Test Data Accuracy:     0.92\n",
      "[[ 906  108]\n",
      " [  75 1122]]\n",
      "\n",
      "\n",
      "Precision:              0.92\n",
      "Recall:                 0.89\n"
     ]
    },
    {
     "data": {
      "image/png": "[encoded data removed]",
      "text/plain": [
       "<matplotlib.figure.Figure at 0x1a22e0de48>"
      ]
     },
     "metadata": {},
     "output_type": "display_data"
    }
   ],
   "source": [
    "log_clf=LogisticRegression()\n",
    "train_score(log_clf,X,y)"
   ]
  },
  {
   "cell_type": "code",
   "execution_count": 30,
   "metadata": {},
   "outputs": [
    {
     "data": {
      "text/plain": [
       "array([[<matplotlib.axes._subplots.AxesSubplot object at 0x1a175837b8>]], dtype=object)"
      ]
     },
     "execution_count": 30,
     "metadata": {},
     "output_type": "execute_result"
    },
    {
     "data": {
      "image/png": "[encoded data removed]",
      "text/plain": [
       "<matplotlib.figure.Figure at 0x1a1ddc74e0>"
      ]
     },
     "metadata": {},
     "output_type": "display_data"
    }
   ],
   "source": [
    "#Result\n",
    "df.hist('Result')"
   ]
  },
  {
   "cell_type": "code",
   "execution_count": 67,
   "metadata": {},
   "outputs": [
    {
     "data": {
      "text/plain": [
       "Text(0,0.5,'TPR')"
      ]
     },
     "execution_count": 67,
     "metadata": {},
     "output_type": "execute_result"
    },
    {
     "data": {
      "image/png": "[encoded data removed]",
      "text/plain": [
       "<matplotlib.figure.Figure at 0x1a22e27630>"
      ]
     },
     "metadata": {},
     "output_type": "display_data"
    }
   ],
   "source": [
    "from sklearn.metrics import roc_curve, auc\n",
    "\n",
    "xtrain, xtest, ytrain, ytest = cross_validation.train_test_split(X, y, test_size=0.2, random_state=1234)\n",
    "log = LogisticRegression()\n",
    "log.fit(xtrain,np.ravel(ytrain))\n",
    "y_score=log.predict_proba(xtest)[:,-1]\n",
    "\n",
    "fpr, tpr, thresh = roc_curve(ytest, y_score)\n",
    "roc_auc = auc(fpr, tpr)\n",
    "\n",
    "plt.figure()\n",
    "# Plotting our Baseline..\n",
    "plt.plot([0,1],[0,1])\n",
    "plt.plot(fpr,tpr)\n",
    "plt.xlabel('FPR')\n",
    "plt.ylabel('TPR')"
   ]
  },
  {
   "cell_type": "code",
   "execution_count": 92,
   "metadata": {},
   "outputs": [
    {
     "data": {
      "text/plain": [
       "(array([541, 542, 543, 544, 545, 546, 547, 548, 549, 550, 551, 552, 553,\n",
       "        554, 555, 556, 557, 558, 559, 560, 561, 562, 563, 564, 565, 566,\n",
       "        567, 568, 569, 570, 571, 572, 573, 574, 575, 576, 577, 578, 579,\n",
       "        580, 581, 582, 583, 584, 585, 586, 587, 588, 589, 590, 591, 592,\n",
       "        593, 594, 595, 596, 597, 598, 599, 600, 601, 602, 603, 604, 605,\n",
       "        606, 607, 608, 609, 610, 611, 612, 613, 614, 615, 616, 617, 618,\n",
       "        619, 620, 621, 622, 623, 624, 625, 626, 627, 628, 629, 630, 631,\n",
       "        632, 633, 634, 635, 636, 637, 638, 639, 640, 641, 642, 643, 644]),)"
      ]
     },
     "execution_count": 92,
     "metadata": {},
     "output_type": "execute_result"
    }
   ],
   "source": [
    "np.where(tpr==1.0)"
   ]
  },
  {
   "cell_type": "code",
   "execution_count": 90,
   "metadata": {},
   "outputs": [
    {
     "data": {
      "text/plain": [
       "(array([504, 505, 506, 507, 508, 509, 510, 511, 512, 513, 514, 515, 516,\n",
       "        517, 518, 519, 520, 521, 522, 523, 524, 525, 526, 527, 528, 529,\n",
       "        530, 531, 532, 533, 534, 535, 536, 537, 538, 539, 540, 541, 542,\n",
       "        543, 544, 545, 546, 547, 548, 549, 550, 551, 552, 553, 554, 555,\n",
       "        556, 557, 558, 559, 560, 561, 562, 563, 564, 565, 566, 567, 568,\n",
       "        569, 570, 571, 572, 573, 574, 575, 576, 577, 578, 579, 580, 581,\n",
       "        582, 583, 584, 585, 586, 587, 588, 589, 590, 591, 592, 593, 594,\n",
       "        595, 596, 597, 598, 599, 600, 601, 602, 603, 604, 605, 606, 607,\n",
       "        608, 609, 610, 611, 612, 613, 614, 615, 616, 617, 618, 619, 620,\n",
       "        621, 622, 623, 624, 625, 626, 627, 628, 629, 630, 631, 632, 633,\n",
       "        634, 635, 636, 637, 638, 639, 640, 641, 642, 643, 644]),)"
      ]
     },
     "execution_count": 90,
     "metadata": {},
     "output_type": "execute_result"
    }
   ],
   "source": [
    "np.where(tpr >= 0.99)"
   ]
  },
  {
   "cell_type": "code",
   "execution_count": 74,
   "metadata": {},
   "outputs": [
    {
     "data": {
      "text/plain": [
       "(array([0]),)"
      ]
     },
     "execution_count": 74,
     "metadata": {},
     "output_type": "execute_result"
    }
   ],
   "source": [
    "np.where(thresh == 0.99999971543292865)"
   ]
  },
  {
   "cell_type": "code",
   "execution_count": 83,
   "metadata": {},
   "outputs": [
    {
     "data": {
      "text/plain": [
       "array([  0,   1,   2,   3,   4,   5,   6,   7,   8,   9,  10,  11,  12,\n",
       "        13,  14,  15,  16,  17,  18,  19,  20,  21,  22,  23,  24,  25,\n",
       "        26,  27,  28,  29,  30,  31,  32,  33,  34,  35,  36,  37,  38,\n",
       "        39,  40,  41,  42,  43,  44,  45,  46,  47,  48,  49,  50,  51,\n",
       "        52,  53,  54,  55,  56,  57,  58,  59,  60,  61,  62,  63,  64,\n",
       "        65,  66,  67,  68,  69,  70,  71,  72,  73,  74,  75,  76,  77,\n",
       "        78,  79,  80,  81,  82,  83,  84,  85,  86,  87,  88,  89,  90,\n",
       "        91,  92,  93,  94,  95,  96,  97,  98,  99, 100, 101, 102, 103,\n",
       "       104, 105, 106, 107, 108, 109, 110, 111, 112, 113, 114, 115, 116,\n",
       "       117, 118, 119, 120, 121, 122, 123, 124, 125, 126, 127, 128, 129,\n",
       "       130, 131, 132, 133, 134, 135, 136, 137, 138, 139, 140, 141, 142,\n",
       "       143, 144, 145, 146, 147, 148, 149, 150, 151, 152, 153, 154, 155,\n",
       "       156, 157, 158, 159, 160, 161, 162, 163, 164, 165, 166, 167, 168])"
      ]
     },
     "execution_count": 83,
     "metadata": {},
     "output_type": "execute_result"
    }
   ],
   "source": [
    "np.where(thresh >= 0.98)"
   ]
  },
  {
   "cell_type": "code",
   "execution_count": 98,
   "metadata": {},
   "outputs": [
    {
     "data": {
      "text/plain": [
       "[array([ 0.14136126,  0.14554974,  0.14554974,  0.14973822,  0.14973822,\n",
       "         0.15078534,  0.15078534,  0.15287958,  0.1539267 ,  0.15811518,\n",
       "         0.15811518,  0.16649215,  0.16649215,  0.16753927,  0.16963351,\n",
       "         0.17905759,  0.18115183,  0.18534031,  0.18638743,  0.19162304,\n",
       "         0.19162304,  0.19371728,  0.19371728,  0.19581152,  0.2       ,\n",
       "         0.2       ,  0.20418848,  0.20628272,  0.20628272,  0.20942408,\n",
       "         0.20942408,  0.21780105,  0.21780105,  0.21989529,  0.22094241,\n",
       "         0.22094241,  0.22094241,  0.22617801,  0.22617801,  0.23664921,\n",
       "         0.23664921,  0.24293194,  0.24502618,  0.2460733 ,  0.24921466,\n",
       "         0.25235602,  0.25235602,  0.25445026,  0.2565445 ,  0.2565445 ,\n",
       "         0.25968586,  0.2617801 ,  0.27015707,  0.27015707,  0.27329843,\n",
       "         0.27329843,  0.27434555,  0.27434555,  0.28586387,  0.28586387,\n",
       "         0.28795812,  0.29109948,  0.29947644,  0.30157068,  0.30471204,\n",
       "         0.30680628,  0.31099476,  0.31413613,  0.31413613,  0.31623037,\n",
       "         0.31832461,  0.32251309,  0.32356021,  0.34031414,  0.34031414,\n",
       "         0.3486911 ,  0.35078534,  0.35183246,  0.35183246,  0.35602094,\n",
       "         0.35602094,  0.3591623 ,  0.3591623 ,  0.36858639,  0.37068063,\n",
       "         0.37486911,  0.37486911,  0.37696335,  0.37696335,  0.37905759,\n",
       "         0.38324607,  0.39162304,  0.39162304,  0.39371728,  0.39581152,\n",
       "         0.39790576,  0.41361257,  0.41675393,  0.41884817,  0.42094241,\n",
       "         0.43874346,  0.4408377 ,  0.44293194,  0.4460733 ,  0.45863874,\n",
       "         0.46073298,  0.46701571,  0.46910995,  0.47015707,  0.47329843,\n",
       "         0.47434555,  0.47643979,  0.47853403,  0.48062827,  0.50052356,\n",
       "         0.5026178 ,  0.5078534 ,  0.50994764,  0.52879581,  0.53089005,\n",
       "         0.53193717,  0.53403141,  0.56335079,  0.56544503,  0.56649215,\n",
       "         0.56858639,  0.57801047,  0.58010471,  0.58219895,  0.58429319,\n",
       "         0.5895288 ,  0.59267016,  0.6       ,  0.60209424,  0.63664921,\n",
       "         0.63874346,  0.65445026,  0.65863874,  0.65968586,  0.6617801 ,\n",
       "         0.67329843,  0.67643979,  0.67748691,  0.67958115,  0.68795812,\n",
       "         0.69005236,  0.69424084,  0.69633508,  0.69947644,  0.70157068,\n",
       "         0.70994764,  0.71413613,  0.71937173,  0.72146597,  0.72774869,\n",
       "         0.73193717,  0.73612565,  0.7382199 ,  0.75078534,  0.75287958,\n",
       "         0.75497382,  0.75706806,  0.76020942,  0.76230366,  0.76963351,\n",
       "         0.77172775,  0.79581152,  0.79895288,  0.80418848,  0.80628272,\n",
       "         0.81884817,  0.82094241,  0.82513089,  0.82722513,  0.83246073,\n",
       "         0.83455497,  0.8408377 ,  0.84293194,  0.84712042,  0.85026178,\n",
       "         0.85235602,  0.85863874,  0.86073298,  0.86806283,  0.87225131,\n",
       "         0.93403141,  0.94031414,  0.94659686,  0.9486911 ,  0.95287958,\n",
       "         0.95497382,  0.96125654,  0.96335079,  0.98219895,  0.98429319,  1.        ])]"
      ]
     },
     "execution_count": 98,
     "metadata": {},
     "output_type": "execute_result"
    }
   ],
   "source": [
    "fpr_select=[]\n",
    "for i in np.where(tpr >= 0.97):\n",
    "    fpr_select.append(fpr[i])\n",
    "fpr_select"
   ]
  },
  {
   "cell_type": "code",
   "execution_count": 75,
   "metadata": {},
   "outputs": [
    {
     "data": {
      "text/plain": [
       "array([  9.99999715e-01,   9.99997370e-01,   9.99997271e-01,\n",
       "         9.99995946e-01,   9.99995916e-01,   9.99995088e-01,\n",
       "         9.99994672e-01,   9.99994062e-01,   9.99993650e-01,\n",
       "         9.99993295e-01,   9.99992771e-01,   9.99991542e-01,\n",
       "         9.99990998e-01,   9.99990264e-01,   9.99989888e-01,\n",
       "         9.99989355e-01,   9.99989191e-01,   9.99984153e-01,\n",
       "         9.99981430e-01,   9.99980059e-01,   9.99979733e-01,\n",
       "         9.99978526e-01,   9.99978521e-01,   9.99978351e-01,\n",
       "         9.99977293e-01,   9.99977007e-01,   9.99976957e-01,\n",
       "         9.99971382e-01,   9.99969963e-01,   9.99960392e-01,\n",
       "         9.99960128e-01,   9.99951080e-01,   9.99950372e-01,\n",
       "         9.99946695e-01,   9.99945549e-01,   9.99914165e-01,\n",
       "         9.99910476e-01,   9.99909877e-01,   9.99907698e-01,\n",
       "         9.99867920e-01,   9.99866134e-01,   9.99845935e-01,\n",
       "         9.99840463e-01,   9.99817023e-01,   9.99811061e-01,\n",
       "         9.99807112e-01,   9.99803078e-01,   9.99794652e-01,\n",
       "         9.99775034e-01,   9.99726530e-01,   9.99712864e-01,\n",
       "         9.99692926e-01,   9.99689041e-01,   9.99612401e-01,\n",
       "         9.99596340e-01,   9.99595830e-01,   9.99585293e-01,\n",
       "         9.99569344e-01,   9.99480910e-01,   9.99469656e-01,\n",
       "         9.99441158e-01,   9.99418655e-01,   9.99413501e-01,\n",
       "         9.99372492e-01,   9.99372068e-01,   9.99367825e-01,\n",
       "         9.99361454e-01,   9.99291541e-01,   9.99273628e-01,\n",
       "         9.99266979e-01,   9.99230796e-01,   9.99146471e-01,\n",
       "         9.99136598e-01,   9.99130127e-01,   9.99120293e-01,\n",
       "         9.99117177e-01,   9.99080622e-01,   9.99074743e-01,\n",
       "         9.99009350e-01,   9.99001196e-01,   9.98870326e-01,\n",
       "         9.98865468e-01,   9.98811963e-01,   9.98796372e-01,\n",
       "         9.98775625e-01,   9.98745888e-01,   9.98736857e-01,\n",
       "         9.98735846e-01,   9.98649177e-01,   9.98648160e-01,\n",
       "         9.98596507e-01,   9.98517981e-01,   9.98513065e-01,\n",
       "         9.98505711e-01,   9.98397306e-01,   9.98341808e-01,\n",
       "         9.98326156e-01,   9.98302853e-01,   9.97387699e-01,\n",
       "         9.97351937e-01,   9.97308858e-01,   9.97295550e-01,\n",
       "         9.97284637e-01,   9.97279390e-01,   9.97268425e-01,\n",
       "         9.97248310e-01,   9.97172000e-01,   9.97168532e-01,\n",
       "         9.96747335e-01,   9.96684754e-01,   9.96636391e-01,\n",
       "         9.96612570e-01,   9.96414330e-01,   9.96246517e-01,\n",
       "         9.96149597e-01,   9.95915017e-01,   9.95808414e-01,\n",
       "         9.95758597e-01,   9.95663700e-01,   9.95658572e-01,\n",
       "         9.95465338e-01,   9.95427582e-01,   9.95309714e-01,\n",
       "         9.95291563e-01,   9.95049457e-01,   9.95046089e-01,\n",
       "         9.94914903e-01,   9.94890473e-01,   9.94793168e-01,\n",
       "         9.94739276e-01,   9.94584368e-01,   9.94580169e-01,\n",
       "         9.93882369e-01,   9.93799662e-01,   9.93047952e-01,\n",
       "         9.93033631e-01,   9.92806853e-01,   9.92609786e-01,\n",
       "         9.92502559e-01,   9.92487268e-01,   9.91198127e-01,\n",
       "         9.91163788e-01,   9.90911662e-01,   9.90753917e-01,\n",
       "         9.90050169e-01,   9.89954686e-01,   9.89918770e-01,\n",
       "         9.89567915e-01,   9.89406099e-01,   9.89399194e-01,\n",
       "         9.89267682e-01,   9.89218166e-01,   9.89215835e-01,\n",
       "         9.88844230e-01,   9.88343563e-01,   9.87463809e-01,\n",
       "         9.87412932e-01,   9.87221338e-01,   9.87166724e-01,\n",
       "         9.85746027e-01,   9.85594062e-01,   9.83404351e-01,\n",
       "         9.83208483e-01,   9.81390952e-01,   9.81181615e-01,\n",
       "         9.81155051e-01,   9.81133064e-01,   9.80485542e-01,\n",
       "         9.80440863e-01,   9.79973131e-01,   9.79699556e-01,\n",
       "         9.79520559e-01,   9.79102058e-01,   9.77921379e-01,\n",
       "         9.77912877e-01,   9.75709496e-01,   9.75672504e-01,\n",
       "         9.75257656e-01,   9.74547838e-01,   9.73858565e-01,\n",
       "         9.73191229e-01,   9.72986085e-01,   9.72874338e-01,\n",
       "         9.71566005e-01,   9.71478409e-01,   9.71450672e-01,\n",
       "         9.71096225e-01,   9.70809181e-01,   9.70251958e-01,\n",
       "         9.69906522e-01,   9.69689484e-01,   9.68942866e-01,\n",
       "         9.68328432e-01,   9.67595430e-01,   9.67362743e-01,\n",
       "         9.67189487e-01,   9.66738365e-01,   9.66621086e-01,\n",
       "         9.66479824e-01,   9.66032068e-01,   9.65826061e-01,\n",
       "         9.65329185e-01,   9.64297952e-01,   9.64060636e-01,\n",
       "         9.64053481e-01,   9.64045597e-01,   9.63758267e-01,\n",
       "         9.63316445e-01,   9.60422302e-01,   9.60036009e-01,\n",
       "         9.58840098e-01,   9.58388819e-01,   9.58276830e-01,\n",
       "         9.56678826e-01,   9.56327598e-01,   9.56208172e-01,\n",
       "         9.56029314e-01,   9.55971745e-01,   9.51645629e-01,\n",
       "         9.51554835e-01,   9.51275028e-01,   9.51135645e-01,\n",
       "         9.49111869e-01,   9.48985309e-01,   9.48853642e-01,\n",
       "         9.48762018e-01,   9.46056590e-01,   9.45967345e-01,\n",
       "         9.45190873e-01,   9.45156747e-01,   9.44464556e-01,\n",
       "         9.43962367e-01,   9.43898592e-01,   9.42021505e-01,\n",
       "         9.41703487e-01,   9.41335680e-01,   9.41034361e-01,\n",
       "         9.40119888e-01,   9.37679159e-01,   9.37455752e-01,\n",
       "         9.36086364e-01,   9.35392631e-01,   9.34267546e-01,\n",
       "         9.33008775e-01,   9.31369976e-01,   9.31223581e-01,\n",
       "         9.29533149e-01,   9.28604606e-01,   9.27323015e-01,\n",
       "         9.25998961e-01,   9.25958710e-01,   9.25957161e-01,\n",
       "         9.25630258e-01,   9.24979866e-01,   9.24187039e-01,\n",
       "         9.21973257e-01,   9.21739290e-01,   9.21384220e-01,\n",
       "         9.19895058e-01,   9.18561258e-01,   9.17844937e-01,\n",
       "         9.16527361e-01,   9.14399183e-01,   9.14142086e-01,\n",
       "         9.10256887e-01,   9.09906911e-01,   9.08310386e-01,\n",
       "         9.07717015e-01,   9.07386652e-01,   9.06218922e-01,\n",
       "         9.03352882e-01,   9.03220915e-01,   9.03036509e-01,\n",
       "         9.01988381e-01,   9.01898905e-01,   8.98625580e-01,\n",
       "         8.89266958e-01,   8.88055621e-01,   8.85915160e-01,\n",
       "         8.84691803e-01,   8.79593376e-01,   8.79232535e-01,\n",
       "         8.73648978e-01,   8.73337652e-01,   8.69340593e-01,\n",
       "         8.68699543e-01,   8.68498233e-01,   8.67765654e-01,\n",
       "         8.66048582e-01,   8.64862308e-01,   8.62380448e-01,\n",
       "         8.61399285e-01,   8.60848843e-01,   8.60262221e-01,\n",
       "         8.58275007e-01,   8.58050888e-01,   8.56524427e-01,\n",
       "         8.55302705e-01,   8.49940997e-01,   8.48635906e-01,\n",
       "         8.46422745e-01,   8.45511591e-01,   8.41265477e-01,\n",
       "         8.40844985e-01,   8.37625074e-01,   8.37163758e-01,\n",
       "         8.36535331e-01,   8.27932739e-01,   8.25569789e-01,\n",
       "         8.25119436e-01,   8.25078282e-01,   8.22438516e-01,\n",
       "         8.21998442e-01,   8.21122603e-01,   8.21115622e-01,\n",
       "         8.19035936e-01,   8.18511453e-01,   8.17067615e-01,\n",
       "         8.16443774e-01,   8.11671510e-01,   8.11551578e-01,\n",
       "         8.11434149e-01,   8.10386676e-01,   8.03092923e-01,\n",
       "         8.02132774e-01,   7.92984340e-01,   7.91771831e-01,\n",
       "         7.91237210e-01,   7.90877124e-01,   7.85250676e-01,\n",
       "         7.84995827e-01,   7.84744932e-01,   7.81465075e-01,\n",
       "         7.80548004e-01,   7.79408633e-01,   7.75979931e-01,\n",
       "         7.74515008e-01,   7.72849148e-01,   7.71823982e-01,\n",
       "         7.71220004e-01,   7.64046799e-01,   7.60172880e-01,\n",
       "         7.57925043e-01,   7.57777736e-01,   7.51951423e-01,\n",
       "         7.47655910e-01,   7.41673458e-01,   7.40634909e-01,\n",
       "         7.35326125e-01,   7.35065349e-01,   7.29312181e-01,\n",
       "         7.27566881e-01,   7.24784652e-01,   7.24511067e-01,\n",
       "         7.17821093e-01,   7.17023904e-01,   7.14049512e-01,\n",
       "         7.10156175e-01,   7.08569296e-01,   7.08255595e-01,\n",
       "         7.08244460e-01,   7.04743878e-01,   7.04024799e-01,\n",
       "         7.03811479e-01,   7.02886768e-01,   6.97937948e-01,\n",
       "         6.89066426e-01,   6.88659208e-01,   6.87071341e-01,\n",
       "         6.85701127e-01,   6.82394135e-01,   6.82094680e-01,\n",
       "         6.81482067e-01,   6.76673460e-01,   6.76392714e-01,\n",
       "         6.71929687e-01,   6.67395850e-01,   6.65290408e-01,\n",
       "         6.63349180e-01,   6.56959717e-01,   6.50645075e-01,\n",
       "         6.45721437e-01,   6.40842236e-01,   6.33580797e-01,\n",
       "         6.29028446e-01,   6.22021767e-01,   6.21411068e-01,\n",
       "         6.19225489e-01,   6.19062871e-01,   6.14758018e-01,\n",
       "         6.03736058e-01,   5.98252931e-01,   5.97513473e-01,\n",
       "         5.93084140e-01,   5.88786336e-01,   5.87663794e-01,\n",
       "         5.83793271e-01,   5.78153659e-01,   5.70657319e-01,\n",
       "         5.70122810e-01,   5.64640806e-01,   5.64609738e-01,\n",
       "         5.62538398e-01,   5.62382022e-01,   5.49061002e-01,\n",
       "         5.47391107e-01,   5.46780229e-01,   5.45507677e-01,\n",
       "         5.43982934e-01,   5.43811948e-01,   5.35308094e-01,\n",
       "         5.25229480e-01,   5.23198429e-01,   5.18570682e-01,\n",
       "         5.15122674e-01,   5.05822953e-01,   4.99107879e-01,\n",
       "         4.98462586e-01,   4.97077983e-01,   4.96923509e-01,\n",
       "         4.96317957e-01,   4.59640480e-01,   4.32036710e-01,\n",
       "         4.28841170e-01,   4.18718261e-01,   4.18003962e-01,\n",
       "         4.14096659e-01,   4.11932531e-01,   4.10299589e-01,\n",
       "         4.10095304e-01,   4.04572548e-01,   3.94138889e-01,\n",
       "         3.91304559e-01,   3.82476597e-01,   3.82426056e-01,\n",
       "         3.74333969e-01,   3.64965010e-01,   3.55906860e-01,\n",
       "         3.38732052e-01,   3.29081021e-01,   3.27318490e-01,\n",
       "         3.25823031e-01,   3.21482509e-01,   3.18310018e-01,\n",
       "         3.17413539e-01,   3.17018073e-01,   3.13743550e-01,\n",
       "         3.13428529e-01,   3.06740179e-01,   2.99111271e-01,\n",
       "         2.87379226e-01,   2.81971017e-01,   2.72442187e-01,\n",
       "         2.66127877e-01,   2.61959338e-01,   2.57606309e-01,\n",
       "         2.55272092e-01,   2.54977150e-01,   2.50567821e-01,\n",
       "         2.48672691e-01,   2.32937107e-01,   2.27345281e-01,\n",
       "         2.27322900e-01,   2.26515450e-01,   2.18576032e-01,\n",
       "         2.18471587e-01,   2.11441795e-01,   2.10666088e-01,\n",
       "         1.93151246e-01,   1.92669932e-01,   1.89758491e-01,\n",
       "         1.87086090e-01,   1.86613936e-01,   1.72504127e-01,\n",
       "         1.67245926e-01,   1.59963474e-01,   1.59755029e-01,\n",
       "         1.56675875e-01,   1.54204645e-01,   1.53265418e-01,\n",
       "         1.48004592e-01,   1.45807499e-01,   1.45408790e-01,\n",
       "         1.45184297e-01,   1.44107167e-01,   1.43540388e-01,\n",
       "         1.35301951e-01,   1.34438430e-01,   1.24718970e-01,\n",
       "         1.24619171e-01,   1.22131633e-01,   1.21759043e-01,\n",
       "         1.21595103e-01,   1.21438976e-01,   1.15564515e-01,\n",
       "         1.15287571e-01,   1.12943502e-01,   1.12872814e-01,\n",
       "         1.12147216e-01,   1.09777541e-01,   1.09037087e-01,\n",
       "         1.01567571e-01,   1.00579289e-01,   9.83197175e-02,\n",
       "         9.79733729e-02,   9.77088743e-02,   9.74242746e-02,\n",
       "         8.48336403e-02,   8.45428763e-02,   8.41210094e-02,\n",
       "         8.38678523e-02,   7.77224047e-02,   7.76476520e-02,\n",
       "         7.73121668e-02,   7.63561180e-02,   7.45396386e-02,\n",
       "         7.42867987e-02,   7.39307402e-02,   7.09236710e-02,\n",
       "         6.98006427e-02,   6.74439638e-02,   6.71798645e-02,\n",
       "         5.72154042e-02,   5.70258131e-02,   5.38788172e-02,\n",
       "         5.34078705e-02,   5.33218625e-02,   5.28608661e-02,\n",
       "         5.10984106e-02,   5.10608026e-02,   4.93874757e-02,\n",
       "         4.90903548e-02,   4.59639456e-02,   4.58323316e-02,\n",
       "         4.46699108e-02,   4.43731267e-02,   4.29973875e-02,\n",
       "         4.26798744e-02,   4.18581793e-02,   4.01610266e-02,\n",
       "         3.62114800e-02,   3.61640790e-02,   3.55445713e-02,\n",
       "         3.45348999e-02,   3.33413298e-02,   2.84544065e-02,\n",
       "         2.70607318e-02,   2.64722892e-02,   2.62988946e-02,\n",
       "         2.47756183e-02,   2.43919739e-02,   2.40102703e-02,\n",
       "         2.40030087e-02,   2.19389787e-02,   2.10024365e-02,\n",
       "         1.89766032e-02,   1.89407925e-02,   1.88666974e-02,\n",
       "         1.88642173e-02,   1.87787756e-02,   1.87732744e-02,\n",
       "         1.83914517e-02,   1.82435939e-02,   1.51443061e-02,\n",
       "         1.49739027e-02,   1.47828229e-02,   1.47642740e-02,\n",
       "         1.31944635e-02,   1.29040994e-02,   1.28936884e-02,\n",
       "         1.28556058e-02,   1.07637061e-02,   1.05587621e-02,\n",
       "         1.05582170e-02,   1.04785445e-02,   9.74010846e-03,\n",
       "         9.65448748e-03,   9.62353806e-03,   9.55763420e-03,\n",
       "         9.24605701e-03,   9.23423618e-03,   8.38316816e-03,\n",
       "         8.28115840e-03,   6.25362201e-03,   6.18852065e-03,\n",
       "         5.31626673e-03,   5.30567534e-03,   5.29198740e-03,\n",
       "         5.28919783e-03,   4.95006507e-03,   4.88838559e-03,\n",
       "         4.86059520e-03,   4.66390383e-03,   4.27108591e-03,\n",
       "         4.25379593e-03,   4.12480417e-03,   4.12082789e-03,\n",
       "         4.07846099e-03,   4.07272468e-03,   3.82077767e-03,\n",
       "         3.81575745e-03,   3.68678244e-03,   3.67907155e-03,\n",
       "         3.41555262e-03,   3.30854980e-03,   3.21391074e-03,\n",
       "         3.18415335e-03,   2.79446824e-03,   2.73301824e-03,\n",
       "         2.65599125e-03,   2.63544092e-03,   2.51263962e-03,\n",
       "         2.48485323e-03,   2.28079789e-03,   2.27408682e-03,\n",
       "         1.98255649e-03,   1.94001068e-03,   1.77429871e-03,\n",
       "         1.77138053e-03,   1.59739296e-03,   1.57983625e-03,\n",
       "         1.53240654e-03,   1.52849021e-03,   1.49538887e-03,\n",
       "         1.45736061e-03,   1.39046490e-03,   1.38668718e-03,\n",
       "         1.37074701e-03,   1.35319245e-03,   1.33521629e-03,\n",
       "         1.26293915e-03,   1.25812041e-03,   1.18549813e-03,\n",
       "         1.17438607e-03,   5.50179872e-04,   5.20678493e-04,\n",
       "         4.48520518e-04,   4.47635647e-04,   4.10261592e-04,\n",
       "         4.02262914e-04,   3.42596132e-04,   3.39695356e-04,\n",
       "         1.73995646e-04,   1.50667799e-04,   4.52249293e-05])"
      ]
     },
     "execution_count": 75,
     "metadata": {},
     "output_type": "execute_result"
    }
   ],
   "source": [
    "thresh"
   ]
  },
  {
   "cell_type": "code",
   "execution_count": null,
   "metadata": {},
   "outputs": [],
   "source": []
  }
 ],
 "metadata": {
  "kernelspec": {
   "display_name": "Python 3",
   "language": "python",
   "name": "python3"
  },
  "language_info": {
   "codemirror_mode": {
    "name": "ipython",
    "version": 3
   },
   "file_extension": ".py",
   "mimetype": "text/x-python",
   "name": "python",
   "nbconvert_exporter": "python",
   "pygments_lexer": "ipython3",
   "version": "3.6.4"
  }
 },
 "nbformat": 4,
 "nbformat_minor": 2
}
