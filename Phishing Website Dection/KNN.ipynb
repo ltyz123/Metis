{
 "cells": [
  {
   "cell_type": "code",
   "execution_count": 1,
   "metadata": {},
   "outputs": [],
   "source": [
    "import pandas as pd\n",
    "import numpy as np\n",
    "file = 'phishing_data.csv'\n",
    "df = pd.read_csv(file)"
   ]
  },
  {
   "cell_type": "code",
   "execution_count": 18,
   "metadata": {},
   "outputs": [],
   "source": [
    "#KNN"
   ]
  },
  {
   "cell_type": "code",
   "execution_count": 2,
   "metadata": {},
   "outputs": [],
   "source": [
    "from __future__ import print_function\n",
    "from sklearn.neighbors import KNeighborsClassifier\n",
    "from sklearn import metrics\n",
    "X = df.iloc[:,2:-1]\n",
    "y = df.iloc[:,-1]"
   ]
  },
  {
   "cell_type": "code",
   "execution_count": 11,
   "metadata": {},
   "outputs": [],
   "source": [
    "#GridSearchCV"
   ]
  },
  {
   "cell_type": "code",
   "execution_count": 3,
   "metadata": {},
   "outputs": [
    {
     "name": "stderr",
     "output_type": "stream",
     "text": [
      "/anaconda3/lib/python3.6/site-packages/sklearn/model_selection/_search.py:761: DeprecationWarning: The grid_scores_ attribute was deprecated in version 0.18 in favor of the more elaborate cv_results_ attribute. The grid_scores_ attribute will not be available from 0.20\n",
      "  DeprecationWarning)\n"
     ]
    },
    {
     "data": {
      "text/plain": [
       "[mean: 0.96947, std: 0.01989, params: {'n_neighbors': 1},\n",
       " mean: 0.92318, std: 0.02513, params: {'n_neighbors': 2},\n",
       " mean: 0.95761, std: 0.01379, params: {'n_neighbors': 3},\n",
       " mean: 0.93081, std: 0.00599, params: {'n_neighbors': 4},\n",
       " mean: 0.95745, std: 0.00689, params: {'n_neighbors': 5},\n",
       " mean: 0.93698, std: 0.00203, params: {'n_neighbors': 6},\n",
       " mean: 0.95046, std: 0.00414, params: {'n_neighbors': 7},\n",
       " mean: 0.93357, std: 0.00529, params: {'n_neighbors': 8},\n",
       " mean: 0.94998, std: 0.00420, params: {'n_neighbors': 9},\n",
       " mean: 0.93650, std: 0.00383, params: {'n_neighbors': 10},\n",
       " mean: 0.94851, std: 0.00121, params: {'n_neighbors': 11},\n",
       " mean: 0.93617, std: 0.00454, params: {'n_neighbors': 12},\n",
       " mean: 0.94803, std: 0.00386, params: {'n_neighbors': 13},\n",
       " mean: 0.93861, std: 0.00628, params: {'n_neighbors': 14},\n",
       " mean: 0.94770, std: 0.00683, params: {'n_neighbors': 15},\n",
       " mean: 0.93942, std: 0.01141, params: {'n_neighbors': 16},\n",
       " mean: 0.94786, std: 0.00833, params: {'n_neighbors': 17},\n",
       " mean: 0.93877, std: 0.01150, params: {'n_neighbors': 18},\n",
       " mean: 0.94624, std: 0.01040, params: {'n_neighbors': 19},\n",
       " mean: 0.94023, std: 0.01227, params: {'n_neighbors': 20},\n",
       " mean: 0.94868, std: 0.01038, params: {'n_neighbors': 21},\n",
       " mean: 0.93991, std: 0.00872, params: {'n_neighbors': 22},\n",
       " mean: 0.94608, std: 0.00769, params: {'n_neighbors': 23},\n",
       " mean: 0.94007, std: 0.00867, params: {'n_neighbors': 24},\n",
       " mean: 0.94673, std: 0.00788, params: {'n_neighbors': 25},\n",
       " mean: 0.94121, std: 0.00838, params: {'n_neighbors': 26},\n",
       " mean: 0.94705, std: 0.00958, params: {'n_neighbors': 27},\n",
       " mean: 0.94169, std: 0.00898, params: {'n_neighbors': 28},\n",
       " mean: 0.94673, std: 0.00867, params: {'n_neighbors': 29},\n",
       " mean: 0.93991, std: 0.01133, params: {'n_neighbors': 30},\n",
       " mean: 0.94429, std: 0.00992, params: {'n_neighbors': 31},\n",
       " mean: 0.93715, std: 0.00992, params: {'n_neighbors': 32},\n",
       " mean: 0.94007, std: 0.00856, params: {'n_neighbors': 33},\n",
       " mean: 0.93731, std: 0.00977, params: {'n_neighbors': 34},\n",
       " mean: 0.94088, std: 0.00974, params: {'n_neighbors': 35},\n",
       " mean: 0.93471, std: 0.01085, params: {'n_neighbors': 36},\n",
       " mean: 0.93926, std: 0.00944, params: {'n_neighbors': 37},\n",
       " mean: 0.93698, std: 0.01199, params: {'n_neighbors': 38},\n",
       " mean: 0.93812, std: 0.01014, params: {'n_neighbors': 39},\n",
       " mean: 0.93682, std: 0.00957, params: {'n_neighbors': 40},\n",
       " mean: 0.93991, std: 0.00963, params: {'n_neighbors': 41},\n",
       " mean: 0.93536, std: 0.01136, params: {'n_neighbors': 42},\n",
       " mean: 0.93861, std: 0.01010, params: {'n_neighbors': 43},\n",
       " mean: 0.93341, std: 0.01050, params: {'n_neighbors': 44},\n",
       " mean: 0.93942, std: 0.00901, params: {'n_neighbors': 45},\n",
       " mean: 0.93520, std: 0.00879, params: {'n_neighbors': 46},\n",
       " mean: 0.93909, std: 0.00831, params: {'n_neighbors': 47},\n",
       " mean: 0.93536, std: 0.00910, params: {'n_neighbors': 48},\n",
       " mean: 0.93974, std: 0.00933, params: {'n_neighbors': 49},\n",
       " mean: 0.93650, std: 0.00831, params: {'n_neighbors': 50},\n",
       " mean: 0.93926, std: 0.00862, params: {'n_neighbors': 51},\n",
       " mean: 0.93682, std: 0.00777, params: {'n_neighbors': 52},\n",
       " mean: 0.93861, std: 0.00757, params: {'n_neighbors': 53},\n",
       " mean: 0.93406, std: 0.00947, params: {'n_neighbors': 54},\n",
       " mean: 0.93893, std: 0.00689, params: {'n_neighbors': 55},\n",
       " mean: 0.93601, std: 0.00772, params: {'n_neighbors': 56},\n",
       " mean: 0.93828, std: 0.00687, params: {'n_neighbors': 57},\n",
       " mean: 0.93714, std: 0.00774, params: {'n_neighbors': 58},\n",
       " mean: 0.93991, std: 0.00704, params: {'n_neighbors': 59},\n",
       " mean: 0.93796, std: 0.00984, params: {'n_neighbors': 60},\n",
       " mean: 0.93942, std: 0.00923, params: {'n_neighbors': 61},\n",
       " mean: 0.93601, std: 0.01053, params: {'n_neighbors': 62},\n",
       " mean: 0.93828, std: 0.00818, params: {'n_neighbors': 63},\n",
       " mean: 0.93633, std: 0.01017, params: {'n_neighbors': 64},\n",
       " mean: 0.93958, std: 0.01033, params: {'n_neighbors': 65},\n",
       " mean: 0.93828, std: 0.01044, params: {'n_neighbors': 66},\n",
       " mean: 0.93974, std: 0.01091, params: {'n_neighbors': 67},\n",
       " mean: 0.93714, std: 0.01092, params: {'n_neighbors': 68},\n",
       " mean: 0.94072, std: 0.01064, params: {'n_neighbors': 69},\n",
       " mean: 0.93666, std: 0.01078, params: {'n_neighbors': 70},\n",
       " mean: 0.94007, std: 0.00967, params: {'n_neighbors': 71},\n",
       " mean: 0.93942, std: 0.01062, params: {'n_neighbors': 72},\n",
       " mean: 0.94121, std: 0.01063, params: {'n_neighbors': 73},\n",
       " mean: 0.93731, std: 0.01163, params: {'n_neighbors': 74},\n",
       " mean: 0.94023, std: 0.01250, params: {'n_neighbors': 75},\n",
       " mean: 0.93796, std: 0.01162, params: {'n_neighbors': 76},\n",
       " mean: 0.93942, std: 0.01102, params: {'n_neighbors': 77},\n",
       " mean: 0.93828, std: 0.01232, params: {'n_neighbors': 78},\n",
       " mean: 0.93974, std: 0.01071, params: {'n_neighbors': 79},\n",
       " mean: 0.93731, std: 0.01039, params: {'n_neighbors': 80},\n",
       " mean: 0.93844, std: 0.01103, params: {'n_neighbors': 81},\n",
       " mean: 0.93714, std: 0.01046, params: {'n_neighbors': 82},\n",
       " mean: 0.93828, std: 0.01196, params: {'n_neighbors': 83},\n",
       " mean: 0.93585, std: 0.01203, params: {'n_neighbors': 84},\n",
       " mean: 0.93828, std: 0.01155, params: {'n_neighbors': 85},\n",
       " mean: 0.93698, std: 0.01248, params: {'n_neighbors': 86},\n",
       " mean: 0.93844, std: 0.01211, params: {'n_neighbors': 87},\n",
       " mean: 0.93731, std: 0.01427, params: {'n_neighbors': 88},\n",
       " mean: 0.93877, std: 0.01297, params: {'n_neighbors': 89},\n",
       " mean: 0.93731, std: 0.01515, params: {'n_neighbors': 90},\n",
       " mean: 0.93877, std: 0.01405, params: {'n_neighbors': 91},\n",
       " mean: 0.93552, std: 0.01497, params: {'n_neighbors': 92},\n",
       " mean: 0.93828, std: 0.01359, params: {'n_neighbors': 93},\n",
       " mean: 0.93617, std: 0.01421, params: {'n_neighbors': 94},\n",
       " mean: 0.93747, std: 0.01462, params: {'n_neighbors': 95},\n",
       " mean: 0.93633, std: 0.01409, params: {'n_neighbors': 96},\n",
       " mean: 0.93731, std: 0.01422, params: {'n_neighbors': 97},\n",
       " mean: 0.93682, std: 0.01409, params: {'n_neighbors': 98},\n",
       " mean: 0.93763, std: 0.01396, params: {'n_neighbors': 99}]"
      ]
     },
     "execution_count": 3,
     "metadata": {},
     "output_type": "execute_result"
    }
   ],
   "source": [
    "from sklearn.model_selection import GridSearchCV\n",
    "knn = KNeighborsClassifier()\n",
    "k_range = list(range(1,100))\n",
    "param_grid = dict(n_neighbors=k_range)\n",
    "grid1 = GridSearchCV(knn, param_grid, cv=5, scoring='recall')\n",
    "grid1.fit(X, y);\n",
    "grid1.grid_scores_"
   ]
  },
  {
   "cell_type": "code",
   "execution_count": 30,
   "metadata": {},
   "outputs": [
    {
     "name": "stdout",
     "output_type": "stream",
     "text": [
      "0.969467046677\n",
      "{'n_neighbors': 1}\n",
      "KNeighborsClassifier(algorithm='auto', leaf_size=30, metric='minkowski',\n",
      "           metric_params=None, n_jobs=1, n_neighbors=1, p=2,\n",
      "           weights='uniform')\n"
     ]
    }
   ],
   "source": [
    "print(grid1.best_score_)\n",
    "print(grid1.best_params_)\n",
    "print(grid1.best_estimator_)"
   ]
  },
  {
   "cell_type": "code",
   "execution_count": 31,
   "metadata": {},
   "outputs": [
    {
     "name": "stderr",
     "output_type": "stream",
     "text": [
      "/anaconda3/lib/python3.6/site-packages/sklearn/model_selection/_search.py:761: DeprecationWarning: The grid_scores_ attribute was deprecated in version 0.18 in favor of the more elaborate cv_results_ attribute. The grid_scores_ attribute will not be available from 0.20\n",
      "  DeprecationWarning)\n"
     ]
    },
    {
     "data": {
      "text/plain": [
       "[mean: 0.93536, std: 0.01511, params: {'n_neighbors': 100},\n",
       " mean: 0.93779, std: 0.01291, params: {'n_neighbors': 101},\n",
       " mean: 0.93520, std: 0.01361, params: {'n_neighbors': 102},\n",
       " mean: 0.93650, std: 0.01435, params: {'n_neighbors': 103},\n",
       " mean: 0.93422, std: 0.01382, params: {'n_neighbors': 104},\n",
       " mean: 0.93714, std: 0.01220, params: {'n_neighbors': 105},\n",
       " mean: 0.93471, std: 0.01361, params: {'n_neighbors': 106},\n",
       " mean: 0.93714, std: 0.01128, params: {'n_neighbors': 107},\n",
       " mean: 0.93536, std: 0.01200, params: {'n_neighbors': 108},\n",
       " mean: 0.93682, std: 0.01251, params: {'n_neighbors': 109},\n",
       " mean: 0.93455, std: 0.01329, params: {'n_neighbors': 110},\n",
       " mean: 0.93666, std: 0.01186, params: {'n_neighbors': 111},\n",
       " mean: 0.93406, std: 0.01271, params: {'n_neighbors': 112},\n",
       " mean: 0.93585, std: 0.01285, params: {'n_neighbors': 113},\n",
       " mean: 0.93438, std: 0.01270, params: {'n_neighbors': 114},\n",
       " mean: 0.93715, std: 0.01339, params: {'n_neighbors': 115},\n",
       " mean: 0.93373, std: 0.01366, params: {'n_neighbors': 116},\n",
       " mean: 0.93438, std: 0.01286, params: {'n_neighbors': 117},\n",
       " mean: 0.93438, std: 0.01386, params: {'n_neighbors': 118},\n",
       " mean: 0.93568, std: 0.01390, params: {'n_neighbors': 119},\n",
       " mean: 0.93471, std: 0.01317, params: {'n_neighbors': 120},\n",
       " mean: 0.93552, std: 0.01356, params: {'n_neighbors': 121},\n",
       " mean: 0.93438, std: 0.01364, params: {'n_neighbors': 122},\n",
       " mean: 0.93601, std: 0.01189, params: {'n_neighbors': 123},\n",
       " mean: 0.93520, std: 0.01338, params: {'n_neighbors': 124},\n",
       " mean: 0.93552, std: 0.01295, params: {'n_neighbors': 125},\n",
       " mean: 0.93601, std: 0.01394, params: {'n_neighbors': 126},\n",
       " mean: 0.93633, std: 0.01261, params: {'n_neighbors': 127},\n",
       " mean: 0.93438, std: 0.01333, params: {'n_neighbors': 128},\n",
       " mean: 0.93487, std: 0.01372, params: {'n_neighbors': 129},\n",
       " mean: 0.93487, std: 0.01304, params: {'n_neighbors': 130},\n",
       " mean: 0.93617, std: 0.01262, params: {'n_neighbors': 131},\n",
       " mean: 0.93422, std: 0.01319, params: {'n_neighbors': 132},\n",
       " mean: 0.93585, std: 0.01276, params: {'n_neighbors': 133},\n",
       " mean: 0.93406, std: 0.01343, params: {'n_neighbors': 134},\n",
       " mean: 0.93390, std: 0.01291, params: {'n_neighbors': 135},\n",
       " mean: 0.93438, std: 0.01314, params: {'n_neighbors': 136},\n",
       " mean: 0.93471, std: 0.01284, params: {'n_neighbors': 137},\n",
       " mean: 0.93357, std: 0.01371, params: {'n_neighbors': 138},\n",
       " mean: 0.93487, std: 0.01389, params: {'n_neighbors': 139},\n",
       " mean: 0.93341, std: 0.01298, params: {'n_neighbors': 140},\n",
       " mean: 0.93487, std: 0.01365, params: {'n_neighbors': 141},\n",
       " mean: 0.93390, std: 0.01235, params: {'n_neighbors': 142},\n",
       " mean: 0.93406, std: 0.01357, params: {'n_neighbors': 143},\n",
       " mean: 0.93357, std: 0.01346, params: {'n_neighbors': 144},\n",
       " mean: 0.93503, std: 0.01376, params: {'n_neighbors': 145},\n",
       " mean: 0.93373, std: 0.01339, params: {'n_neighbors': 146},\n",
       " mean: 0.93601, std: 0.01333, params: {'n_neighbors': 147},\n",
       " mean: 0.93503, std: 0.01216, params: {'n_neighbors': 148},\n",
       " mean: 0.93779, std: 0.01295, params: {'n_neighbors': 149},\n",
       " mean: 0.93503, std: 0.01384, params: {'n_neighbors': 150},\n",
       " mean: 0.93650, std: 0.01337, params: {'n_neighbors': 151},\n",
       " mean: 0.93568, std: 0.01411, params: {'n_neighbors': 152},\n",
       " mean: 0.93714, std: 0.01328, params: {'n_neighbors': 153},\n",
       " mean: 0.93487, std: 0.01418, params: {'n_neighbors': 154},\n",
       " mean: 0.93731, std: 0.01297, params: {'n_neighbors': 155},\n",
       " mean: 0.93585, std: 0.01395, params: {'n_neighbors': 156},\n",
       " mean: 0.93828, std: 0.01179, params: {'n_neighbors': 157},\n",
       " mean: 0.93585, std: 0.01349, params: {'n_neighbors': 158},\n",
       " mean: 0.93812, std: 0.01248, params: {'n_neighbors': 159},\n",
       " mean: 0.93666, std: 0.01295, params: {'n_neighbors': 160},\n",
       " mean: 0.93714, std: 0.01275, params: {'n_neighbors': 161},\n",
       " mean: 0.93617, std: 0.01386, params: {'n_neighbors': 162},\n",
       " mean: 0.93601, std: 0.01333, params: {'n_neighbors': 163},\n",
       " mean: 0.93552, std: 0.01252, params: {'n_neighbors': 164},\n",
       " mean: 0.93633, std: 0.01185, params: {'n_neighbors': 165},\n",
       " mean: 0.93633, std: 0.01317, params: {'n_neighbors': 166},\n",
       " mean: 0.93714, std: 0.01236, params: {'n_neighbors': 167},\n",
       " mean: 0.93649, std: 0.01153, params: {'n_neighbors': 168},\n",
       " mean: 0.93698, std: 0.01291, params: {'n_neighbors': 169},\n",
       " mean: 0.93617, std: 0.01320, params: {'n_neighbors': 170},\n",
       " mean: 0.93698, std: 0.01291, params: {'n_neighbors': 171},\n",
       " mean: 0.93601, std: 0.01356, params: {'n_neighbors': 172},\n",
       " mean: 0.93666, std: 0.01261, params: {'n_neighbors': 173},\n",
       " mean: 0.93536, std: 0.01231, params: {'n_neighbors': 174},\n",
       " mean: 0.93649, std: 0.01338, params: {'n_neighbors': 175},\n",
       " mean: 0.93503, std: 0.01262, params: {'n_neighbors': 176},\n",
       " mean: 0.93666, std: 0.01251, params: {'n_neighbors': 177},\n",
       " mean: 0.93633, std: 0.01282, params: {'n_neighbors': 178},\n",
       " mean: 0.93666, std: 0.01289, params: {'n_neighbors': 179},\n",
       " mean: 0.93633, std: 0.01392, params: {'n_neighbors': 180},\n",
       " mean: 0.93666, std: 0.01226, params: {'n_neighbors': 181},\n",
       " mean: 0.93568, std: 0.01179, params: {'n_neighbors': 182},\n",
       " mean: 0.93649, std: 0.01177, params: {'n_neighbors': 183},\n",
       " mean: 0.93503, std: 0.01192, params: {'n_neighbors': 184},\n",
       " mean: 0.93487, std: 0.01205, params: {'n_neighbors': 185},\n",
       " mean: 0.93503, std: 0.01176, params: {'n_neighbors': 186},\n",
       " mean: 0.93585, std: 0.01176, params: {'n_neighbors': 187},\n",
       " mean: 0.93536, std: 0.01123, params: {'n_neighbors': 188},\n",
       " mean: 0.93633, std: 0.01273, params: {'n_neighbors': 189},\n",
       " mean: 0.93585, std: 0.01138, params: {'n_neighbors': 190},\n",
       " mean: 0.93568, std: 0.01166, params: {'n_neighbors': 191},\n",
       " mean: 0.93536, std: 0.01134, params: {'n_neighbors': 192},\n",
       " mean: 0.93682, std: 0.01052, params: {'n_neighbors': 193},\n",
       " mean: 0.93471, std: 0.01166, params: {'n_neighbors': 194},\n",
       " mean: 0.93601, std: 0.01141, params: {'n_neighbors': 195},\n",
       " mean: 0.93487, std: 0.01188, params: {'n_neighbors': 196},\n",
       " mean: 0.93520, std: 0.01154, params: {'n_neighbors': 197},\n",
       " mean: 0.93471, std: 0.01229, params: {'n_neighbors': 198},\n",
       " mean: 0.93536, std: 0.01089, params: {'n_neighbors': 199}]"
      ]
     },
     "execution_count": 31,
     "metadata": {},
     "output_type": "execute_result"
    }
   ],
   "source": [
    "from sklearn.model_selection import GridSearchCV\n",
    "knn = KNeighborsClassifier()\n",
    "k_range = list(range(100,200))\n",
    "param_grid = dict(n_neighbors=k_range)\n",
    "grid1 = GridSearchCV(knn, param_grid, cv=5, scoring='recall')\n",
    "grid1.fit(X, y);\n",
    "grid1.grid_scores_"
   ]
  },
  {
   "cell_type": "code",
   "execution_count": 36,
   "metadata": {},
   "outputs": [
    {
     "name": "stderr",
     "output_type": "stream",
     "text": [
      "/anaconda3/lib/python3.6/site-packages/sklearn/model_selection/_search.py:761: DeprecationWarning: The grid_scores_ attribute was deprecated in version 0.18 in favor of the more elaborate cv_results_ attribute. The grid_scores_ attribute will not be available from 0.20\n",
      "  DeprecationWarning)\n"
     ]
    },
    {
     "data": {
      "text/plain": [
       "[mean: 0.97223, std: 0.01288, params: {'n_neighbors': 1, 'weights': 'distance'},\n",
       " mean: 0.95891, std: 0.01431, params: {'n_neighbors': 2, 'weights': 'distance'},\n",
       " mean: 0.97158, std: 0.01273, params: {'n_neighbors': 3, 'weights': 'distance'},\n",
       " mean: 0.96670, std: 0.01392, params: {'n_neighbors': 4, 'weights': 'distance'},\n",
       " mean: 0.97369, std: 0.01100, params: {'n_neighbors': 5, 'weights': 'distance'},\n",
       " mean: 0.97158, std: 0.01243, params: {'n_neighbors': 6, 'weights': 'distance'},\n",
       " mean: 0.97385, std: 0.01066, params: {'n_neighbors': 7, 'weights': 'distance'},\n",
       " mean: 0.97288, std: 0.01182, params: {'n_neighbors': 8, 'weights': 'distance'},\n",
       " mean: 0.97499, std: 0.00959, params: {'n_neighbors': 9, 'weights': 'distance'},\n",
       " mean: 0.97450, std: 0.01034, params: {'n_neighbors': 10, 'weights': 'distance'},\n",
       " mean: 0.97401, std: 0.01054, params: {'n_neighbors': 11, 'weights': 'distance'},\n",
       " mean: 0.97434, std: 0.01085, params: {'n_neighbors': 12, 'weights': 'distance'},\n",
       " mean: 0.97466, std: 0.00973, params: {'n_neighbors': 13, 'weights': 'distance'},\n",
       " mean: 0.97450, std: 0.00928, params: {'n_neighbors': 14, 'weights': 'distance'},\n",
       " mean: 0.97450, std: 0.00959, params: {'n_neighbors': 15, 'weights': 'distance'},\n",
       " mean: 0.97450, std: 0.01038, params: {'n_neighbors': 16, 'weights': 'distance'},\n",
       " mean: 0.97418, std: 0.01040, params: {'n_neighbors': 17, 'weights': 'distance'},\n",
       " mean: 0.97531, std: 0.00942, params: {'n_neighbors': 18, 'weights': 'distance'},\n",
       " mean: 0.97434, std: 0.01007, params: {'n_neighbors': 19, 'weights': 'distance'},\n",
       " mean: 0.97531, std: 0.00959, params: {'n_neighbors': 20, 'weights': 'distance'},\n",
       " mean: 0.97434, std: 0.01020, params: {'n_neighbors': 21, 'weights': 'distance'},\n",
       " mean: 0.97385, std: 0.01027, params: {'n_neighbors': 22, 'weights': 'distance'},\n",
       " mean: 0.97401, std: 0.01051, params: {'n_neighbors': 23, 'weights': 'distance'},\n",
       " mean: 0.97434, std: 0.01020, params: {'n_neighbors': 24, 'weights': 'distance'},\n",
       " mean: 0.97385, std: 0.01096, params: {'n_neighbors': 25, 'weights': 'distance'},\n",
       " mean: 0.97353, std: 0.01124, params: {'n_neighbors': 26, 'weights': 'distance'},\n",
       " mean: 0.97320, std: 0.01067, params: {'n_neighbors': 27, 'weights': 'distance'},\n",
       " mean: 0.97385, std: 0.01129, params: {'n_neighbors': 28, 'weights': 'distance'},\n",
       " mean: 0.97369, std: 0.01058, params: {'n_neighbors': 29, 'weights': 'distance'},\n",
       " mean: 0.97369, std: 0.01125, params: {'n_neighbors': 30, 'weights': 'distance'},\n",
       " mean: 0.97304, std: 0.01107, params: {'n_neighbors': 31, 'weights': 'distance'},\n",
       " mean: 0.97288, std: 0.01190, params: {'n_neighbors': 32, 'weights': 'distance'},\n",
       " mean: 0.97304, std: 0.01147, params: {'n_neighbors': 33, 'weights': 'distance'},\n",
       " mean: 0.97320, std: 0.01119, params: {'n_neighbors': 34, 'weights': 'distance'},\n",
       " mean: 0.97271, std: 0.01121, params: {'n_neighbors': 35, 'weights': 'distance'},\n",
       " mean: 0.97288, std: 0.01156, params: {'n_neighbors': 36, 'weights': 'distance'},\n",
       " mean: 0.97255, std: 0.01166, params: {'n_neighbors': 37, 'weights': 'distance'},\n",
       " mean: 0.97255, std: 0.01193, params: {'n_neighbors': 38, 'weights': 'distance'},\n",
       " mean: 0.97239, std: 0.01165, params: {'n_neighbors': 39, 'weights': 'distance'},\n",
       " mean: 0.97271, std: 0.01144, params: {'n_neighbors': 40, 'weights': 'distance'},\n",
       " mean: 0.97271, std: 0.01142, params: {'n_neighbors': 41, 'weights': 'distance'},\n",
       " mean: 0.97288, std: 0.01152, params: {'n_neighbors': 42, 'weights': 'distance'},\n",
       " mean: 0.97288, std: 0.01128, params: {'n_neighbors': 43, 'weights': 'distance'},\n",
       " mean: 0.97223, std: 0.01247, params: {'n_neighbors': 44, 'weights': 'distance'},\n",
       " mean: 0.97255, std: 0.01182, params: {'n_neighbors': 45, 'weights': 'distance'},\n",
       " mean: 0.97223, std: 0.01175, params: {'n_neighbors': 46, 'weights': 'distance'},\n",
       " mean: 0.97206, std: 0.01239, params: {'n_neighbors': 47, 'weights': 'distance'},\n",
       " mean: 0.97239, std: 0.01165, params: {'n_neighbors': 48, 'weights': 'distance'},\n",
       " mean: 0.97206, std: 0.01196, params: {'n_neighbors': 49, 'weights': 'distance'},\n",
       " mean: 0.97239, std: 0.01129, params: {'n_neighbors': 50, 'weights': 'distance'},\n",
       " mean: 0.97239, std: 0.01177, params: {'n_neighbors': 51, 'weights': 'distance'},\n",
       " mean: 0.97206, std: 0.01196, params: {'n_neighbors': 52, 'weights': 'distance'},\n",
       " mean: 0.97206, std: 0.01196, params: {'n_neighbors': 53, 'weights': 'distance'},\n",
       " mean: 0.97206, std: 0.01169, params: {'n_neighbors': 54, 'weights': 'distance'},\n",
       " mean: 0.97190, std: 0.01183, params: {'n_neighbors': 55, 'weights': 'distance'},\n",
       " mean: 0.97206, std: 0.01147, params: {'n_neighbors': 56, 'weights': 'distance'},\n",
       " mean: 0.97174, std: 0.01193, params: {'n_neighbors': 57, 'weights': 'distance'},\n",
       " mean: 0.97141, std: 0.01274, params: {'n_neighbors': 58, 'weights': 'distance'},\n",
       " mean: 0.97174, std: 0.01247, params: {'n_neighbors': 59, 'weights': 'distance'},\n",
       " mean: 0.97206, std: 0.01222, params: {'n_neighbors': 60, 'weights': 'distance'},\n",
       " mean: 0.97190, std: 0.01238, params: {'n_neighbors': 61, 'weights': 'distance'},\n",
       " mean: 0.97206, std: 0.01187, params: {'n_neighbors': 62, 'weights': 'distance'},\n",
       " mean: 0.97190, std: 0.01197, params: {'n_neighbors': 63, 'weights': 'distance'},\n",
       " mean: 0.97190, std: 0.01205, params: {'n_neighbors': 64, 'weights': 'distance'},\n",
       " mean: 0.97255, std: 0.01094, params: {'n_neighbors': 65, 'weights': 'distance'},\n",
       " mean: 0.97223, std: 0.01155, params: {'n_neighbors': 66, 'weights': 'distance'},\n",
       " mean: 0.97239, std: 0.01117, params: {'n_neighbors': 67, 'weights': 'distance'},\n",
       " mean: 0.97206, std: 0.01174, params: {'n_neighbors': 68, 'weights': 'distance'},\n",
       " mean: 0.97255, std: 0.01127, params: {'n_neighbors': 69, 'weights': 'distance'},\n",
       " mean: 0.97255, std: 0.01094, params: {'n_neighbors': 70, 'weights': 'distance'},\n",
       " mean: 0.97271, std: 0.01085, params: {'n_neighbors': 71, 'weights': 'distance'},\n",
       " mean: 0.97206, std: 0.01174, params: {'n_neighbors': 72, 'weights': 'distance'},\n",
       " mean: 0.97239, std: 0.01133, params: {'n_neighbors': 73, 'weights': 'distance'},\n",
       " mean: 0.97174, std: 0.01199, params: {'n_neighbors': 74, 'weights': 'distance'},\n",
       " mean: 0.97190, std: 0.01159, params: {'n_neighbors': 75, 'weights': 'distance'},\n",
       " mean: 0.97190, std: 0.01195, params: {'n_neighbors': 76, 'weights': 'distance'},\n",
       " mean: 0.97190, std: 0.01183, params: {'n_neighbors': 77, 'weights': 'distance'},\n",
       " mean: 0.97206, std: 0.01154, params: {'n_neighbors': 78, 'weights': 'distance'},\n",
       " mean: 0.97271, std: 0.01112, params: {'n_neighbors': 79, 'weights': 'distance'},\n",
       " mean: 0.97206, std: 0.01174, params: {'n_neighbors': 80, 'weights': 'distance'},\n",
       " mean: 0.97239, std: 0.01110, params: {'n_neighbors': 81, 'weights': 'distance'},\n",
       " mean: 0.97271, std: 0.01104, params: {'n_neighbors': 82, 'weights': 'distance'},\n",
       " mean: 0.97206, std: 0.01147, params: {'n_neighbors': 83, 'weights': 'distance'},\n",
       " mean: 0.97255, std: 0.01115, params: {'n_neighbors': 84, 'weights': 'distance'},\n",
       " mean: 0.97239, std: 0.01110, params: {'n_neighbors': 85, 'weights': 'distance'},\n",
       " mean: 0.97190, std: 0.01156, params: {'n_neighbors': 86, 'weights': 'distance'},\n",
       " mean: 0.97190, std: 0.01190, params: {'n_neighbors': 87, 'weights': 'distance'},\n",
       " mean: 0.97190, std: 0.01177, params: {'n_neighbors': 88, 'weights': 'distance'},\n",
       " mean: 0.97158, std: 0.01228, params: {'n_neighbors': 89, 'weights': 'distance'},\n",
       " mean: 0.97158, std: 0.01206, params: {'n_neighbors': 90, 'weights': 'distance'},\n",
       " mean: 0.97158, std: 0.01206, params: {'n_neighbors': 91, 'weights': 'distance'},\n",
       " mean: 0.97158, std: 0.01259, params: {'n_neighbors': 92, 'weights': 'distance'},\n",
       " mean: 0.97125, std: 0.01257, params: {'n_neighbors': 93, 'weights': 'distance'},\n",
       " mean: 0.97158, std: 0.01240, params: {'n_neighbors': 94, 'weights': 'distance'},\n",
       " mean: 0.97141, std: 0.01249, params: {'n_neighbors': 95, 'weights': 'distance'},\n",
       " mean: 0.97141, std: 0.01282, params: {'n_neighbors': 96, 'weights': 'distance'},\n",
       " mean: 0.97141, std: 0.01249, params: {'n_neighbors': 97, 'weights': 'distance'},\n",
       " mean: 0.97141, std: 0.01249, params: {'n_neighbors': 98, 'weights': 'distance'},\n",
       " mean: 0.97141, std: 0.01249, params: {'n_neighbors': 99, 'weights': 'distance'},\n",
       " mean: 0.97141, std: 0.01249, params: {'n_neighbors': 100, 'weights': 'distance'},\n",
       " mean: 0.97174, std: 0.01232, params: {'n_neighbors': 101, 'weights': 'distance'},\n",
       " mean: 0.97174, std: 0.01292, params: {'n_neighbors': 102, 'weights': 'distance'},\n",
       " mean: 0.97141, std: 0.01249, params: {'n_neighbors': 103, 'weights': 'distance'},\n",
       " mean: 0.97158, std: 0.01247, params: {'n_neighbors': 104, 'weights': 'distance'},\n",
       " mean: 0.97223, std: 0.01186, params: {'n_neighbors': 105, 'weights': 'distance'},\n",
       " mean: 0.97190, std: 0.01229, params: {'n_neighbors': 106, 'weights': 'distance'},\n",
       " mean: 0.97190, std: 0.01223, params: {'n_neighbors': 107, 'weights': 'distance'},\n",
       " mean: 0.97223, std: 0.01223, params: {'n_neighbors': 108, 'weights': 'distance'},\n",
       " mean: 0.97190, std: 0.01223, params: {'n_neighbors': 109, 'weights': 'distance'},\n",
       " mean: 0.97206, std: 0.01220, params: {'n_neighbors': 110, 'weights': 'distance'},\n",
       " mean: 0.97206, std: 0.01237, params: {'n_neighbors': 111, 'weights': 'distance'},\n",
       " mean: 0.97239, std: 0.01242, params: {'n_neighbors': 112, 'weights': 'distance'},\n",
       " mean: 0.97174, std: 0.01238, params: {'n_neighbors': 113, 'weights': 'distance'},\n",
       " mean: 0.97174, std: 0.01238, params: {'n_neighbors': 114, 'weights': 'distance'},\n",
       " mean: 0.97158, std: 0.01232, params: {'n_neighbors': 115, 'weights': 'distance'},\n",
       " mean: 0.97206, std: 0.01260, params: {'n_neighbors': 116, 'weights': 'distance'},\n",
       " mean: 0.97223, std: 0.01204, params: {'n_neighbors': 117, 'weights': 'distance'},\n",
       " mean: 0.97206, std: 0.01256, params: {'n_neighbors': 118, 'weights': 'distance'},\n",
       " mean: 0.97223, std: 0.01245, params: {'n_neighbors': 119, 'weights': 'distance'},\n",
       " mean: 0.97206, std: 0.01233, params: {'n_neighbors': 120, 'weights': 'distance'},\n",
       " mean: 0.97239, std: 0.01212, params: {'n_neighbors': 121, 'weights': 'distance'},\n",
       " mean: 0.97223, std: 0.01204, params: {'n_neighbors': 122, 'weights': 'distance'},\n",
       " mean: 0.97223, std: 0.01204, params: {'n_neighbors': 123, 'weights': 'distance'},\n",
       " mean: 0.97223, std: 0.01204, params: {'n_neighbors': 124, 'weights': 'distance'},\n",
       " mean: 0.97206, std: 0.01237, params: {'n_neighbors': 125, 'weights': 'distance'},\n",
       " mean: 0.97206, std: 0.01237, params: {'n_neighbors': 126, 'weights': 'distance'},\n",
       " mean: 0.97206, std: 0.01237, params: {'n_neighbors': 127, 'weights': 'distance'},\n",
       " mean: 0.97190, std: 0.01225, params: {'n_neighbors': 128, 'weights': 'distance'},\n",
       " mean: 0.97206, std: 0.01237, params: {'n_neighbors': 129, 'weights': 'distance'},\n",
       " mean: 0.97206, std: 0.01216, params: {'n_neighbors': 130, 'weights': 'distance'},\n",
       " mean: 0.97190, std: 0.01201, params: {'n_neighbors': 131, 'weights': 'distance'},\n",
       " mean: 0.97223, std: 0.01228, params: {'n_neighbors': 132, 'weights': 'distance'},\n",
       " mean: 0.97206, std: 0.01220, params: {'n_neighbors': 133, 'weights': 'distance'},\n",
       " mean: 0.97206, std: 0.01237, params: {'n_neighbors': 134, 'weights': 'distance'},\n",
       " mean: 0.97206, std: 0.01216, params: {'n_neighbors': 135, 'weights': 'distance'},\n",
       " mean: 0.97223, std: 0.01230, params: {'n_neighbors': 136, 'weights': 'distance'},\n",
       " mean: 0.97223, std: 0.01230, params: {'n_neighbors': 137, 'weights': 'distance'},\n",
       " mean: 0.97206, std: 0.01216, params: {'n_neighbors': 138, 'weights': 'distance'},\n",
       " mean: 0.97223, std: 0.01230, params: {'n_neighbors': 139, 'weights': 'distance'},\n",
       " mean: 0.97206, std: 0.01237, params: {'n_neighbors': 140, 'weights': 'distance'},\n",
       " mean: 0.97206, std: 0.01237, params: {'n_neighbors': 141, 'weights': 'distance'},\n",
       " mean: 0.97190, std: 0.01223, params: {'n_neighbors': 142, 'weights': 'distance'},\n",
       " mean: 0.97174, std: 0.01306, params: {'n_neighbors': 143, 'weights': 'distance'},\n",
       " mean: 0.97206, std: 0.01237, params: {'n_neighbors': 144, 'weights': 'distance'},\n",
       " mean: 0.97206, std: 0.01237, params: {'n_neighbors': 145, 'weights': 'distance'},\n",
       " mean: 0.97174, std: 0.01306, params: {'n_neighbors': 146, 'weights': 'distance'},\n",
       " mean: 0.97190, std: 0.01248, params: {'n_neighbors': 147, 'weights': 'distance'},\n",
       " mean: 0.97190, std: 0.01300, params: {'n_neighbors': 148, 'weights': 'distance'},\n",
       " mean: 0.97174, std: 0.01288, params: {'n_neighbors': 149, 'weights': 'distance'},\n",
       " mean: 0.97206, std: 0.01218, params: {'n_neighbors': 150, 'weights': 'distance'},\n",
       " mean: 0.97174, std: 0.01286, params: {'n_neighbors': 151, 'weights': 'distance'},\n",
       " mean: 0.97158, std: 0.01296, params: {'n_neighbors': 152, 'weights': 'distance'},\n",
       " mean: 0.97174, std: 0.01286, params: {'n_neighbors': 153, 'weights': 'distance'},\n",
       " mean: 0.97190, std: 0.01281, params: {'n_neighbors': 154, 'weights': 'distance'},\n",
       " mean: 0.97190, std: 0.01281, params: {'n_neighbors': 155, 'weights': 'distance'},\n",
       " mean: 0.97239, std: 0.01207, params: {'n_neighbors': 156, 'weights': 'distance'},\n",
       " mean: 0.97223, std: 0.01210, params: {'n_neighbors': 157, 'weights': 'distance'},\n",
       " mean: 0.97223, std: 0.01210, params: {'n_neighbors': 158, 'weights': 'distance'},\n",
       " mean: 0.97190, std: 0.01281, params: {'n_neighbors': 159, 'weights': 'distance'},\n",
       " mean: 0.97223, std: 0.01210, params: {'n_neighbors': 160, 'weights': 'distance'},\n",
       " mean: 0.97223, std: 0.01210, params: {'n_neighbors': 161, 'weights': 'distance'},\n",
       " mean: 0.97223, std: 0.01210, params: {'n_neighbors': 162, 'weights': 'distance'},\n",
       " mean: 0.97174, std: 0.01286, params: {'n_neighbors': 163, 'weights': 'distance'},\n",
       " mean: 0.97206, std: 0.01222, params: {'n_neighbors': 164, 'weights': 'distance'},\n",
       " mean: 0.97174, std: 0.01286, params: {'n_neighbors': 165, 'weights': 'distance'},\n",
       " mean: 0.97255, std: 0.01197, params: {'n_neighbors': 166, 'weights': 'distance'},\n",
       " mean: 0.97190, std: 0.01281, params: {'n_neighbors': 167, 'weights': 'distance'},\n",
       " mean: 0.97206, std: 0.01279, params: {'n_neighbors': 168, 'weights': 'distance'},\n",
       " mean: 0.97190, std: 0.01281, params: {'n_neighbors': 169, 'weights': 'distance'},\n",
       " mean: 0.97158, std: 0.01296, params: {'n_neighbors': 170, 'weights': 'distance'},\n",
       " mean: 0.97206, std: 0.01216, params: {'n_neighbors': 171, 'weights': 'distance'},\n",
       " mean: 0.97190, std: 0.01250, params: {'n_neighbors': 172, 'weights': 'distance'},\n",
       " mean: 0.97206, std: 0.01194, params: {'n_neighbors': 173, 'weights': 'distance'},\n",
       " mean: 0.97255, std: 0.01173, params: {'n_neighbors': 174, 'weights': 'distance'},\n",
       " mean: 0.97255, std: 0.01168, params: {'n_neighbors': 175, 'weights': 'distance'},\n",
       " mean: 0.97255, std: 0.01173, params: {'n_neighbors': 176, 'weights': 'distance'},\n",
       " mean: 0.97223, std: 0.01243, params: {'n_neighbors': 177, 'weights': 'distance'},\n",
       " mean: 0.97255, std: 0.01173, params: {'n_neighbors': 178, 'weights': 'distance'},\n",
       " mean: 0.97239, std: 0.01233, params: {'n_neighbors': 179, 'weights': 'distance'},\n",
       " mean: 0.97239, std: 0.01176, params: {'n_neighbors': 180, 'weights': 'distance'},\n",
       " mean: 0.97223, std: 0.01243, params: {'n_neighbors': 181, 'weights': 'distance'},\n",
       " mean: 0.97255, std: 0.01173, params: {'n_neighbors': 182, 'weights': 'distance'},\n",
       " mean: 0.97223, std: 0.01243, params: {'n_neighbors': 183, 'weights': 'distance'},\n",
       " mean: 0.97206, std: 0.01245, params: {'n_neighbors': 184, 'weights': 'distance'},\n",
       " mean: 0.97206, std: 0.01254, params: {'n_neighbors': 185, 'weights': 'distance'},\n",
       " mean: 0.97206, std: 0.01254, params: {'n_neighbors': 186, 'weights': 'distance'},\n",
       " mean: 0.97223, std: 0.01243, params: {'n_neighbors': 187, 'weights': 'distance'},\n",
       " mean: 0.97239, std: 0.01185, params: {'n_neighbors': 188, 'weights': 'distance'},\n",
       " mean: 0.97190, std: 0.01242, params: {'n_neighbors': 189, 'weights': 'distance'},\n",
       " mean: 0.97190, std: 0.01170, params: {'n_neighbors': 190, 'weights': 'distance'},\n",
       " mean: 0.97190, std: 0.01248, params: {'n_neighbors': 191, 'weights': 'distance'},\n",
       " mean: 0.97174, std: 0.01251, params: {'n_neighbors': 192, 'weights': 'distance'},\n",
       " mean: 0.97174, std: 0.01251, params: {'n_neighbors': 193, 'weights': 'distance'},\n",
       " mean: 0.97158, std: 0.01238, params: {'n_neighbors': 194, 'weights': 'distance'},\n",
       " mean: 0.97141, std: 0.01278, params: {'n_neighbors': 195, 'weights': 'distance'},\n",
       " mean: 0.97158, std: 0.01276, params: {'n_neighbors': 196, 'weights': 'distance'},\n",
       " mean: 0.97158, std: 0.01263, params: {'n_neighbors': 197, 'weights': 'distance'},\n",
       " mean: 0.97141, std: 0.01278, params: {'n_neighbors': 198, 'weights': 'distance'},\n",
       " mean: 0.97141, std: 0.01278, params: {'n_neighbors': 199, 'weights': 'distance'}]"
      ]
     },
     "execution_count": 36,
     "metadata": {},
     "output_type": "execute_result"
    }
   ],
   "source": [
    "from sklearn.model_selection import GridSearchCV\n",
    "k1_range = list(range(1,200))\n",
    "weight_options = ['distance']\n",
    "param_dist = dict(n_neighbors=k1_range, weights=weight_options)\n",
    "rand = GridSearchCV(knn, param_dist, cv=10, scoring='recall')\n",
    "rand.fit(X, y)\n",
    "rand.grid_scores_"
   ]
  },
  {
   "cell_type": "code",
   "execution_count": 37,
   "metadata": {},
   "outputs": [
    {
     "name": "stdout",
     "output_type": "stream",
     "text": [
      "0.975312525593\n",
      "{'n_neighbors': 18, 'weights': 'distance'}\n",
      "KNeighborsClassifier(algorithm='auto', leaf_size=30, metric='minkowski',\n",
      "           metric_params=None, n_jobs=1, n_neighbors=18, p=2,\n",
      "           weights='distance')\n"
     ]
    }
   ],
   "source": [
    "print(rand.best_score_)\n",
    "print(rand.best_params_)\n",
    "print(rand.best_estimator_)"
   ]
  },
  {
   "cell_type": "code",
   "execution_count": 12,
   "metadata": {},
   "outputs": [
    {
     "name": "stderr",
     "output_type": "stream",
     "text": [
      "/anaconda3/lib/python3.6/site-packages/sklearn/model_selection/_search.py:761: DeprecationWarning: The grid_scores_ attribute was deprecated in version 0.18 in favor of the more elaborate cv_results_ attribute. The grid_scores_ attribute will not be available from 0.20\n",
      "  DeprecationWarning)\n"
     ]
    },
    {
     "data": {
      "text/plain": [
       "[mean: 0.92239, std: 0.01136, params: {'n_neighbors': 20},\n",
       " mean: 0.92194, std: 0.01291, params: {'n_neighbors': 21},\n",
       " mean: 0.92049, std: 0.01075, params: {'n_neighbors': 22},\n",
       " mean: 0.91913, std: 0.01286, params: {'n_neighbors': 23},\n",
       " mean: 0.92004, std: 0.01303, params: {'n_neighbors': 24},\n",
       " mean: 0.91967, std: 0.01464, params: {'n_neighbors': 25},\n",
       " mean: 0.91958, std: 0.01350, params: {'n_neighbors': 26},\n",
       " mean: 0.91714, std: 0.01439, params: {'n_neighbors': 27},\n",
       " mean: 0.91895, std: 0.01104, params: {'n_neighbors': 28},\n",
       " mean: 0.91814, std: 0.01185, params: {'n_neighbors': 29}]"
      ]
     },
     "execution_count": 12,
     "metadata": {},
     "output_type": "execute_result"
    }
   ],
   "source": [
    "from sklearn.model_selection import GridSearchCV\n",
    "knn = KNeighborsClassifier()\n",
    "k_range = list(range(20,30))\n",
    "param_grid = dict(n_neighbors=k_range)\n",
    "grid = GridSearchCV(knn, param_grid, cv=5, scoring='accuracy')\n",
    "grid.fit(X, y);\n",
    "grid.grid_scores_"
   ]
  },
  {
   "cell_type": "code",
   "execution_count": 6,
   "metadata": {},
   "outputs": [
    {
     "name": "stdout",
     "output_type": "stream",
     "text": [
      "0.922388059701\n",
      "{'n_neighbors': 20}\n",
      "KNeighborsClassifier(algorithm='auto', leaf_size=30, metric='minkowski',\n",
      "           metric_params=None, n_jobs=1, n_neighbors=20, p=2,\n",
      "           weights='uniform')\n"
     ]
    }
   ],
   "source": [
    "#get the best\n",
    "print(grid.best_score_)\n",
    "print(grid.best_params_)\n",
    "print(grid.best_estimator_)"
   ]
  },
  {
   "cell_type": "code",
   "execution_count": 8,
   "metadata": {},
   "outputs": [
    {
     "name": "stdout",
     "output_type": "stream",
     "text": [
      "{'n_neighbors': 20}\n",
      "[ 0.92857143  0.92450271  0.93848937  0.91493213  0.90542986]\n",
      "0.922388059701\n"
     ]
    },
    {
     "name": "stderr",
     "output_type": "stream",
     "text": [
      "/anaconda3/lib/python3.6/site-packages/sklearn/model_selection/_search.py:761: DeprecationWarning: The grid_scores_ attribute was deprecated in version 0.18 in favor of the more elaborate cv_results_ attribute. The grid_scores_ attribute will not be available from 0.20\n",
      "  DeprecationWarning)\n",
      "/anaconda3/lib/python3.6/site-packages/sklearn/model_selection/_search.py:761: DeprecationWarning: The grid_scores_ attribute was deprecated in version 0.18 in favor of the more elaborate cv_results_ attribute. The grid_scores_ attribute will not be available from 0.20\n",
      "  DeprecationWarning)\n",
      "/anaconda3/lib/python3.6/site-packages/sklearn/model_selection/_search.py:761: DeprecationWarning: The grid_scores_ attribute was deprecated in version 0.18 in favor of the more elaborate cv_results_ attribute. The grid_scores_ attribute will not be available from 0.20\n",
      "  DeprecationWarning)\n"
     ]
    }
   ],
   "source": [
    "#know more about the best\n",
    "print(grid.grid_scores_[0].parameters)\n",
    "print(grid.grid_scores_[0].cv_validation_scores)\n",
    "print(grid.grid_scores_[0].mean_validation_score)"
   ]
  },
  {
   "cell_type": "code",
   "execution_count": 13,
   "metadata": {},
   "outputs": [
    {
     "name": "stderr",
     "output_type": "stream",
     "text": [
      "/anaconda3/lib/python3.6/site-packages/sklearn/model_selection/_search.py:761: DeprecationWarning: The grid_scores_ attribute was deprecated in version 0.18 in favor of the more elaborate cv_results_ attribute. The grid_scores_ attribute will not be available from 0.20\n",
      "  DeprecationWarning)\n"
     ]
    },
    {
     "data": {
      "text/plain": [
       "[mean: 0.95739, std: 0.02025, params: {'weights': 'distance', 'n_neighbors': 33},\n",
       " mean: 0.91886, std: 0.00700, params: {'weights': 'uniform', 'n_neighbors': 58},\n",
       " mean: 0.93668, std: 0.01477, params: {'weights': 'uniform', 'n_neighbors': 9},\n",
       " mean: 0.95468, std: 0.02164, params: {'weights': 'distance', 'n_neighbors': 71},\n",
       " mean: 0.91226, std: 0.00675, params: {'weights': 'uniform', 'n_neighbors': 79},\n",
       " mean: 0.91823, std: 0.00612, params: {'weights': 'uniform', 'n_neighbors': 64},\n",
       " mean: 0.91515, std: 0.00541, params: {'weights': 'uniform', 'n_neighbors': 71},\n",
       " mean: 0.93496, std: 0.00959, params: {'weights': 'uniform', 'n_neighbors': 16},\n",
       " mean: 0.93641, std: 0.01146, params: {'weights': 'uniform', 'n_neighbors': 10},\n",
       " mean: 0.95414, std: 0.02154, params: {'weights': 'distance', 'n_neighbors': 84}]"
      ]
     },
     "execution_count": 13,
     "metadata": {},
     "output_type": "execute_result"
    }
   ],
   "source": [
    "#randomizedSearchCV\n",
    "from sklearn.model_selection import RandomizedSearchCV\n",
    "k1_range = list(range(1,100))\n",
    "weight_options = ['uniform', 'distance']\n",
    "param_dist = dict(n_neighbors=k1_range, weights=weight_options)\n",
    "rand = RandomizedSearchCV(knn, param_dist, cv=10, scoring='accuracy', n_iter=10, random_state=42)\n",
    "rand.fit(X, y)\n",
    "rand.grid_scores_"
   ]
  },
  {
   "cell_type": "code",
   "execution_count": 14,
   "metadata": {},
   "outputs": [
    {
     "name": "stderr",
     "output_type": "stream",
     "text": [
      "/anaconda3/lib/python3.6/site-packages/sklearn/model_selection/_search.py:761: DeprecationWarning: The grid_scores_ attribute was deprecated in version 0.18 in favor of the more elaborate cv_results_ attribute. The grid_scores_ attribute will not be available from 0.20\n",
      "  DeprecationWarning)\n"
     ]
    },
    {
     "data": {
      "text/plain": [
       "[mean: 0.97304, std: 0.01147, params: {'weights': 'distance', 'n_neighbors': 33},\n",
       " mean: 0.93828, std: 0.00963, params: {'weights': 'uniform', 'n_neighbors': 58},\n",
       " mean: 0.95485, std: 0.00767, params: {'weights': 'uniform', 'n_neighbors': 9},\n",
       " mean: 0.97271, std: 0.01085, params: {'weights': 'distance', 'n_neighbors': 71},\n",
       " mean: 0.93991, std: 0.01102, params: {'weights': 'uniform', 'n_neighbors': 79},\n",
       " mean: 0.94039, std: 0.00752, params: {'weights': 'uniform', 'n_neighbors': 64},\n",
       " mean: 0.94169, std: 0.01000, params: {'weights': 'uniform', 'n_neighbors': 71},\n",
       " mean: 0.94575, std: 0.01030, params: {'weights': 'uniform', 'n_neighbors': 16},\n",
       " mean: 0.94202, std: 0.00857, params: {'weights': 'uniform', 'n_neighbors': 10},\n",
       " mean: 0.97255, std: 0.01115, params: {'weights': 'distance', 'n_neighbors': 84}]"
      ]
     },
     "execution_count": 14,
     "metadata": {},
     "output_type": "execute_result"
    }
   ],
   "source": [
    "#randomizedSearchCV\n",
    "from sklearn.model_selection import RandomizedSearchCV\n",
    "k1_range = list(range(1,100))\n",
    "weight_options = ['uniform', 'distance']\n",
    "param_dist = dict(n_neighbors=k1_range, weights=weight_options)\n",
    "rand = RandomizedSearchCV(knn, param_dist, cv=10, scoring='recall', n_iter=10, random_state=42)\n",
    "rand.fit(X, y)\n",
    "rand.grid_scores_"
   ]
  },
  {
   "cell_type": "code",
   "execution_count": 15,
   "metadata": {},
   "outputs": [
    {
     "name": "stderr",
     "output_type": "stream",
     "text": [
      "/anaconda3/lib/python3.6/site-packages/sklearn/model_selection/_search.py:761: DeprecationWarning: The grid_scores_ attribute was deprecated in version 0.18 in favor of the more elaborate cv_results_ attribute. The grid_scores_ attribute will not be available from 0.20\n",
      "  DeprecationWarning)\n"
     ]
    },
    {
     "data": {
      "text/plain": [
       "[mean: 0.95204, std: 0.02576, params: {'weights': 'distance', 'n_neighbors': 33},\n",
       " mean: 0.91823, std: 0.01534, params: {'weights': 'uniform', 'n_neighbors': 58},\n",
       " mean: 0.93348, std: 0.02138, params: {'weights': 'uniform', 'n_neighbors': 9},\n",
       " mean: 0.94789, std: 0.02778, params: {'weights': 'distance', 'n_neighbors': 71},\n",
       " mean: 0.90636, std: 0.01341, params: {'weights': 'uniform', 'n_neighbors': 79},\n",
       " mean: 0.91544, std: 0.01408, params: {'weights': 'uniform', 'n_neighbors': 64},\n",
       " mean: 0.90943, std: 0.01145, params: {'weights': 'uniform', 'n_neighbors': 71},\n",
       " mean: 0.93836, std: 0.01691, params: {'weights': 'uniform', 'n_neighbors': 16},\n",
       " mean: 0.94407, std: 0.01824, params: {'weights': 'uniform', 'n_neighbors': 10},\n",
       " mean: 0.94709, std: 0.02721, params: {'weights': 'distance', 'n_neighbors': 84}]"
      ]
     },
     "execution_count": 15,
     "metadata": {},
     "output_type": "execute_result"
    }
   ],
   "source": [
    "#randomizedSearchCV\n",
    "from sklearn.model_selection import RandomizedSearchCV\n",
    "k1_range = list(range(1,100))\n",
    "weight_options = ['uniform', 'distance']\n",
    "param_dist = dict(n_neighbors=k1_range, weights=weight_options)\n",
    "rand = RandomizedSearchCV(knn, param_dist, cv=10, scoring='precision', n_iter=10, random_state=42)\n",
    "rand.fit(X, y)\n",
    "rand.grid_scores_"
   ]
  },
  {
   "cell_type": "code",
   "execution_count": 16,
   "metadata": {},
   "outputs": [
    {
     "name": "stderr",
     "output_type": "stream",
     "text": [
      "/anaconda3/lib/python3.6/site-packages/sklearn/model_selection/_search.py:761: DeprecationWarning: The grid_scores_ attribute was deprecated in version 0.18 in favor of the more elaborate cv_results_ attribute. The grid_scores_ attribute will not be available from 0.20\n",
      "  DeprecationWarning)\n"
     ]
    },
    {
     "data": {
      "text/plain": [
       "[mean: 0.93779, std: 0.01150, params: {'weights': 'uniform', 'n_neighbors': 100},\n",
       " mean: 0.93682, std: 0.01478, params: {'weights': 'uniform', 'n_neighbors': 199},\n",
       " mean: 0.97418, std: 0.01040, params: {'weights': 'distance', 'n_neighbors': 17},\n",
       " mean: 0.93909, std: 0.01287, params: {'weights': 'uniform', 'n_neighbors': 105},\n",
       " mean: 0.97206, std: 0.01239, params: {'weights': 'distance', 'n_neighbors': 47},\n",
       " mean: 0.93828, std: 0.01253, params: {'weights': 'uniform', 'n_neighbors': 43},\n",
       " mean: 0.97223, std: 0.01243, params: {'weights': 'distance', 'n_neighbors': 187},\n",
       " mean: 0.93715, std: 0.01120, params: {'weights': 'uniform', 'n_neighbors': 48},\n",
       " mean: 0.93747, std: 0.01178, params: {'weights': 'uniform', 'n_neighbors': 112},\n",
       " mean: 0.94039, std: 0.00752, params: {'weights': 'uniform', 'n_neighbors': 64}]"
      ]
     },
     "execution_count": 16,
     "metadata": {},
     "output_type": "execute_result"
    }
   ],
   "source": [
    "#randomizedSearchCV,recall,larger k\n",
    "from sklearn.model_selection import RandomizedSearchCV\n",
    "k5_range = list(range(1,200))\n",
    "weight_options = ['uniform', 'distance']\n",
    "param_dist = dict(n_neighbors=k5_range, weights=weight_options)\n",
    "rand = RandomizedSearchCV(knn, param_dist, cv=10, scoring='recall', n_iter=10, random_state=42)\n",
    "rand.fit(X, y)\n",
    "rand.grid_scores_"
   ]
  },
  {
   "cell_type": "code",
   "execution_count": null,
   "metadata": {},
   "outputs": [],
   "source": []
  }
 ],
 "metadata": {
  "kernelspec": {
   "display_name": "Python 3",
   "language": "python",
   "name": "python3"
  },
  "language_info": {
   "codemirror_mode": {
    "name": "ipython",
    "version": 3
   },
   "file_extension": ".py",
   "mimetype": "text/x-python",
   "name": "python",
   "nbconvert_exporter": "python",
   "pygments_lexer": "ipython3",
   "version": "3.6.4"
  }
 },
 "nbformat": 4,
 "nbformat_minor": 2
}
