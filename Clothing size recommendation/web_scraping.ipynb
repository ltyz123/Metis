{
 "cells": [
  {
   "cell_type": "markdown",
   "metadata": {},
   "source": [
    "## Web Scraping the reviews"
   ]
  },
  {
   "cell_type": "code",
   "execution_count": 302,
   "metadata": {},
   "outputs": [],
   "source": [
    "import requests\n",
    "from __future__ import print_function, division\n",
    "from bs4 import BeautifulSoup\n",
    "from selenium import webdriver\n",
    "from selenium.webdriver.common.keys import Keys\n",
    "\n",
    "import os\n",
    "chromedriver = \"/Users/apple/Downloads/chromedriver\" # path to the chromedriver executable\n",
    "os.environ[\"webdriver.chrome.driver\"] = chromedriver\n",
    "\n",
    "driver = webdriver.Chrome(chromedriver)"
   ]
  },
  {
   "cell_type": "code",
   "execution_count": 303,
   "metadata": {},
   "outputs": [],
   "source": [
    "#type in the product page\n",
    "matrix_url = \"http://us.shein.com/Sleek-Cami-Bodycon-Midi-Dress-IVORY-p-336827-cat-1727.html?rrec=true\"\n",
    "response = requests.get(matrix_url)\n",
    "page = response.text\n",
    "soup = BeautifulSoup(page,\"lxml\")"
   ]
  },
  {
   "cell_type": "code",
   "execution_count": 304,
   "metadata": {},
   "outputs": [],
   "source": [
    "driver.get(matrix_url)"
   ]
  },
  {
   "cell_type": "code",
   "execution_count": 305,
   "metadata": {},
   "outputs": [],
   "source": [
    "#Create the empty list for storage\n",
    "dataset = []"
   ]
  },
  {
   "cell_type": "code",
   "execution_count": 324,
   "metadata": {},
   "outputs": [
    {
     "data": {
      "text/plain": [
       "[['Item Size: M', 'Overall Fit: True to Size', '157', '92', '69', '95', '36'],\n",
       " ['Item Size: L', 'Overall Fit: True to Size', '165', '87', '74', '90', '34'],\n",
       " ['Item Size: S', 'Overall Fit: True to Size', '168', '82', '64', '80', '32'],\n",
       " ['Item Size: S', 'Overall Fit: Small', '154', '100', '70', '101', '34'],\n",
       " ['Item Size: M', 'Overall Fit: True to Size', '157', '92', '69', '95', '36'],\n",
       " ['Item Size: L', 'Overall Fit: True to Size', '165', '87', '74', '90', '34'],\n",
       " ['Item Size: S', 'Overall Fit: True to Size', '168', '82', '64', '80', '32'],\n",
       " ['Item Size: S', 'Overall Fit: Small', '154', '100', '70', '101', '34'],\n",
       " ['Item Size: S', 'Overall Fit: Small', '151', '86', '73', '99', '34'],\n",
       " ['Item Size: S', 'Overall Fit: True to Size', '160', '89', '71', '80', '34'],\n",
       " ['Item Size: S', 'Overall Fit: Small', '137', '70', '60', '80', '32'],\n",
       " ['Item Size: M', 'Overall Fit: True to Size', '168', '89', '80', '106', '36'],\n",
       " ['Item Size: XS', 'Overall Fit: True to Size', '137', '70', '60', '80', '32'],\n",
       " ['Item Size: S', 'Overall Fit: True to Size', '137', '77', '74', '89', '32'],\n",
       " ['Item Size: L',\n",
       "  'Overall Fit: True to Size',\n",
       "  '162',\n",
       "  '101',\n",
       "  '60',\n",
       "  '100',\n",
       "  '34'],\n",
       " ['Item Size: S', 'Overall Fit: Small', '142', '73', '63', '83', '32'],\n",
       " ['Item Size: XS', 'Overall Fit: True to Size', '155', '89', '71', '99', '32'],\n",
       " ['Item Size: M', 'Overall Fit: True to Size', '177', '87', '71', '99', '34'],\n",
       " ['Item Size: L', 'Overall Fit: True to Size', '153', '83', '74', '102', '32'],\n",
       " ['Item Size: M', 'Overall Fit: Small', '152', '84', '64', '84', '32'],\n",
       " ['Item Size: XS', 'Overall Fit: True to Size', '165', '83', '65', '90', '32'],\n",
       " ['Item Size: S', 'Overall Fit: Small', '161', '88', '66', '99', '36'],\n",
       " ['Item Size: M', 'Overall Fit: Small', '142', '70', '79', '80', '32'],\n",
       " ['Item Size: M', 'Overall Fit: True to Size', '170', '82', '68', '84', '34'],\n",
       " ['Item Size: XS', 'Overall Fit: True to Size', '158', '79', '60', '87', '32'],\n",
       " ['Item Size: L', 'Overall Fit: True to Size', '143', '77', '74', '86', '36'],\n",
       " ['Item Size: XS', 'Overall Fit: True to Size', '157', '80', '61', '89', '32'],\n",
       " ['Item Size: L', 'Overall Fit: True to Size', '168', '90', '68', '90', '34'],\n",
       " ['Item Size: L', 'Overall Fit: True to Size', '166', '84', '77', '96', '32'],\n",
       " ['Item Size: L', 'Overall Fit: True to Size', '170', '88', '65', '86', '34'],\n",
       " ['Item Size: M', 'Overall Fit: True to Size', '173', '89', '74', '85', '36'],\n",
       " ['Item Size: L', 'Overall Fit: Small', '160', '97', '80', '104', '36'],\n",
       " ['Item Size: XS', 'Overall Fit: True to Size', '149', '70', '60', '80', '32'],\n",
       " ['Item Size: L', 'Overall Fit: Small', '160', '90', '74', '100', '36'],\n",
       " ['Item Size: M', 'Overall Fit: True to Size', '138', '78', '72', '85', '34'],\n",
       " ['Item Size: XS', 'Overall Fit: True to Size', '162', '82', '60', '80', '32'],\n",
       " ['Item Size: S', 'Overall Fit: True to Size', '157', '77', '65', '83', '38'],\n",
       " ['Item Size: S', 'Overall Fit: True to Size', '159', '74', '67', '80', '34'],\n",
       " ['Item Size: S', 'Overall Fit: True to Size', '139', '72', '62', '83', '34'],\n",
       " ['Item Size: S', 'Overall Fit: True to Size', '137', '70', '60', '80', '32'],\n",
       " ['Item Size: XS', 'Overall Fit: True to Size', '159', '86', '74', '86', '32'],\n",
       " ['Item Size: M', 'Overall Fit: True to Size', '162', '82', '70', '88', '32'],\n",
       " ['Item Size: M', 'Overall Fit: True to Size', '137', '86', '71', '109', '34'],\n",
       " ['Item Size: S', 'Overall Fit: True to Size', '168', '77', '63', '80', '32'],\n",
       " ['Item Size: S', 'Overall Fit: True to Size', '159', '80', '73', '92', '34'],\n",
       " ['Item Size: L', 'Overall Fit: True to Size', '162', '90', '78', '110', '36'],\n",
       " ['Item Size: M', 'Overall Fit: Small', '139', '78', '64', '82', '32'],\n",
       " ['Item Size: S', 'Overall Fit: True to Size', '155', '87', '69', '84', '32'],\n",
       " ['Item Size: M', 'Overall Fit: Small', '153', '82', '60', '90', '34'],\n",
       " ['Item Size: S', 'Overall Fit: True to Size', '173', '82', '68', '92', '32'],\n",
       " ['Item Size: L', 'Overall Fit: Small', '154', '81', '76', '88', '36'],\n",
       " ['Item Size: S', 'Overall Fit: Small', '143', '94', '75', '94', '34'],\n",
       " ['Item Size: S', 'Overall Fit: Small', '168', '84', '63', '83', '32'],\n",
       " ['Item Size: M', 'Overall Fit: True to Size', '138', '71', '60', '80', '32'],\n",
       " ['Item Size: M', 'Overall Fit: True to Size', '154', '79', '66', '90', '32'],\n",
       " ['Item Size: M', 'Overall Fit: True to Size', '165', '83', '70', '88', '34'],\n",
       " ['Item Size: S', 'Overall Fit: Small', '158', '84', '78', '92', '36'],\n",
       " ['Item Size: XS',\n",
       "  'Overall Fit: True to Size',\n",
       "  '163',\n",
       "  '88',\n",
       "  '66',\n",
       "  '103',\n",
       "  '34'],\n",
       " ['Item Size: XS', 'Overall Fit: Small', '160', '88', '66', '93', '32'],\n",
       " ['Item Size: M', 'Overall Fit: Small', '152', '86', '70', '96', '32'],\n",
       " ['Item Size: M', 'Overall Fit: True to Size', '144', '89', '68', '80', '32'],\n",
       " ['Item Size: L', 'Overall Fit: Small', '171', '87', '73', '80', '34'],\n",
       " ['Item Size: XS', 'Overall Fit: Small', '137', '70', '60', '80', '32'],\n",
       " ['Item Size: L', 'Overall Fit: True to Size', '164', '74', '64', '84', '36'],\n",
       " ['Item Size: M', 'Overall Fit: True to Size', '150', '88', '71', '99', '34'],\n",
       " ['Item Size: S', 'Overall Fit: True to Size', '148', '80', '65', '83', '32'],\n",
       " ['Item Size: L',\n",
       "  'Overall Fit: True to Size',\n",
       "  '168',\n",
       "  '103',\n",
       "  '80',\n",
       "  '110',\n",
       "  '38'],\n",
       " ['Item Size: M', 'Overall Fit: True to Size', '152', '70', '64', '93', '36'],\n",
       " ['Item Size: S', 'Overall Fit: True to Size', '145', '87', '70', '102', '34'],\n",
       " ['Item Size: M', 'Overall Fit: True to Size', '155', '82', '66', '102', '32'],\n",
       " ['Item Size: M', 'Overall Fit: True to Size', '164', '87', '64', '87', '34'],\n",
       " ['Item Size: M', 'Overall Fit: Small', '172', '85', '71', '101', '34'],\n",
       " ['Item Size: S', 'Overall Fit: True to Size', '160', '87', '66', '89', '34'],\n",
       " ['Item Size: S', 'Overall Fit: Small', '165', '79', '74', '85', '34'],\n",
       " ['Item Size: XS', 'Overall Fit: True to Size', '165', '82', '64', '81', '32'],\n",
       " ['Item Size: L', 'Overall Fit: Small', '180', '92', '69', '95', '36']]"
      ]
     },
     "execution_count": 324,
     "metadata": {},
     "output_type": "execute_result"
    }
   ],
   "source": [
    "import re\n",
    "\n",
    "#12 pages one click\n",
    "for page in range(12):\n",
    "    required_class = ['info-size', 'info-fit', 'size-dt-ctn']\n",
    "    cust_str_dict = {}\n",
    "    for r_class in required_class:\n",
    "        res_list = driver.find_elements_by_class_name(r_class)\n",
    "        cust_str_dict[r_class] = list(map(lambda x: x.text, res_list))\n",
    "\n",
    "    one_page = []\n",
    "    # per customer\n",
    "    for i in range(len(cust_str_dict['info-fit'])):\n",
    "        record = [cust_str_dict['info-size'][i], cust_str_dict['info-fit'][i]]\n",
    "        customer_body = cust_str_dict['size-dt-ctn'][i].split('\\n')\n",
    "        for j in customer_body:\n",
    "            num = re.search('\\d+', j).group()\n",
    "            record.append(num)\n",
    "        one_page.append(record)\n",
    "    dataset.extend(one_page)\n",
    "    \n",
    "\n",
    "    go_next = driver.find_element_by_class_name('page-next')\n",
    "    go_next.click()\n",
    "        \n",
    "dataset\n",
    "\n",
    "# dataset.insert(0, ['Item Size', 'Overall Fit', 'Height', 'Bust', 'Waist', 'Hips', 'Bra Size'])\n",
    "# dataset"
   ]
  },
  {
   "cell_type": "code",
   "execution_count": 325,
   "metadata": {},
   "outputs": [],
   "source": [
    "#organize the csv format\n",
    "dataset.insert(0, ['Item Size', 'Overall Fit', 'Height', 'Bust', 'Waist', 'Hips', 'Bra Size'])"
   ]
  },
  {
   "cell_type": "code",
   "execution_count": 326,
   "metadata": {},
   "outputs": [],
   "source": [
    "#save the csv\n",
    "import csv\n",
    "\n",
    "with open(\"white.csv\", \"w\") as f:\n",
    "    writer = csv.writer(f)\n",
    "    writer.writerows(dataset)"
   ]
  }
 ],
 "metadata": {
  "kernelspec": {
   "display_name": "Python 3",
   "language": "python",
   "name": "python3"
  },
  "language_info": {
   "codemirror_mode": {
    "name": "ipython",
    "version": 3
   },
   "file_extension": ".py",
   "mimetype": "text/x-python",
   "name": "python",
   "nbconvert_exporter": "python",
   "pygments_lexer": "ipython3",
   "version": "3.6.4"
  }
 },
 "nbformat": 4,
 "nbformat_minor": 2
}
